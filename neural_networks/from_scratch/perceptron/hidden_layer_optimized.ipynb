{
 "cells": [
  {
   "cell_type": "code",
   "execution_count": 1,
   "metadata": {},
   "outputs": [],
   "source": [
    "from pathlib import Path\n",
    "import numpy as np\n",
    "import matplotlib.pyplot as plt"
   ]
  },
  {
   "cell_type": "markdown",
   "metadata": {},
   "source": [
    "### Load data"
   ]
  },
  {
   "cell_type": "code",
   "execution_count": null,
   "metadata": {},
   "outputs": [],
   "source": [
    "train_data = np.loadtxt(Path('D:/Development/Data/datasets/csv/mnist_train_small.csv'), delimiter=',')\n",
    "test_data = np.loadtxt(Path('D:/Development/Data/datasets/csv/mnist_test.csv'), delimiter=',')\n",
    "\n",
    "img_shape = (28, 28)\n",
    "img_size = 784"
   ]
  },
  {
   "cell_type": "markdown",
   "metadata": {},
   "source": [
    "### Generate dataset"
   ]
  },
  {
   "cell_type": "code",
   "execution_count": 4,
   "metadata": {},
   "outputs": [],
   "source": [
    "def one_hot(n: int, i: int) -> np.ndarray:\n",
    "    v = np.zeros(n)\n",
    "    v[i] = 1.0\n",
    "    return v"
   ]
  },
  {
   "cell_type": "code",
   "execution_count": 14,
   "metadata": {},
   "outputs": [],
   "source": [
    "x_train = train_data[:,1:] / 255.0\n",
    "y_train = np.array([one_hot(10, int(i)) for i in train_data[:,0]])\n",
    "labels_train = train_data[:,0].astype(np.int32)\n",
    "\n",
    "x_test = test_data[:,1:] / 255.0\n",
    "y_test = np.array([one_hot(10, int(i)) for i in test_data[:,0]])\n",
    "labels_test = test_data[:,0].astype(np.int32)"
   ]
  },
  {
   "cell_type": "markdown",
   "metadata": {},
   "source": [
    "### Define activation functions, derivatives and loss functions"
   ]
  },
  {
   "cell_type": "code",
   "execution_count": 6,
   "metadata": {},
   "outputs": [],
   "source": [
    "def sigmoid(x: np.ndarray) -> np.ndarray:\n",
    "    return 1 / (1 + np.exp(-x))\n",
    "\n",
    "def dsigmoid(x: np.ndarray) -> np.ndarray:\n",
    "    y = 1 / (1 + np.exp(-x))\n",
    "    return y * (1 - y)\n",
    "\n",
    "def softmax(x: np.ndarray, axis=0, keepdims=True) -> np.ndarray:\n",
    "    y = np.exp(x)\n",
    "    return y / np.sum(y, axis=axis, keepdims=keepdims)\n",
    "\n",
    "def cross_entropy(p: np.ndarray, q: np.ndarray) -> float:\n",
    "    return -np.sum(p * np.log(q))"
   ]
  },
  {
   "cell_type": "markdown",
   "metadata": {},
   "source": [
    "### Define model"
   ]
  },
  {
   "cell_type": "code",
   "execution_count": 34,
   "metadata": {},
   "outputs": [],
   "source": [
    "class MultilayerPeceptron:\n",
    "    def __init__(self, n_in: int, n_h: int, n_out: int) -> None:\n",
    "        self.W1: np.ndarray = np.random.uniform(-0.01, 0.01, (n_in, n_h))\n",
    "        self.b1: np.ndarray = np.zeros(n_h)\n",
    "\n",
    "        self.W2: np.ndarray = np.random.uniform(-0.01, 0.01, (n_h, n_out))\n",
    "        self.b2: np.ndarray = np.zeros(n_out)\n",
    "    \n",
    "    @property\n",
    "    def parameters(self) -> tuple[np.ndarray]:\n",
    "        return (self.W1, self.b1, self.W2, self.b2)\n",
    "\n",
    "    def __call__(self, x: np.ndarray)-> np.ndarray:\n",
    "        if x.ndim == 1:\n",
    "            x = x.reshape((1, x.size))\n",
    "        h = sigmoid(x @ self.W1 + self.b1)\n",
    "        p = softmax(h @ self.W2 + self.b2)\n",
    "        return p.ravel() if len(p) == 1 else p\n",
    "    \n",
    "    def save(self, fp: Path) -> None:\n",
    "        np.savez(fp, w1=self.W1, b1=self.b1, w2=self.W2, b2=self.b2)\n",
    "\n",
    "    def load(self, fp: Path) -> None:\n",
    "        params = np.load(fp)\n",
    "        self.W1, self.b1 = params['w1'], params['b1']\n",
    "        self.W2, self.b2 = params['w2'], params['b2']\n",
    "\n",
    "def calc_loss(model: MultilayerPeceptron, X: np.ndarray, P: np.ndarray) -> float:\n",
    "    return np.mean([cross_entropy(p,q) for (p,q) in zip(P,model(X))])\n",
    "\n",
    "def calc_accuracy(model: MultilayerPeceptron, X: np.ndarray, P: np.ndarray) -> float:\n",
    "    fn = lambda a, b: 1 if np.argmax(a) == np.argmax(b) else 0\n",
    "    return np.mean([fn(p,q) for (p,q) in zip(P,model(X))])"
   ]
  },
  {
   "cell_type": "markdown",
   "metadata": {},
   "source": [
    "### SGD algorithm implementation"
   ]
  },
  {
   "cell_type": "code",
   "execution_count": 49,
   "metadata": {},
   "outputs": [],
   "source": [
    "def train(model: MultilayerPeceptron, X: np.ndarray, Y: np.ndarray, lr, batch_size, max_epoch) -> None:\n",
    "    n_samples = len(X)\n",
    "    n_batches = n_samples // batch_size\n",
    "\n",
    "    for epoch in range(max_epoch):\n",
    "        idxs = np.random.permutation(n_samples)\n",
    "        batches = np.array_split(idxs, n_batches)\n",
    "        \n",
    "        for batch in batches:\n",
    "            U = X[batch] @ model.W1 + model.b1\n",
    "            H = sigmoid(U)\n",
    "\n",
    "            dLdy = softmax(H @ model.W2 + model.b2, 1) - Y[batch]\n",
    "            dLdu = dLdy @ model.W2.T * dsigmoid(U)\n",
    "\n",
    "            dW2 = np.mean(np.einsum('ij,ik->ijk', H, dLdy), axis=0)\n",
    "            db2 = np.mean(dLdy, axis=0)\n",
    "\n",
    "            dW1 = np.mean(np.einsum('ij,ik->ijk', X[batch], dLdu), axis=0)\n",
    "            db1 = np.mean(dLdu, axis=0)\n",
    "            \n",
    "            model.W1 -= lr * dW1\n",
    "            model.b1 -= lr * db1\n",
    "\n",
    "            model.W2 -= lr * dW2\n",
    "            model.b2 -= lr * db2"
   ]
  },
  {
   "cell_type": "markdown",
   "metadata": {},
   "source": [
    "### Create, train and test model"
   ]
  },
  {
   "cell_type": "code",
   "execution_count": 52,
   "metadata": {},
   "outputs": [
    {
     "name": "stdout",
     "output_type": "stream",
     "text": [
      "untrained loss: 9.21\n",
      "trained loss: 7.703\n",
      "test set accuracy: 84.2%\n"
     ]
    }
   ],
   "source": [
    "n_in = 784\n",
    "n_h = 16\n",
    "n_out = 10\n",
    "\n",
    "learning_rate = 0.1\n",
    "batch_size = 64\n",
    "max_epoch = 4\n",
    "\n",
    "model = MultilayerPeceptron(n_in, n_h, n_out)\n",
    "\n",
    "print(f\"untrained loss: {round(calc_loss(model, x_test, y_test), 3)}\")\n",
    "train(model, x_train, y_train, learning_rate, batch_size, max_epoch)\n",
    "print(f\"trained loss: {round(calc_loss(model, x_test, y_test), 3)}\")\n",
    "\n",
    "model_accuracy = calc_accuracy(model, x_test, y_test)\n",
    "print(f\"test set accuracy: {round(model_accuracy * 100, 2)}%\")"
   ]
  },
  {
   "cell_type": "markdown",
   "metadata": {},
   "source": [
    "### Save, load and test model"
   ]
  },
  {
   "cell_type": "code",
   "execution_count": 53,
   "metadata": {},
   "outputs": [],
   "source": [
    "fp = Path('D:/Development/Data/tmp/parameters.npz')\n",
    "model.save(fp)"
   ]
  },
  {
   "cell_type": "code",
   "execution_count": 54,
   "metadata": {},
   "outputs": [],
   "source": [
    "model = MultilayerPeceptron(n_in, n_h, n_out)\n",
    "model.load(fp)"
   ]
  },
  {
   "cell_type": "code",
   "execution_count": 55,
   "metadata": {},
   "outputs": [
    {
     "name": "stdout",
     "output_type": "stream",
     "text": [
      "loss: 7.703\n",
      "accuracy: 84.2%\n"
     ]
    }
   ],
   "source": [
    "model_loss = calc_loss(model, x_test, y_test)\n",
    "model_accuracy = calc_accuracy(model, x_test, y_test)\n",
    "\n",
    "print(f\"loss: {round(model_loss, 3)}\")\n",
    "print(f\"accuracy: {round(model_accuracy * 100, 2)}%\")"
   ]
  },
  {
   "cell_type": "markdown",
   "metadata": {},
   "source": [
    "### Caclculating Precision, Recall and Accuracy for all digits"
   ]
  },
  {
   "cell_type": "code",
   "execution_count": 56,
   "metadata": {},
   "outputs": [
    {
     "name": "stdout",
     "output_type": "stream",
     "text": [
      "precision [0.939 0.956 0.899 0.868 0.774 0.736 0.933 0.944 0.695 0.725]\n",
      "recall    [0.905 0.936 0.836 0.819 0.822 0.765 0.886 0.813 0.864 0.758]\n",
      "accuracy  [0.982 0.986 0.969 0.965 0.954 0.949 0.98  0.972 0.944 0.94 ]\n"
     ]
    }
   ],
   "source": [
    "counts = {'TP': np.zeros(10),'TN': np.zeros(10),'FP': np.zeros(10),'FN': np.zeros(10)}\n",
    "labels_guess_test = np.apply_along_axis(np.argmax, 1, model(x_test))\n",
    "\n",
    "for label_guess, true_label in zip(labels_guess_test, labels_test):\n",
    "    if label_guess == true_label:\n",
    "        v = one_hot(10, label_guess)\n",
    "        counts['TP'] += v\n",
    "        counts['TN'] += 1-v\n",
    "    else:\n",
    "        counts['FP'][label_guess] += 1\n",
    "        counts['FN'][true_label] += 1\n",
    "\n",
    "np_counts = np.array(list(counts.values()))\n",
    "\n",
    "precision = counts['TP'] / (counts['TP'] + counts['FP'])\n",
    "recall = counts['TP'] / (counts['TP'] + counts['FN'])\n",
    "accuracy = (counts['TP'] + counts['TN']) / (np.sum(np_counts, axis=0))\n",
    "\n",
    "print('precision', np.round(precision, 3))\n",
    "print('recall   ', np.round(recall, 3))\n",
    "print('accuracy ', np.round(accuracy, 3))"
   ]
  },
  {
   "cell_type": "markdown",
   "metadata": {},
   "source": [
    "### Visualize parameters"
   ]
  },
  {
   "cell_type": "code",
   "execution_count": 57,
   "metadata": {},
   "outputs": [
    {
     "data": {
      "image/png": "[encoded data removed]",
      "text/plain": [
       "<Figure size 500x500 with 16 Axes>"
      ]
     },
     "metadata": {},
     "output_type": "display_data"
    }
   ],
   "source": [
    "fig, axes = plt.subplots(4,4)\n",
    "fig.set_figheight(5)\n",
    "fig.set_figwidth(5)\n",
    "fig.set_dpi(100)\n",
    "\n",
    "for i, ax in enumerate(axes.ravel()):\n",
    "    ax.matshow(model.W1[:,i].reshape(img_shape), cmap='berlin')\n",
    "    ax.set_xticks([])\n",
    "    ax.set_yticks([])\n",
    "\n",
    "plt.tight_layout()\n",
    "plt.show()"
   ]
  },
  {
   "cell_type": "code",
   "execution_count": 58,
   "metadata": {},
   "outputs": [
    {
     "data": {
      "image/png": "[encoded data removed]",
      "text/plain": [
       "<Figure size 500x200 with 10 Axes>"
      ]
     },
     "metadata": {},
     "output_type": "display_data"
    }
   ],
   "source": [
    "fig, axes = plt.subplots(2,5)\n",
    "fig.set_figheight(2)\n",
    "fig.set_figwidth(5)\n",
    "fig.set_dpi(100)\n",
    "\n",
    "for i, ax in enumerate(axes.ravel()):\n",
    "    ax.matshow(model.W2[:,i].reshape((4,4)), cmap='berlin')\n",
    "    ax.set_xticks([])\n",
    "    ax.set_yticks([])\n",
    "\n",
    "plt.tight_layout()\n",
    "plt.show()"
   ]
  }
 ],
 "metadata": {
  "kernelspec": {
   "display_name": ".jupyter",
   "language": "python",
   "name": "python3"
  },
  "language_info": {
   "codemirror_mode": {
    "name": "ipython",
    "version": 3
   },
   "file_extension": ".py",
   "mimetype": "text/x-python",
   "name": "python",
   "nbconvert_exporter": "python",
   "pygments_lexer": "ipython3",
   "version": "3.12.8"
  }
 },
 "nbformat": 4,
 "nbformat_minor": 2
}

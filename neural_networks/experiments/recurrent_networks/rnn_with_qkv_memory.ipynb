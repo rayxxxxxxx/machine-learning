{
  "cells": [
    {
      "cell_type": "code",
      "execution_count": 2,
      "metadata": {
        "id": "nOuFBbijCnPi"
      },
      "outputs": [],
      "source": [
        "import string\n",
        "\n",
        "import torch\n",
        "import torch.nn as nn\n",
        "import torch.nn.functional as F"
      ]
    },
    {
      "cell_type": "code",
      "execution_count": 3,
      "metadata": {},
      "outputs": [
        {
          "name": "stdout",
          "output_type": "stream",
          "text": [
            "95  !\"#$%&'()*+,-./:;<=>?@[\\]^_`{|}~0123456789abcdefghijklmnopqrstuvwxyzABCDEFGHIJKLMNOPQRSTUVWXYZ\n"
          ]
        }
      ],
      "source": [
        "abc = ' ' + string.punctuation + string.digits + string.ascii_letters\n",
        "len_abc = len(abc)\n",
        "print(len_abc, abc)\n",
        "\n",
        "itoc = {i:c for i,c in enumerate(abc)}\n",
        "ctoi = {c:i for i,c in enumerate(abc)}\n",
        "\n",
        "def encode(s: str) -> list[int]:\n",
        "    return [ctoi[c] for c in s]\n",
        "\n",
        "def decode(l: list[int]) -> str:\n",
        "    return ''.join([itoc[i] for i in l])\n",
        "\n",
        "def enc2tnsr(l: list[int]) -> torch.Tensor:\n",
        "    return torch.tensor(l).long()\n",
        "\n",
        "def enc2seq(l: list[int]) -> torch.Tensor:\n",
        "    return F.one_hot(enc2tnsr(l), len_abc).float()\n",
        "\n",
        "def enct2seq(t: torch.Tensor) -> torch.Tensor:\n",
        "    return F.one_hot(t, len_abc).float()\n",
        "\n",
        "def str2seq(s: str) -> torch.Tensor:\n",
        "    encoded = torch.tensor(encode(s)).long()\n",
        "    return F.one_hot(encoded, len_abc).float()"
      ]
    },
    {
      "cell_type": "code",
      "execution_count": 4,
      "metadata": {
        "id": "dMmVk4WcxNKD"
      },
      "outputs": [],
      "source": [
        "class WriteHead(nn.Module):\n",
        "    def __init__(self, in_dim, n_mem, mem_dim, key_dim) -> None:\n",
        "        super(WriteHead, self).__init__()\n",
        "\n",
        "        self.Wq = nn.Linear(in_dim, key_dim)\n",
        "        self.Wk = nn.Linear(mem_dim, key_dim)\n",
        "        self.Wv = nn.Linear(in_dim, mem_dim)\n",
        "        self.Wg = nn.Parameter(torch.rand(mem_dim, n_mem))\n",
        "\n",
        "    def forward(self, x: torch.Tensor, M: torch.Tensor) -> torch.Tensor:\n",
        "        Q, K, V = self.Wq(x), self.Wk(M), self.Wv(x)\n",
        "        a = F.softmax(K @ Q.transpose(-1,-2), dim=-2)\n",
        "        g = F.sigmoid(V @ self.Wg @ M)\n",
        "        return a @ V * g + (1-a) * M * (1-g)\n",
        "\n",
        "\n",
        "class ReadHead(nn.Module):\n",
        "    def __init__(self, in_dim, n_mem, mem_dim, key_dim) -> None:\n",
        "        super(ReadHead, self).__init__()\n",
        "\n",
        "        self.Wq = nn.Linear(in_dim, key_dim)\n",
        "        self.Wk = nn.Linear(mem_dim, key_dim)\n",
        "        self.Wv = nn.Linear(mem_dim, in_dim)\n",
        "        self.Wg = nn.Parameter(torch.rand(in_dim, n_mem))\n",
        "\n",
        "    def forward(self, x: torch.Tensor, M: torch.Tensor) -> torch.Tensor:\n",
        "        Q, K, V = self.Wq(x), self.Wk(M), self.Wv(M)\n",
        "        a = F.softmax(Q @ K.transpose(-1,-2), dim=-1)\n",
        "        g = F.sigmoid(x @ self.Wg @ V)\n",
        "        return torch.sum(a @ V * g + (1-g) * x, dim=-2)"
      ]
    },
    {
      "cell_type": "code",
      "execution_count": 5,
      "metadata": {
        "id": "k_zbPTs6t8Oz"
      },
      "outputs": [],
      "source": [
        "class WriteHeadBlock(nn.Module):\n",
        "    def __init__(self, in_dim, n_mem, mem_dim, key_dim, n_heads) -> None:\n",
        "        super(WriteHeadBlock, self).__init__()\n",
        "\n",
        "        self.heads = nn.ModuleList([WriteHead(in_dim, n_mem, mem_dim, key_dim//n_heads) for _ in range(n_heads)])\n",
        "        self.W_o = nn.Linear(n_heads*mem_dim, mem_dim)\n",
        "\n",
        "    def forward(self, x: torch.Tensor, M: torch.Tensor) -> torch.Tensor:\n",
        "        M_w = [head(x, M) for head in self.heads]\n",
        "        return self.W_o(torch.cat(M_w, dim=-1))\n",
        "\n",
        "\n",
        "class ReadHeadBlock(nn.Module):\n",
        "    def __init__(self, in_dim, n_mem, mem_dim, key_dim, n_heads) -> None:\n",
        "        super(ReadHeadBlock, self).__init__()\n",
        "\n",
        "        self.heads = nn.ModuleList([ReadHead(in_dim, n_mem, mem_dim, key_dim//n_heads) for _ in range(n_heads)])\n",
        "        self.W_o = nn.Linear(n_heads*in_dim, in_dim)\n",
        "\n",
        "    def forward(self, x: torch.Tensor, M: torch.Tensor) -> torch.Tensor:\n",
        "        M_r = [head(x, M) for head in self.heads]\n",
        "        return self.W_o(torch.cat(M_r, dim=-1))"
      ]
    },
    {
      "cell_type": "code",
      "execution_count": 6,
      "metadata": {},
      "outputs": [],
      "source": [
        "class Memory(nn.Module):\n",
        "    def __init__(self, in_dim, n_mem, mem_dim, key_dim, n_heads) -> None:\n",
        "        super(Memory, self).__init__()\n",
        "\n",
        "        self.register_buffer('M', torch.rand(1, n_mem, mem_dim))\n",
        "        self.write_block = WriteHeadBlock(in_dim, n_mem, mem_dim, key_dim, n_heads)\n",
        "        self.read_block = ReadHeadBlock(in_dim, n_mem, mem_dim, key_dim, n_heads)\n",
        "\n",
        "    def reset_memory(self) -> None:\n",
        "        self.M = torch.rand(self.M.shape)\n",
        "        nn.init.xavier_uniform_(self.M)\n",
        "\n",
        "    def forward(self, x: torch.Tensor) -> torch.Tensor:\n",
        "        if x.ndim == 2:\n",
        "            x = x.unsqueeze(-2)\n",
        "        \n",
        "        if x.shape[0] > 1 and self.M.shape[0] != x.shape[0]:\n",
        "            self.M = self.M.expand(x.shape[0], *self.M.shape[1:])\n",
        "\n",
        "        self.M = self.write_block(x, self.M)\n",
        "        return self.read_block(x, self.M)"
      ]
    },
    {
      "cell_type": "code",
      "execution_count": 13,
      "metadata": {},
      "outputs": [
        {
          "name": "stdout",
          "output_type": "stream",
          "text": [
            "4128\n",
            "17200\n"
          ]
        }
      ],
      "source": [
        "IN_DIM = len_abc\n",
        "H_DIM = 32\n",
        "N_MEM = 32\n",
        "MEM_DIM = 16\n",
        "KEY_DIM = 16\n",
        "N_HEADS = 4\n",
        "\n",
        "rnn = nn.RNN(IN_DIM, H_DIM, batch_first=True)\n",
        "mem = Memory(H_DIM, N_MEM, MEM_DIM, KEY_DIM, N_HEADS)\n",
        "classifier = nn.Sequential(nn.Linear(H_DIM, len_abc), nn.Softmax(dim=0))\n",
        "\n",
        "print(sum([p.numel() for p in rnn.parameters()]))\n",
        "print(sum([p.numel() for p in mem.parameters()]))"
      ]
    },
    {
      "cell_type": "code",
      "execution_count": 244,
      "metadata": {},
      "outputs": [],
      "source": [
        "txt = 'The quick brown fox jumps over the lazy dog.'\n",
        "chunks = [encode(chnk) for chnk in txt.split(' ')]"
      ]
    },
    {
      "cell_type": "code",
      "execution_count": 245,
      "metadata": {},
      "outputs": [],
      "source": [
        "# UNBATCHED INPUT\n",
        "\n",
        "h = None\n",
        "mem.reset_memory()\n",
        "for chnk in chunks:\n",
        "    seq = enc2seq(chnk)\n",
        "    _, h = rnn(seq, h)#; print(f'{h.shape=}')\n",
        "    m_r = mem(h)#; print(f'{m_r.shape=}')\n",
        "    h += m_r#; print(f'{h.shape=}')"
      ]
    },
    {
      "cell_type": "code",
      "execution_count": 246,
      "metadata": {},
      "outputs": [],
      "source": [
        "# BATCHED INPUT\n",
        "\n",
        "h = None\n",
        "mem.reset_memory()\n",
        "for chnk in chunks:\n",
        "    seq = enc2seq(chnk)\n",
        "    seq = seq.expand(7, *seq.shape)\n",
        "    _, h = rnn(seq, h)#; print(f'{h.shape=}')\n",
        "    m_r = mem(h.transpose(0,1))#; print(f'{m_r.shape=}')\n",
        "    h += m_r#; print(f'{h.shape=}')"
      ]
    },
    {
      "cell_type": "code",
      "execution_count": 255,
      "metadata": {},
      "outputs": [
        {
          "name": "stdout",
          "output_type": "stream",
          "text": [
            "RwX$.2_m3xU.Rpzm8n;>:|M(#{1f\\n!-KQ4bNQ\\ShPx(xd<Q5l8AjK>.S2E*` \\n7<J^P}8x6TM7<IO.-U21/o/0`mcXrovD3G,IPp,P;m_Ny Er&;X!9y[]t,D;1JvA\n"
          ]
        }
      ],
      "source": [
        "n_tokens = 128\n",
        "block_size = 8\n",
        "\n",
        "result = []\n",
        "i, j = 0, 0\n",
        "\n",
        "h = None\n",
        "mem.reset_memory()\n",
        "with torch.no_grad():\n",
        "    for t in range(n_tokens):\n",
        "        if j == block_size:\n",
        "            h = mem.forward(h)\n",
        "            j = 0\n",
        "        \n",
        "        _, h = rnn(enc2seq([i]), h)\n",
        "        p = classifier(h)\n",
        "        i = torch.multinomial(p, 1, True)\n",
        "        result.append(i.item())\n",
        "\n",
        "print(decode(result))"
      ]
    }
  ],
  "metadata": {
    "colab": {
      "provenance": [],
      "toc_visible": true
    },
    "kernelspec": {
      "display_name": ".pytorch",
      "language": "python",
      "name": "python3"
    },
    "language_info": {
      "codemirror_mode": {
        "name": "ipython",
        "version": 3
      },
      "file_extension": ".py",
      "mimetype": "text/x-python",
      "name": "python",
      "nbconvert_exporter": "python",
      "pygments_lexer": "ipython3",
      "version": "3.12.8"
    }
  },
  "nbformat": 4,
  "nbformat_minor": 0
}

{
  "cells": [
    {
      "cell_type": "code",
      "execution_count": 1,
      "metadata": {
        "id": "nOuFBbijCnPi"
      },
      "outputs": [],
      "source": [
        "import torch\n",
        "import torch.nn as nn\n",
        "import torch.nn.functional as F\n",
        "\n",
        "import string"
      ]
    },
    {
      "cell_type": "code",
      "execution_count": 10,
      "metadata": {},
      "outputs": [
        {
          "name": "stdout",
          "output_type": "stream",
          "text": [
            "95  !\"#$%&'()*+,-./:;<=>?@[\\]^_`{|}~0123456789abcdefghijklmnopqrstuvwxyzABCDEFGHIJKLMNOPQRSTUVWXYZ\n"
          ]
        }
      ],
      "source": [
        "abc = ' ' + string.punctuation + string.digits + string.ascii_letters\n",
        "len_abc = len(abc)\n",
        "print(len_abc, abc)\n",
        "\n",
        "itoc = {i:c for i,c in enumerate(abc)}\n",
        "ctoi = {c:i for i,c in enumerate(abc)}\n",
        "\n",
        "def encode(s: str) -> list[int]:\n",
        "\treturn [ctoi[c] for c in s]\n",
        "\n",
        "def decode(l: list[int]) -> str:\n",
        "\treturn ''.join([itoc[i] for i in l])\n",
        "\n",
        "def enc2tnsr(l: list[int]) -> torch.Tensor:\n",
        "\treturn torch.tensor(l).long()\n",
        "\n",
        "def enc2seq(l: list[int]) -> torch.Tensor:\n",
        "\treturn F.one_hot(enc2tnsr(l), len_abc).float()\n",
        "\n",
        "def tnsr2seq(t: torch.Tensor) -> torch.Tensor:\n",
        "\treturn F.one_hot(t, len_abc).float()\n",
        "\n",
        "def str2seq(s: str) -> torch.Tensor:\n",
        "\tencoded = torch.tensor(encode(s)).long()\n",
        "\treturn F.one_hot(encoded, len_abc).float()"
      ]
    },
    {
      "cell_type": "code",
      "execution_count": 3,
      "metadata": {
        "id": "dMmVk4WcxNKD"
      },
      "outputs": [],
      "source": [
        "class WriteHead(nn.Module):\n",
        "\tdef __init__(self, in_dim, n_mem, mem_dim, key_dim) -> None:\n",
        "\t\tsuper(WriteHead, self).__init__()\n",
        "\n",
        "\t\tself.scale = key_dim**(-0.5) # attention scaler\n",
        "\t\tself.shape = (-1, n_mem, -1) # V shape for concat gating\n",
        "\n",
        "\t\tself.q = nn.Linear(in_dim, key_dim)\n",
        "\t\tself.k = nn.Linear(mem_dim, key_dim)\n",
        "\t\tself.v = nn.Linear(in_dim, mem_dim)\n",
        "\n",
        "\t\t# self.g = nn.Parameter(torch.rand(mem_dim, n_mem)) # general-attention gating [1]\n",
        "\t\tself.g = nn.Linear(2*mem_dim, mem_dim) # concat-then-linear gating [2]\n",
        "\t\n",
        "\tdef forward(self, x: torch.Tensor, M: torch.Tensor) -> torch.Tensor:\n",
        "\t\t# print('// WRITE HEAD')\n",
        "\t\t# print(f'{x.shape=} {M.shape=}')\n",
        "\t\tQ, K, V = self.q(x), self.k(M), self.v(x)#; print(f'{Q.shape=} {K.shape=} {V.shape=}')\n",
        "\t\tA = F.softmax(K @ Q.transpose(-1,-2) * self.scale, dim=-2)#; print(f'{A.shape=}')\n",
        "\n",
        "\t\t# ----- [1]\n",
        "\t\t# G = F.sigmoid(V @ self.g @ M)#; print(f'{G.shape=}')\n",
        "\n",
        "\t\t# ----- [2]\n",
        "\t\tMV = torch.cat((M, V.expand(self.shape)), dim=-1)#; print(f'{MV.shape=}')\n",
        "\t\tG = F.sigmoid(self.g(MV))#; print(f'{G.shape=}')\n",
        "\n",
        "\t\treturn A@V*G + (1-A)*M*(1-G)\n",
        "\n",
        "\n",
        "class ReadHead(nn.Module):\n",
        "\tdef __init__(self, in_dim, n_mem, mem_dim, key_dim) -> None:\n",
        "\t\tsuper(ReadHead, self).__init__()\n",
        "\n",
        "\t\tself.scale = key_dim**(-0.5) # attention scaler\n",
        "\t\tself.shape = (-1, n_mem, -1) # X shape for concat gating\n",
        "\n",
        "\t\tself.q = nn.Linear(in_dim, key_dim)\n",
        "\t\tself.k = nn.Linear(mem_dim, key_dim)\n",
        "\t\tself.v = nn.Linear(mem_dim, in_dim)\n",
        "\n",
        "\t\t# self.g = nn.Parameter(torch.rand(in_dim, n_mem)) # general-attention gating [1]\n",
        "\t\tself.g = nn.Linear(2*in_dim, in_dim) # concat-then-linear gating [2]\n",
        "\n",
        "\tdef forward(self, x: torch.Tensor, M: torch.Tensor) -> torch.Tensor:\n",
        "\t\t# print('// READ HEAD')\n",
        "\t\t# print(f'{x.shape=} {M.shape=}')\n",
        "\t\tQ, K, V = self.q(x), self.k(M), self.v(M)#; print(f'{Q.shape=} {K.shape=} {V.shape=}')\n",
        "\t\tA = F.softmax(Q @ K.transpose(-1,-2) * self.scale, dim=-1)#; print(f'{A.shape=}')\n",
        "\n",
        "\t\t# ----- [1]\n",
        "\t\t# G = F.sigmoid(x @ self.g @ V)#; print(f'{G.shape=}')\n",
        "\n",
        "\t\t# ----- [2]\n",
        "\t\tVX = torch.cat((V, x.expand(self.shape)), dim=-1)#; print(f'{VX.shape=}')\n",
        "\t\tG = F.sigmoid(self.g(VX))#; print(f'{G.shape=}')\n",
        "\n",
        "\t\treturn torch.sum(A@V*G + (1-G)*x, dim=-2)"
      ]
    },
    {
      "cell_type": "code",
      "execution_count": 4,
      "metadata": {
        "id": "k_zbPTs6t8Oz"
      },
      "outputs": [],
      "source": [
        "class WriteBlock(nn.Module):\n",
        "\tdef __init__(self, in_dim, n_mem, mem_dim, key_dim, n_heads) -> None:\n",
        "\t\tsuper(WriteBlock, self).__init__()\n",
        "\n",
        "\t\tself.heads = nn.ModuleList([WriteHead(in_dim, n_mem, mem_dim, key_dim//n_heads) for _ in range(n_heads)])\n",
        "\t\tself.proj = nn.Linear(n_heads*mem_dim, mem_dim)\n",
        "\n",
        "\tdef forward(self, x: torch.Tensor, M: torch.Tensor) -> torch.Tensor:\n",
        "\t\tM_w = [head(x, M) for head in self.heads]\n",
        "\t\treturn self.proj(torch.cat(M_w, dim=-1))\n",
        "\n",
        "\n",
        "class ReadBlock(nn.Module):\n",
        "\tdef __init__(self, in_dim, n_mem, mem_dim, key_dim, n_heads) -> None:\n",
        "\t\tsuper(ReadBlock, self).__init__()\n",
        "\n",
        "\t\tself.heads = nn.ModuleList([ReadHead(in_dim, n_mem, mem_dim, key_dim//n_heads) for _ in range(n_heads)])\n",
        "\t\tself.proj = nn.Linear(n_heads*in_dim, in_dim)\n",
        "\n",
        "\tdef forward(self, x: torch.Tensor, M: torch.Tensor) -> torch.Tensor:\n",
        "\t\tM_r = [head(x, M) for head in self.heads]\n",
        "\t\treturn self.proj(torch.cat(M_r, dim=-1))"
      ]
    },
    {
      "cell_type": "code",
      "execution_count": 5,
      "metadata": {},
      "outputs": [],
      "source": [
        "class Memory(nn.Module):\n",
        "\tdef __init__(self, in_dim, n_mem, mem_dim, key_dim, n_heads) -> None:\n",
        "\t\tsuper(Memory, self).__init__()\n",
        "\n",
        "\t\tself.register_buffer('M', torch.rand(1, n_mem, mem_dim))\n",
        "\t\tself.write_block = WriteBlock(in_dim, n_mem, mem_dim, key_dim, n_heads)\n",
        "\t\tself.read_block = ReadBlock(in_dim, n_mem, mem_dim, key_dim, n_heads)\n",
        "\n",
        "\tdef reset_memory(self) -> None:\n",
        "\t\tself.M = torch.rand(1, *self.M.shape[1:])\n",
        "\t\tnn.init.xavier_uniform_(self.M)\n",
        "\n",
        "\tdef forward(self, x: torch.Tensor, op: str = None) -> torch.Tensor | None:\n",
        "\t\tif x.ndim == 2:\n",
        "\t\t\tx = x.unsqueeze(0)\n",
        "\t\t\n",
        "\t\tif x.shape[0] > 1 and self.M.shape[0] != x.shape[0]:\n",
        "\t\t\tself.M = self.M.expand(x.shape[0], *self.M.shape[1:])\n",
        "\t\t\n",
        "\t\tif op == 'w' or op == None:\n",
        "\t\t\tself.M = self.write_block(x, self.M).data\n",
        "\t\tif op == 'r' or op == None:\n",
        "\t\t\treturn self.read_block(x, self.M)\n",
        "\t\treturn None"
      ]
    },
    {
      "cell_type": "code",
      "execution_count": 11,
      "metadata": {},
      "outputs": [
        {
          "name": "stdout",
          "output_type": "stream",
          "text": [
            "128147\n"
          ]
        }
      ],
      "source": [
        "IN_DIM = len_abc\n",
        "N_MEM = 32\n",
        "MEM_DIM = 16\n",
        "KEY_DIM = 16\n",
        "N_HEADS = 4\n",
        "\n",
        "mem = Memory(IN_DIM, N_MEM, MEM_DIM, KEY_DIM, N_HEADS)\n",
        "print(sum([p.numel() for p in mem.parameters()]))"
      ]
    },
    {
      "cell_type": "code",
      "execution_count": 7,
      "metadata": {},
      "outputs": [],
      "source": [
        "txt = 'The quick brown fox jumps over the lazy dog.'\n",
        "encoded = encode(txt)"
      ]
    },
    {
      "cell_type": "code",
      "execution_count": 16,
      "metadata": {},
      "outputs": [],
      "source": [
        "# UNBATCHED INPUT\n",
        "\n",
        "mem.reset_memory()\n",
        "for code in encoded:\n",
        "\tt = enc2seq([code])\n",
        "\tt = torch.rand(1,len_abc)\n",
        "\tm_r = mem(t)#; print(f'{m_r.shape=}')\n",
        "\tm_r.sum().backward()"
      ]
    },
    {
      "cell_type": "code",
      "execution_count": 18,
      "metadata": {},
      "outputs": [],
      "source": [
        "# BATCHED INPUT\n",
        "\n",
        "mem.reset_memory()\n",
        "for code in encoded:\n",
        "\tt = enc2seq([code])\n",
        "\tt = t.expand(8, *t.shape)\n",
        "\tm_r = mem(t)#; print(f'{m_r.shape=}')\n",
        "\tm_r.sum().backward()"
      ]
    }
  ],
  "metadata": {
    "colab": {
      "provenance": [],
      "toc_visible": true
    },
    "kernelspec": {
      "display_name": ".pytorch",
      "language": "python",
      "name": "python3"
    },
    "language_info": {
      "codemirror_mode": {
        "name": "ipython",
        "version": 3
      },
      "file_extension": ".py",
      "mimetype": "text/x-python",
      "name": "python",
      "nbconvert_exporter": "python",
      "pygments_lexer": "ipython3",
      "version": "3.12.8"
    }
  },
  "nbformat": 4,
  "nbformat_minor": 0
}

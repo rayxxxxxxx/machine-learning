{
 "cells": [
  {
   "cell_type": "code",
   "execution_count": 156,
   "metadata": {},
   "outputs": [],
   "source": [
    "from pathlib import Path\n",
    "\n",
    "import numpy as np\n",
    "from numba import njit\n",
    "\n",
    "from matplotlib import pyplot as plt"
   ]
  },
  {
   "cell_type": "code",
   "execution_count": 157,
   "metadata": {},
   "outputs": [
    {
     "data": {
      "image/png": "[encoded data removed]",
      "text/plain": [
       "<Figure size 1500x750 with 10 Axes>"
      ]
     },
     "metadata": {},
     "output_type": "display_data"
    }
   ],
   "source": [
    "img_shape = (7, 5)\n",
    "img_size = 35\n",
    "\n",
    "data_path = Path(r'D:/Development/Data/datasets/txt/numbers_7x5.txt')\n",
    "data_mtrx = np.loadtxt(data_path)\n",
    "\n",
    "fig, axes = plt.subplots(nrows=1, ncols=10)\n",
    "\n",
    "fig.set_dpi(150)\n",
    "fig.set_figwidth(10)\n",
    "fig.set_figheight(5)\n",
    "\n",
    "for n, ax in zip(data_mtrx, axes.ravel()):\n",
    "    ax.imshow(n.reshape(img_shape), cmap='binary_r')\n",
    "    ax.set_xticks([])\n",
    "    ax.set_yticks([])\n",
    "\n",
    "plt.tight_layout()\n",
    "plt.show()"
   ]
  },
  {
   "cell_type": "code",
   "execution_count": 158,
   "metadata": {},
   "outputs": [],
   "source": [
    "def one_hot_encoding(n: int, idx: int) -> np.ndarray:\n",
    "    q = np.zeros(n)\n",
    "    q[idx] = 1.0\n",
    "    return q"
   ]
  },
  {
   "cell_type": "code",
   "execution_count": 159,
   "metadata": {},
   "outputs": [],
   "source": [
    "features = []\n",
    "labels = []\n",
    "\n",
    "for i, reference_sample in enumerate(data_mtrx):\n",
    "    features.append(reference_sample)\n",
    "    labels.append(one_hot_encoding(10, i))\n",
    "\n",
    "    for j in range(9):\n",
    "        noised_sample = reference_sample + np.random.uniform(0.0, 0.25, img_size)\n",
    "        \n",
    "        features.append(noised_sample)\n",
    "        labels.append(one_hot_encoding(10, i))\n",
    "\n",
    "features = np.array(features)\n",
    "labels = np.array(labels)"
   ]
  },
  {
   "cell_type": "code",
   "execution_count": 160,
   "metadata": {},
   "outputs": [],
   "source": [
    "test_frac = 0.2\n",
    "\n",
    "p = np.arange(10)\n",
    "\n",
    "test_size = int(p.size * test_frac)\n",
    "train_size = int(p.size * (1 - test_frac))\n",
    "\n",
    "idx_test = np.ravel([(p[0:test_size] + i * 10) for i in range(10)])\n",
    "idx_train = np.ravel([(p[test_size:p.size] + i * 10) for i in range(10)])\n",
    "\n",
    "x_test = np.array(features[idx_test])\n",
    "y_test = np.array(labels[idx_test])\n",
    "\n",
    "x_train = np.array(features[idx_train])\n",
    "y_train = np.array(labels[idx_train])"
   ]
  },
  {
   "cell_type": "code",
   "execution_count": 161,
   "metadata": {},
   "outputs": [],
   "source": [
    "@njit(fastmath=True)\n",
    "def relu(x: np.ndarray) -> np.ndarray:\n",
    "    return np.maximum(np.zeros(x.shape), x)\n",
    "\n",
    "\n",
    "@njit(fastmath=True)\n",
    "def d_relu(x: np.ndarray) -> np.ndarray:\n",
    "    return 1 * (x > 0)\n",
    "\n",
    "\n",
    "@njit(fastmath=True)\n",
    "def sigmoid(x: np.ndarray) -> np.ndarray:\n",
    "    return 1 / (1 + np.exp(-x))\n",
    "\n",
    "\n",
    "@njit(fastmath=True)\n",
    "def d_sigmoid(x: np.ndarray) -> np.ndarray:\n",
    "    y = 1 / (1 + np.exp(-x))\n",
    "    return y * (1 - y)\n",
    "\n",
    "\n",
    "@njit(fastmath=True)\n",
    "def softmax(x: np.ndarray) -> np.ndarray:\n",
    "    y = np.exp(x)\n",
    "    return y / np.sum(y)"
   ]
  },
  {
   "cell_type": "code",
   "execution_count": 162,
   "metadata": {},
   "outputs": [],
   "source": [
    "@njit(fastmath=True)\n",
    "def grads(x_batch: np.ndarray, y_batch: np.ndarray, U: np.ndarray, d:np.ndarray, V: np.ndarray, c:np.ndarray, W: np.ndarray, b:np.ndarray) -> tuple[np.ndarray]:\n",
    "    dU = np.zeros(U.shape)\n",
    "    dd = np.zeros(d.shape)\n",
    "\n",
    "    dV = np.zeros(V.shape)\n",
    "    dc = np.zeros(c.shape)\n",
    "\n",
    "    dW = np.zeros(W.shape)\n",
    "    db = np.zeros(b.shape)\n",
    "\n",
    "    h = np.zeros((U.shape[0], U.shape[1]))\n",
    "    \n",
    "    for i in range(x_batch.shape[0]):\n",
    "        z = x_batch[i].copy()\n",
    "\n",
    "        for j in range(U.shape[0]):\n",
    "            h[j] = U[j] @ x_batch[i] + d[j]\n",
    "            z += V[j] @ relu(h[j]) + c[j]\n",
    "\n",
    "        y = softmax(W @ z + b)\n",
    "\n",
    "        dLdy = y - y_batch[i]\n",
    "        dLdz = W.T @ dLdy\n",
    "        \n",
    "        for j in range(U.shape[0]):\n",
    "            dLdh = V[j].T @ dLdz * d_relu(h[j])\n",
    "\n",
    "            dU[j] += np.outer(dLdh, x_batch[i])\n",
    "            dd[j] += dLdh\n",
    "        \n",
    "        for j in range(V.shape[0]):\n",
    "            dV[j] += np.outer(dLdz, relu(h[j]))\n",
    "            dc[j] += dLdz\n",
    "        \n",
    "        dW += np.outer(dLdy, z)\n",
    "        db += dLdy\n",
    "    \n",
    "    return (dU, dd, dV, dc, dW, db)\n",
    "\n",
    "class RadialPerceptron:\n",
    "    def __init__(self, n_layers:int, n_hidden:int, n_in:int, n_out:int) -> None:\n",
    "        self.n_layers = n_layers\n",
    "        self.n_hidden = n_hidden\n",
    "        self.n_in = n_in\n",
    "        self.n_out = n_out\n",
    "                \n",
    "        self.U: np.ndarray = np.random.uniform(-1, 1, (n_layers, n_hidden, n_in))\n",
    "        self.d: np.ndarray = np.zeros((n_layers, n_hidden))\n",
    "\n",
    "        self.V: np.ndarray = np.random.uniform(-1, 1, (n_layers, n_in, n_hidden))\n",
    "        self.c: np.ndarray = np.zeros((n_layers, n_in))\n",
    "\n",
    "        self.W: np.ndarray = np.random.uniform(-1, 1, (n_out, n_in))\n",
    "        self.b: np.ndarray = np.zeros(n_out)\n",
    "        \n",
    "\n",
    "    def predict(self, x:np.ndarray) -> np.ndarray:\n",
    "        z = x.copy()\n",
    "        \n",
    "        for i in range(self.U.shape[0]):\n",
    "            h = relu(self.U[i] @ x + self.d[i])\n",
    "            z += self.V[i] @ h + self.c[i]\n",
    "                    \n",
    "        return softmax(self.W @ z + self.b)\n",
    "\n",
    "    def loss(self, x: np.ndarray, y: np.ndarray) -> float:\n",
    "        y_pred = np.array([self.predict(xi) for xi in x])\n",
    "        h = -np.mean(y * np.log(y_pred), axis=1)\n",
    "        return np.mean(h)\n",
    "\n",
    "    def train(self, x_train: np.ndarray, y_train: np.ndarray, lr, batch_size, max_epoch) -> None:\n",
    "        n = x_train.shape[0]\n",
    "        n_batches = n // batch_size\n",
    "\n",
    "        for epoch in range(max_epoch):\n",
    "            idxs = np.random.permutation(n)\n",
    "\n",
    "            for batch_idx in range(n_batches):\n",
    "                ibegin, iend = batch_idx * batch_size, min((batch_idx + 1) * batch_size, n - 1)\n",
    "                batch_idxs = idxs[ibegin:iend]\n",
    "            \n",
    "                dU, dd, dV, dc, dW, db = grads(\n",
    "                    x_train[batch_idxs],\n",
    "                    y_train[batch_idxs],\n",
    "                    self.U,\n",
    "                    self.d,\n",
    "                    self.V,\n",
    "                    self.c,\n",
    "                    self.W,\n",
    "                    self.b\n",
    "                )\n",
    "                \n",
    "                self.U -= lr * dU\n",
    "                self.d -= lr * dd\n",
    "\n",
    "                self.V -= lr * dV\n",
    "                self.c -= lr * dc\n",
    "\n",
    "                self.W -= lr * dW\n",
    "                self.b -= lr * db"
   ]
  },
  {
   "cell_type": "code",
   "execution_count": 163,
   "metadata": {},
   "outputs": [
    {
     "name": "stdout",
     "output_type": "stream",
     "text": [
      "untrained loss:  2.145886\n",
      "trained loss:  0.001138\n",
      "test set accuracy: 100.0%\n"
     ]
    }
   ],
   "source": [
    "n_layers = 5\n",
    "n_hidden = 7\n",
    "n_in = 35\n",
    "n_out = 10\n",
    "\n",
    "learning_rate = 1e-2\n",
    "batch_size = 16\n",
    "max_epoch = 256\n",
    "\n",
    "model = RadialPerceptron(n_layers, n_hidden, n_in, n_out)\n",
    "\n",
    "print('untrained loss: ', model.loss(x_test, y_test).round(6))\n",
    "\n",
    "model.train(\n",
    "    x_train,\n",
    "    y_train,\n",
    "    learning_rate,\n",
    "    batch_size,\n",
    "    max_epoch\n",
    ")\n",
    "\n",
    "print('trained loss: ', model.loss(x_test, y_test).round(6))\n",
    "\n",
    "n_true_pos = 0\n",
    "\n",
    "for x, y in zip(x_test, y_test):\n",
    "    y_pred = model.predict(x)\n",
    "    n_true_pos += 1 if np.argmax(y_pred) == np.argmax(y) else 0\n",
    "\n",
    "accuracy = n_true_pos / x_test.shape[0]\n",
    "print(f\"test set accuracy: {round(accuracy * 100, 2)}%\")"
   ]
  },
  {
   "cell_type": "code",
   "execution_count": 168,
   "metadata": {},
   "outputs": [
    {
     "name": "stdout",
     "output_type": "stream",
     "text": [
      "accuracy: 71.07%\n"
     ]
    }
   ],
   "source": [
    "n_samples = 10000\n",
    "noise_size = 1.0\n",
    "\n",
    "n_true_pos = 0\n",
    "\n",
    "for i in range(n_samples):\n",
    "    j = i % 10\n",
    "    x = data_mtrx[j] + np.random.uniform(0, noise_size, img_size)\n",
    "    y = model.predict(x)\n",
    "    n_true_pos += 1 if j == np.argmax(y) else 0\n",
    "\n",
    "print(f\"accuracy: {round(n_true_pos / n_samples * 100, 2)}%\")"
   ]
  },
  {
   "cell_type": "code",
   "execution_count": 169,
   "metadata": {},
   "outputs": [
    {
     "data": {
      "image/png": "[encoded data removed]",
      "text/plain": [
       "<Figure size 1500x500 with 10 Axes>"
      ]
     },
     "metadata": {},
     "output_type": "display_data"
    }
   ],
   "source": [
    "noise_size = 1.0\n",
    "\n",
    "x_noised = data_mtrx + np.random.uniform(0.0, noise_size, img_size)\n",
    "y = list([model.predict(xi) for xi in x_noised])\n",
    "\n",
    "fig, axes = plt.subplots(nrows=1, ncols=10)\n",
    "\n",
    "fig.set_dpi(100)\n",
    "fig.set_figwidth(15)\n",
    "fig.set_figheight(5)\n",
    "\n",
    "for i, ax in enumerate(axes.ravel()):\n",
    "    ax.imshow(x_noised[i].reshape(img_shape),  cmap='binary_r')\n",
    "    j = np.argmax(y[i])\n",
    "\n",
    "    ax.set_title(f\"[{'+' if j == i else '-'}] {j} : {(y[i][j] * 100).round()}%\")\n",
    "    ax.set_xticks([])\n",
    "    ax.set_yticks([])\n",
    "\n",
    "plt.tight_layout()\n",
    "plt.show()"
   ]
  }
 ],
 "metadata": {
  "kernelspec": {
   "display_name": "jupyter-venv",
   "language": "python",
   "name": "python3"
  },
  "language_info": {
   "codemirror_mode": {
    "name": "ipython",
    "version": 3
   },
   "file_extension": ".py",
   "mimetype": "text/x-python",
   "name": "python",
   "nbconvert_exporter": "python",
   "pygments_lexer": "ipython3",
   "version": "3.10.12"
  }
 },
 "nbformat": 4,
 "nbformat_minor": 2
}

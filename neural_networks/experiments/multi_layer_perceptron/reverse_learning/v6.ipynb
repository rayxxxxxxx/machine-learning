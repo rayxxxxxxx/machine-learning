{
 "cells": [
  {
   "cell_type": "code",
   "execution_count": 80,
   "metadata": {},
   "outputs": [],
   "source": [
    "from pathlib import Path\n",
    "\n",
    "from math import sqrt\n",
    "\n",
    "import numpy as np\n",
    "import pandas as pd\n",
    "\n",
    "from numba import njit\n",
    "\n",
    "from matplotlib import pyplot as plt"
   ]
  },
  {
   "cell_type": "markdown",
   "metadata": {},
   "source": [
    "### Load reference data"
   ]
  },
  {
   "cell_type": "code",
   "execution_count": 81,
   "metadata": {},
   "outputs": [
    {
     "data": {
      "image/png": "[encoded data removed]",
      "text/plain": [
       "<Figure size 1500x750 with 10 Axes>"
      ]
     },
     "metadata": {},
     "output_type": "display_data"
    }
   ],
   "source": [
    "fig, axes = plt.subplots(nrows=1, ncols=10)\n",
    "\n",
    "fig.set_dpi(150)\n",
    "fig.set_figwidth(10)\n",
    "fig.set_figheight(5)\n",
    "\n",
    "img_shape = (7, 5)\n",
    "img_size = 35\n",
    "\n",
    "data_path = Path(r'D:/Development/Data/datasets/txt/numbers_7x5.txt')\n",
    "data_mtrx = np.loadtxt(data_path)\n",
    "\n",
    "for n, ax in zip(data_mtrx, axes.ravel()):\n",
    "    ax.imshow(n.reshape(img_shape), cmap='binary_r')\n",
    "    ax.set_xticks([])\n",
    "    ax.set_yticks([])\n",
    "\n",
    "plt.tight_layout()\n",
    "plt.show()"
   ]
  },
  {
   "cell_type": "markdown",
   "metadata": {},
   "source": [
    "### Generate dataset"
   ]
  },
  {
   "cell_type": "code",
   "execution_count": 82,
   "metadata": {},
   "outputs": [],
   "source": [
    "cells_columns = [f'c{n}' for n in range(img_size)]\n",
    "classes = ['zero', 'one', 'two', 'three', 'four', 'five', 'six', 'seven', 'eight', 'nine']\n",
    "\n",
    "df = pd.DataFrame(columns=cells_columns + ['class'])\n",
    "\n",
    "for i in range(10):\n",
    "    new_row = dict(zip(cells_columns, data_mtrx[i]))\n",
    "    new_row['class'] = classes[i]\n",
    "\n",
    "    df.loc[df.index.size] = new_row\n",
    "\n",
    "    for j in range(9):\n",
    "        noised_num = data_mtrx[i] + np.random.uniform(0, 0.25, img_size)\n",
    "\n",
    "        new_row = dict(zip(cells_columns, noised_num))\n",
    "        new_row['class'] = classes[i]\n",
    "\n",
    "        df.loc[df.index.size] = new_row\n",
    "\n",
    "for name in df['class'].unique():\n",
    "    df[f'{name}_label'] = df['class'].map(lambda x: 1 if x == name else 0)"
   ]
  },
  {
   "cell_type": "markdown",
   "metadata": {},
   "source": [
    "### Split dataset to test and train"
   ]
  },
  {
   "cell_type": "code",
   "execution_count": 83,
   "metadata": {},
   "outputs": [],
   "source": [
    "test_frac = 0.2\n",
    "\n",
    "p = np.arange(10)\n",
    "\n",
    "test_size = int(p.size * test_frac)\n",
    "train_size = int(p.size * (1 - test_frac))\n",
    "\n",
    "idx_test = np.ravel([(p[0:test_size] + i * 10) for i in range(10)])\n",
    "idx_train = np.ravel([(p[test_size:p.size] + i * 10) for i in range(10)])\n",
    "\n",
    "features_columns = cells_columns\n",
    "label_columns = [f\"{name}_label\" for name in classes]\n",
    "\n",
    "x_test = np.array(df.iloc[idx_test][features_columns]).astype(np.float64)\n",
    "y_test = np.array(df.iloc[idx_test][label_columns]).astype(np.float64)\n",
    "\n",
    "x_train = np.array(df.iloc[idx_train][features_columns]).astype(np.float64)\n",
    "y_train = np.array(df.iloc[idx_train][label_columns]).astype(np.float64)"
   ]
  },
  {
   "cell_type": "markdown",
   "metadata": {},
   "source": [
    "### Define functions"
   ]
  },
  {
   "cell_type": "code",
   "execution_count": 84,
   "metadata": {},
   "outputs": [],
   "source": [
    "@njit(fastmath=True)\n",
    "def norm(x: np.ndarray) -> float:\n",
    "    return sqrt(np.sum(np.square(x)))\n",
    "\n",
    "\n",
    "@njit(fastmath=True)\n",
    "def cosim(a: np.ndarray, b: np.ndarray) -> float:\n",
    "    return (a @ b) / (norm(a) * norm(b))\n",
    "\n",
    "\n",
    "@njit(fastmath=True)\n",
    "def mcosim(m: np.ndarray, x: np.ndarray) -> float:\n",
    "    y = np.zeros(m.shape[0])\n",
    "    x_norm = norm(x)\n",
    "    \n",
    "    for i in range(m.shape[0]):\n",
    "        y[i] = (m[i] @ x) / (norm(m[i]) * x_norm)\n",
    "        \n",
    "    return y\n",
    "\n",
    "\n",
    "@njit(fastmath=True)\n",
    "def ReLU(x: np.ndarray) -> np.ndarray:\n",
    "    return np.maximum(np.zeros(x.shape), x)\n",
    "\n",
    "\n",
    "@njit(fastmath=True)\n",
    "def dReLU(x: np.ndarray) -> np.ndarray:\n",
    "    return 1 * (x > 0)\n",
    "\n",
    "\n",
    "@njit(fastmath=True)\n",
    "def softmax(x: np.ndarray) -> float:\n",
    "    y = np.exp(x)\n",
    "    return y / np.sum(y)"
   ]
  },
  {
   "cell_type": "markdown",
   "metadata": {},
   "source": [
    "### Define model"
   ]
  },
  {
   "cell_type": "code",
   "execution_count": 154,
   "metadata": {},
   "outputs": [],
   "source": [
    "@njit(fastmath=True)\n",
    "def grads(x_batch: np.ndarray, y_batch: np.ndarray, W: np.ndarray, b: np.ndarray, Q: np.ndarray, c: np.ndarray, R: np.ndarray, d: np.ndarray) -> tuple[np.ndarray]:\n",
    "    dW = np.zeros(W.shape)\n",
    "    db = np.zeros(b.shape)\n",
    "\n",
    "    dQ = np.zeros(Q.shape)\n",
    "    dc = np.zeros(c.shape)\n",
    "\n",
    "    dR = np.zeros(R.shape)\n",
    "    dd = np.zeros(d.shape)\n",
    "\n",
    "    for i in range(x_batch.shape[0]):\n",
    "        y = softmax(W @ x_batch[i] + b)\n",
    "\n",
    "        t = Q @ y + c\n",
    "        dt = dReLU(t)\n",
    "        t = ReLU(t)\n",
    "\n",
    "        x_hat = R @ t + d\n",
    "    \n",
    "        dR += np.outer(2 * (x_hat - x_batch[i]), t)\n",
    "        dd += 2 * (x_hat - x_batch[i])\n",
    "\n",
    "        dQ += np.outer(2 * R.T @ (x - x_batch[i]) * dt, y)\n",
    "        dc += 2 * R.T @ (x_hat - x_batch[i]) * dt\n",
    "\n",
    "        dW += np.outer(y - y_batch[i], x_batch[i])\n",
    "        db += y - y_batch[i]\n",
    "\n",
    "    return (dW, db, dQ, dc, dR, dd)\n",
    "\n",
    "\n",
    "class Perceptron:\n",
    "    def __init__(self, nIn: int, nOut: int, nH: int) -> None:\n",
    "        self.nIn = nIn\n",
    "        self.nOut = nOut\n",
    "        self.nH = nH\n",
    "\n",
    "        self.W: np.ndarray = np.random.uniform(-1, 1, (nOut, nIn))\n",
    "        self.b: np.ndarray = np.zeros(nOut)\n",
    "\n",
    "        self.Q: np.ndarray = np.random.uniform(-1, 1, (nH, nOut))\n",
    "        self.c: np.ndarray = np.zeros(nH)\n",
    "\n",
    "        self.R: np.ndarray = np.random.uniform(-1, 1, (nIn, nH))\n",
    "        self.d: np.ndarray = np.zeros(nIn)\n",
    "\n",
    "\n",
    "    def predict(self, x: np.ndarray, n_iter: int = 1) -> np.ndarray:\n",
    "        y = None\n",
    "\n",
    "        for i in range(n_iter):\n",
    "            y = softmax(self.W @ x + self.b)\n",
    "            t = ReLU(self.Q @ y + self.c)\n",
    "            x = x + self.R @ t + self.d\n",
    "\n",
    "        return y\n",
    "\n",
    "    def loss(self, x_batch: np.ndarray, y_batch: np.ndarray) -> float:\n",
    "        y_pred_batch = np.array([self.predict(x) for x in x_batch])\n",
    "        h = np.sum(y_batch * y_pred_batch, axis=1)\n",
    "        return 1 - np.mean(h)\n",
    "\n",
    "    def train(self, x_train: np.ndarray, y_train: np.ndarray, lr, batch_size, max_epoch) -> None:\n",
    "        n = x_train.shape[0]\n",
    "        n_batches = n // batch_size\n",
    "\n",
    "        for epoch in range(max_epoch):\n",
    "            idxs = np.random.permutation(n)\n",
    "\n",
    "            for i in range(n_batches):\n",
    "                ibegin = i * batch_size\n",
    "                iend = min((i + 1) * batch_size, n - 1)\n",
    "                batch_idxs = idxs[ibegin:iend]\n",
    "\n",
    "                dW, db, dQ, dc, dR, dd = grads(\n",
    "                    x_train[batch_idxs],\n",
    "                    y_train[batch_idxs],\n",
    "                    self.W,\n",
    "                    self.b,\n",
    "                    self.Q,\n",
    "                    self.c,\n",
    "                    self.R,\n",
    "                    self.d\n",
    "                )\n",
    "\n",
    "                self.W -= lr * dW\n",
    "                self.b -= lr * db\n",
    "\n",
    "                self.Q -= lr * dQ\n",
    "                self.c -= lr * dc\n",
    "\n",
    "                self.R -= lr * dR\n",
    "                self.d -= lr * dd"
   ]
  },
  {
   "cell_type": "markdown",
   "metadata": {},
   "source": [
    "### Create and train model"
   ]
  },
  {
   "cell_type": "code",
   "execution_count": 155,
   "metadata": {},
   "outputs": [
    {
     "name": "stdout",
     "output_type": "stream",
     "text": [
      "untrained loss:  0.8991\n",
      "trained loss:  0.0452\n",
      "test set accuracy: 100.0%\n"
     ]
    }
   ],
   "source": [
    "nIn = 35\n",
    "nOut = 10\n",
    "nH = 10\n",
    "\n",
    "learning_rate = 1e-2\n",
    "batch_size = 16\n",
    "max_epoch = 256\n",
    "\n",
    "model = Perceptron(nIn, nOut, nH)\n",
    "\n",
    "print('untrained loss: ', model.loss(x_test, y_test).round(4))\n",
    "\n",
    "model.train(x_train, y_train, learning_rate, batch_size, max_epoch)\n",
    "\n",
    "print('trained loss: ', model.loss(x_test, y_test).round(4))\n",
    "\n",
    "n_true_pos = 0\n",
    "\n",
    "for x, y in zip(x_test, y_test):\n",
    "    ypred = model.predict(x)\n",
    "    n_true_pos += 1 if np.argmax(ypred) == np.argmax(y) else 0\n",
    "\n",
    "accuracy = round(n_true_pos / x_test.shape[0] * 100, 2)\n",
    "print(f\"test set accuracy: {accuracy}%\")"
   ]
  },
  {
   "cell_type": "markdown",
   "metadata": {},
   "source": [
    "### Test model on big number of noised samples"
   ]
  },
  {
   "cell_type": "code",
   "execution_count": 144,
   "metadata": {},
   "outputs": [
    {
     "name": "stdout",
     "output_type": "stream",
     "text": [
      "accuracy: 99.99% (9999 of 10000)\n"
     ]
    }
   ],
   "source": [
    "n_samples = 10000\n",
    "noise_size = 0.5\n",
    "\n",
    "n_true_pos = 0\n",
    "\n",
    "for i in range(n_samples):\n",
    "    j = i % 10\n",
    "    x = data_mtrx[j] + np.random.uniform(0, noise_size, img_size)\n",
    "    ypred = model.predict(x)\n",
    "    n_true_pos += 1 if j == np.argmax(ypred) else 0\n",
    "\n",
    "accuracy = round(n_true_pos / n_samples * 100, 2)\n",
    "print(f\"accuracy: {accuracy}% ({n_true_pos} of {n_samples})\")"
   ]
  },
  {
   "cell_type": "markdown",
   "metadata": {},
   "source": [
    "### Visualize model predictions"
   ]
  },
  {
   "cell_type": "code",
   "execution_count": 51,
   "metadata": {},
   "outputs": [
    {
     "data": {
      "image/png": "[encoded data removed]",
      "text/plain": [
       "<Figure size 1500x500 with 10 Axes>"
      ]
     },
     "metadata": {},
     "output_type": "display_data"
    }
   ],
   "source": [
    "noise_size = 0.5\n",
    "x_noised = data_mtrx + np.random.uniform(0, noise_size, img_size)\n",
    "\n",
    "ypred = list([model.predict(xi) for xi in x_noised])\n",
    "\n",
    "fig, axes = plt.subplots(nrows=1, ncols=10)\n",
    "\n",
    "fig.set_dpi(100)\n",
    "fig.set_figwidth(15)\n",
    "fig.set_figheight(5)\n",
    "\n",
    "for i, ax in enumerate(axes.ravel()):\n",
    "    ax.imshow(x_noised[i].reshape(img_shape),  cmap='binary_r')\n",
    "    j = np.argmax(ypred[i])\n",
    "\n",
    "    ax.set_title(f\"{j} : {(ypred[i][j] * 100).round()}%\")\n",
    "    ax.set_xticks([])\n",
    "    ax.set_yticks([])\n",
    "\n",
    "plt.tight_layout()\n",
    "plt.show()"
   ]
  },
  {
   "cell_type": "markdown",
   "metadata": {},
   "source": [
    "### Model's learned representations"
   ]
  },
  {
   "cell_type": "code",
   "execution_count": 11,
   "metadata": {},
   "outputs": [],
   "source": [
    "# fig, axes = plt.subplots(nrows=1, ncols=model.nOut)\n",
    "# fig.set_figwidth(15)\n",
    "# fig.set_figheight(5)\n",
    "# fig.set_dpi(100)\n",
    "\n",
    "# for i in range(model.nOut):\n",
    "#     img = axes[i].imshow(model.W[i].reshape(img_shape), cmap='binary_r')\n",
    "#     axes[i].set_xticks([])\n",
    "#     axes[i].set_yticks([])\n",
    "#     axes[i].set_title(f'vector {i}')\n",
    "\n",
    "# plt.tight_layout()\n",
    "# plt.show()"
   ]
  },
  {
   "cell_type": "code",
   "execution_count": 157,
   "metadata": {},
   "outputs": [
    {
     "name": "stdout",
     "output_type": "stream",
     "text": [
      "[0.   0.8  0.01 0.   0.   0.02 0.03 0.   0.13 0.01]\n",
      "[0. 0. 0. 0. 0. 0. 0. 0. 1. 0.]\n"
     ]
    },
    {
     "data": {
      "image/png": "[encoded data removed]",
      "text/plain": [
       "<Figure size 1600x500 with 8 Axes>"
      ]
     },
     "metadata": {},
     "output_type": "display_data"
    },
    {
     "data": {
      "text/plain": [
       "<Figure size 640x480 with 0 Axes>"
      ]
     },
     "metadata": {},
     "output_type": "display_data"
    }
   ],
   "source": [
    "x = data_mtrx[1] + np.random.uniform(0, 1, img_size)\n",
    "y = softmax(model.W @ x + model.b)\n",
    "\n",
    "print(np.round(y, 2))\n",
    "\n",
    "X = [x.copy()]\n",
    "\n",
    "for i in range(7):\n",
    "    y = softmax(model.W @ x + model.b)\n",
    "    t = ReLU(model.Q @ y + model.c)\n",
    "    x = x + model.R @ t + model.d\n",
    "    X.append(x.copy())\n",
    "\n",
    "print(np.round(y, 2))\n",
    "\n",
    "fig, axes = plt.subplots(nrows=1, ncols=8)\n",
    "fig.set_figwidth(16)\n",
    "fig.set_figheight(5)\n",
    "fig.set_dpi(100)\n",
    "\n",
    "for ax, xi in zip(axes, X):\n",
    "    ax.imshow(xi.reshape((7, 5)))\n",
    "\n",
    "plt.show()\n",
    "plt.tight_layout()"
   ]
  },
  {
   "cell_type": "code",
   "execution_count": 153,
   "metadata": {},
   "outputs": [
    {
     "name": "stdout",
     "output_type": "stream",
     "text": [
      "[-36.5   -1.11  -0.1   -4.33 -18.14  -6.33  -3.16  -0.17  -0.24  -3.18]\n",
      "[0. 0. 0. 0. 0. 0. 0. 0. 0. 0.]\n",
      "[[-9.000e-02  7.000e-02 -5.000e-01 -3.600e-01  3.393e+01 -4.500e-01\n",
      "  -3.100e-01 -8.300e-01 -6.700e-01  5.600e-01]\n",
      " [-6.500e-01 -3.300e-01  7.500e-01  7.900e-01  5.400e-01  2.400e-01\n",
      "   4.800e-01 -9.000e-02  5.500e-01  2.400e-01]\n",
      " [ 4.200e-01  3.900e-01 -1.000e-01 -5.500e-01  1.200e-01 -3.800e-01\n",
      "  -7.700e-01 -7.600e-01  4.700e-01  4.900e-01]\n",
      " [ 7.900e-01  1.869e+01  9.800e-01 -9.300e-01  1.000e+00 -6.500e-01\n",
      "  -4.700e-01  9.900e-01 -9.100e-01 -1.700e-01]\n",
      " [-5.000e-01 -8.000e-02 -4.600e-01 -5.100e-01  2.700e-01 -3.900e-01\n",
      "   2.581e+01 -8.400e-01  7.400e-01  7.800e-01]\n",
      " [-1.000e-01  3.431e+01  5.700e-01 -8.900e-01 -4.800e-01 -9.000e-01\n",
      "   2.600e-01  1.100e-01  4.500e-01 -4.800e-01]\n",
      " [ 3.000e-02 -3.500e-01  2.600e-01  9.700e-01 -4.000e-01  4.300e-01\n",
      "   1.600e-01  5.000e-02  4.200e-01  6.100e-01]\n",
      " [-6.200e-01  3.440e+00  5.400e-01  1.200e-01 -2.100e-01 -5.500e-01\n",
      "  -3.300e-01 -4.700e-01 -9.500e-01 -5.400e-01]\n",
      " [-8.600e-01  1.490e+00 -5.000e-01  3.500e-01 -4.000e-01 -8.800e-01\n",
      "  -8.800e-01 -3.400e-01 -3.400e-01 -7.200e-01]\n",
      " [ 3.700e-01 -1.290e+00 -4.000e-01  7.900e-01  6.700e-01 -9.900e-01\n",
      "   5.800e-01  1.600e-01  2.500e-01 -5.700e-01]]\n"
     ]
    }
   ],
   "source": [
    "x = data_mtrx[1] + np.random.uniform(0, 1, img_size)\n",
    "\n",
    "# print(np.round(x,3))\n",
    "\n",
    "y = softmax(model.W @ x + model.b)\n",
    "\n",
    "# print(np.round(y, 2))\n",
    "\n",
    "t = model.Q @ y + model.c\n",
    "\n",
    "print(np.round(t, 2))\n",
    "\n",
    "t = ReLU(model.Q @ y + model.c)\n",
    "\n",
    "print(np.round(t, 2))\n",
    "\n",
    "\n",
    "x = model.R @ t + model.d\n",
    "\n",
    "# print(np.round(x,3))\n",
    "\n",
    "print(np.round(model.Q, 2))\n"
   ]
  }
 ],
 "metadata": {
  "kernelspec": {
   "display_name": "jupyter-venv",
   "language": "python",
   "name": "python3"
  },
  "language_info": {
   "codemirror_mode": {
    "name": "ipython",
    "version": 3
   },
   "file_extension": ".py",
   "mimetype": "text/x-python",
   "name": "python",
   "nbconvert_exporter": "python",
   "pygments_lexer": "ipython3",
   "version": "3.10.12"
  }
 },
 "nbformat": 4,
 "nbformat_minor": 4
}

{
 "cells": [
  {
   "cell_type": "code",
   "execution_count": 100,
   "metadata": {},
   "outputs": [],
   "source": [
    "import string\n",
    "import numpy as np"
   ]
  },
  {
   "cell_type": "code",
   "execution_count": 101,
   "metadata": {},
   "outputs": [],
   "source": [
    "def one_hot(n_classes: int, idx: int) -> np.ndarray:\n",
    "    vector = np.zeros(n_classes)\n",
    "    vector[idx] = 1.0\n",
    "    return vector\n",
    "\n",
    "def str2seq(word: str, alphabet: list) -> np.ndarray:\n",
    "    return np.array([one_hot(len(alphabet), alphabet.index(c)) for c in word])\n",
    "\n",
    "def seq2str(seq: np.ndarray, alphabet: list) -> str:\n",
    "    return ''.join([alphabet[np.argmax(x)] for x in seq])"
   ]
  },
  {
   "cell_type": "code",
   "execution_count": 102,
   "metadata": {},
   "outputs": [
    {
     "name": "stdout",
     "output_type": "stream",
     "text": [
      "59  .,:;\"'abcdefghijklmnopqrstuvwxyzABCDEFGHIJKLMNOPQRSTUVWXYZ\n"
     ]
    }
   ],
   "source": [
    "alphabet = ' .,:;\\\"\\'' + string.ascii_letters\n",
    "n_symbols = len(alphabet)\n",
    "print(n_symbols, alphabet)"
   ]
  },
  {
   "cell_type": "code",
   "execution_count": 103,
   "metadata": {},
   "outputs": [],
   "source": [
    "def sigmoid(x: np.ndarray) -> np.ndarray:\n",
    "    return 1 / (1 + np.exp(-x))\n",
    "\n",
    "def softmax(x: np.ndarray) -> np.ndarray:\n",
    "    y = np.exp(x)\n",
    "    return y / np.sum(y)"
   ]
  },
  {
   "cell_type": "code",
   "execution_count": 104,
   "metadata": {},
   "outputs": [],
   "source": [
    "def calculate_attention(x: np.ndarray, M: np.ndarray) -> np.ndarray:\n",
    "    scores = softmax(M @ x)\n",
    "    values = scores.reshape((scores.size, 1)) * M\n",
    "    return np.sum(values, axis=0)"
   ]
  },
  {
   "cell_type": "code",
   "execution_count": 105,
   "metadata": {},
   "outputs": [],
   "source": [
    "class RNN:\n",
    "    def __init__(self, n_in: int, n_l: int, n_h: int, n_out: int) -> None:\n",
    "        self.W_xh: np.ndarray = np.random.uniform(-1, 1, (n_h, n_in))\n",
    "        self.W_hh: np.ndarray = np.random.uniform(-1, 1, (n_l, n_h, n_h))\n",
    "\n",
    "        self.W_ho: np.ndarray = np.random.uniform(-1, 1, (n_out, n_h))\n",
    "        self.W_oh: np.ndarray = np.random.uniform(-1, 1, (n_h, n_out))\n",
    "\n",
    "    def encode(self, sequence: np.ndarray) -> tuple[np.ndarray]:\n",
    "        context = np.zeros(len(self.W_xh))\n",
    "        for x in sequence:\n",
    "            attention = calculate_attention(context, self.W_hh @ context)\n",
    "            context = np.tanh(self.W_xh @ x + attention)\n",
    "        return context\n",
    "    \n",
    "    def decode(self, context: np.ndarray, t: int) -> tuple[np.ndarray]:\n",
    "        outputs = np.zeros((t, len(self.W_ho)))\n",
    "        out = np.zeros(len(self.W_ho))\n",
    "\n",
    "        for i in range(t):\n",
    "            attention = calculate_attention(context, self.W_hh @ context)\n",
    "            context = np.tanh(self.W_oh @ out + attention)\n",
    "            out = softmax(self.W_ho @ context)\n",
    "            outputs[i] = out.copy()\n",
    "\n",
    "        return (outputs, context)"
   ]
  },
  {
   "cell_type": "code",
   "execution_count": 138,
   "metadata": {},
   "outputs": [
    {
     "name": "stdout",
     "output_type": "stream",
     "text": [
      "KdY;evMnYSsQLLLLLLSLL;RsW'ZCuEwiY;n uHE Uooyc:glfqSeZfaZlIECE'iwmshqSLLLSssQbmRsL;qsc;aFkMXdY;K;;;ShLICEw w;qXNhuEooS WZcXhqYvMR\n"
     ]
    }
   ],
   "source": [
    "in_text = 'the quick brown fox jumps over the lazy dog'\n",
    "sequence = str2seq(in_text, alphabet)\n",
    "\n",
    "model = RNN(n_symbols, 4, 16, n_symbols)\n",
    "context = model.encode(sequence)\n",
    "outputs, context = model.decode(context, 128)\n",
    "\n",
    "out_text = seq2str(outputs, alphabet)\n",
    "print(out_text)"
   ]
  }
 ],
 "metadata": {
  "kernelspec": {
   "display_name": ".venv",
   "language": "python",
   "name": "python3"
  },
  "language_info": {
   "codemirror_mode": {
    "name": "ipython",
    "version": 3
   },
   "file_extension": ".py",
   "mimetype": "text/x-python",
   "name": "python",
   "nbconvert_exporter": "python",
   "pygments_lexer": "ipython3",
   "version": "3.12.8"
  }
 },
 "nbformat": 4,
 "nbformat_minor": 2
}

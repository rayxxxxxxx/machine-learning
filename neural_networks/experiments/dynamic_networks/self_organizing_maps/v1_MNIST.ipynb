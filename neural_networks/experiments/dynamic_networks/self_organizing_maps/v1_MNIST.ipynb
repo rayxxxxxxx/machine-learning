{
 "cells": [
  {
   "cell_type": "code",
   "execution_count": 21,
   "metadata": {},
   "outputs": [],
   "source": [
    "from pathlib import Path\n",
    "\n",
    "import numpy as np\n",
    "from numba import njit\n",
    "\n",
    "import matplotlib.pyplot as plt"
   ]
  },
  {
   "cell_type": "code",
   "execution_count": 22,
   "metadata": {},
   "outputs": [],
   "source": [
    "img_size = 784\n",
    "img_shape = (28, 28)\n",
    "\n",
    "train_data_path = Path(r'D:/Development/Python/Jupyter/data/csv/mnist_train_small.csv')\n",
    "test_data_path = Path(r'D:/Development/Python/Jupyter/data/csv/mnist_test.csv')\n",
    "\n",
    "data_train = np.loadtxt(train_data_path, delimiter=',')\n",
    "labels_train = data_train[:,0]\n",
    "features_train = data_train[:,1:]\n",
    "\n",
    "data_test = np.loadtxt(test_data_path, delimiter=',')\n",
    "labels_test = data_test[:,0]\n",
    "features_test = data_test[:,1:]"
   ]
  },
  {
   "cell_type": "code",
   "execution_count": 23,
   "metadata": {},
   "outputs": [],
   "source": [
    "x_train = -1+2*(features_train / 255.0)\n",
    "x_test = -1+2*(features_test / 255.0)"
   ]
  },
  {
   "cell_type": "code",
   "execution_count": 24,
   "metadata": {},
   "outputs": [],
   "source": [
    "@njit(fastmath=True)\n",
    "def calc_forces(x: np.ndarray, p: np.ndarray) -> None:\n",
    "    nn = p.shape[0]\n",
    "    nx = x.shape[0]\n",
    "    \n",
    "    forces: np.ndarray = np.zeros(p.shape)\n",
    "    \n",
    "    for i in range(nn):\n",
    "        dir_x = x - p[i]\n",
    "        dx = np.sum(np.square(dir_x), axis=1).reshape((nx, 1))\n",
    "        attr_forces = 1 / (dx + 1) * dir_x\n",
    "        \n",
    "        dir_pi = p[i] - p\n",
    "        dp = np.sum(np.square(dir_pi), axis=1).reshape((nn, 1))\n",
    "        separation_forces = 1 / (dp + 1) * dir_pi\n",
    "        \n",
    "        mean_attr_force = 1 / nx * np.sum(attr_forces, axis=0)\n",
    "        mean_sep_force = 1 / nn * np.sum(separation_forces, axis=0)\n",
    "\n",
    "        forces[i] = mean_attr_force + mean_sep_force\n",
    "        \n",
    "    return forces"
   ]
  },
  {
   "cell_type": "code",
   "execution_count": 25,
   "metadata": {},
   "outputs": [],
   "source": [
    "class SelfOrganizingMap:\n",
    "    def __init__(self, n: int) -> None:\n",
    "        self.n: int = n\n",
    "\n",
    "        self.p: np.ndarray = None\n",
    "        self.d: np.ndarray = None\n",
    "\n",
    "    def _init_weights(self, data: np.ndarray):\n",
    "        self.p = np.random.uniform(-1, 1, (self.n, data.shape[1]))\n",
    "    \n",
    "    def recalc_dist_mtrx(self):\n",
    "        self.d = np.zeros((self.n, self.n))\n",
    "\n",
    "        for i, pi in enumerate(self.p):\n",
    "            for j, pj in enumerate(self.p):\n",
    "                self.d[i][j] = np.sum(np.square(pi - pj))\n",
    "    \n",
    "    def train(self, x_train: np.ndarray, lr: float, batch_size: int, max_epoch: int) -> None:\n",
    "        n = x_train.shape[0]\n",
    "        n_batches = n // batch_size\n",
    "\n",
    "        self._init_weights(x_train)\n",
    "\n",
    "        for epoch in range(max_epoch):\n",
    "            idxs = np.random.permutation(n)\n",
    "\n",
    "            for i in range(n_batches):\n",
    "                ibegin = i * batch_size\n",
    "                iend = min((i + 1) * batch_size, n - 1)\n",
    "                batch_idxs = idxs[ibegin:iend]\n",
    "\n",
    "                forces = calc_forces(x_train[batch_idxs], self.p)\n",
    "\n",
    "                self.p += lr * forces"
   ]
  },
  {
   "cell_type": "code",
   "execution_count": 33,
   "metadata": {},
   "outputs": [],
   "source": [
    "n = 30\n",
    "\n",
    "learning_rate = 1.0\n",
    "batch_size = 128\n",
    "max_epoch = 32\n",
    "\n",
    "model = SelfOrganizingMap(n)\n",
    "model.train(x_train, learning_rate, batch_size, max_epoch)"
   ]
  },
  {
   "cell_type": "code",
   "execution_count": 35,
   "metadata": {},
   "outputs": [
    {
     "data": {
      "image/png": "[encoded data removed]",
      "text/plain": [
       "<Figure size 1000x500 with 2 Axes>"
      ]
     },
     "metadata": {},
     "output_type": "display_data"
    }
   ],
   "source": [
    "fig, axes = plt.subplots(nrows=1, ncols=2)\n",
    "\n",
    "fig.set_dpi(100)\n",
    "fig.set_figwidth(10)\n",
    "fig.set_figheight(5)\n",
    "\n",
    "axes[0].imshow(model.p[0].reshape(img_shape))\n",
    "\n",
    "plt.show()"
   ]
  }
 ],
 "metadata": {
  "kernelspec": {
   "display_name": ".venv",
   "language": "python",
   "name": "python3"
  },
  "language_info": {
   "codemirror_mode": {
    "name": "ipython",
    "version": 3
   },
   "file_extension": ".py",
   "mimetype": "text/x-python",
   "name": "python",
   "nbconvert_exporter": "python",
   "pygments_lexer": "ipython3",
   "version": "3.12.8"
  }
 },
 "nbformat": 4,
 "nbformat_minor": 2
}

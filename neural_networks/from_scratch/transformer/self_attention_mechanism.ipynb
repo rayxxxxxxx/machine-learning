{
 "cells": [
  {
   "cell_type": "code",
   "execution_count": 1,
   "metadata": {},
   "outputs": [],
   "source": [
    "import math\n",
    "import numpy as np"
   ]
  },
  {
   "cell_type": "code",
   "execution_count": 2,
   "metadata": {},
   "outputs": [],
   "source": [
    "def softmax(x: np.ndarray) -> np.ndarray:\n",
    "    y = np.exp(x)\n",
    "    return y/np.sum(y)"
   ]
  },
  {
   "cell_type": "code",
   "execution_count": 3,
   "metadata": {},
   "outputs": [],
   "source": [
    "n_words = 3\n",
    "embedding_size = 4\n",
    "hidden_size = 2"
   ]
  },
  {
   "cell_type": "code",
   "execution_count": 4,
   "metadata": {},
   "outputs": [],
   "source": [
    "E = np.random.uniform(-1, 1, (n_words, embedding_size))"
   ]
  },
  {
   "cell_type": "code",
   "execution_count": 5,
   "metadata": {},
   "outputs": [],
   "source": [
    "Wq = np.random.uniform(-1, 1, (embedding_size, hidden_size))\n",
    "Wk = np.random.uniform(-1, 1, (embedding_size, hidden_size))\n",
    "Wv = np.random.uniform(-1, 1, (embedding_size, embedding_size))"
   ]
  },
  {
   "cell_type": "code",
   "execution_count": 6,
   "metadata": {},
   "outputs": [
    {
     "name": "stdout",
     "output_type": "stream",
     "text": [
      "(3, 2)\n",
      "(3, 2)\n",
      "(3, 4)\n"
     ]
    }
   ],
   "source": [
    "Q = E @ Wq\n",
    "K = E @ Wk\n",
    "V = E @ Wv\n",
    "\n",
    "print(Q.shape)\n",
    "print(K.shape)\n",
    "print(V.shape)"
   ]
  },
  {
   "cell_type": "code",
   "execution_count": 7,
   "metadata": {},
   "outputs": [
    {
     "name": "stdout",
     "output_type": "stream",
     "text": [
      "(3, 3)\n",
      "[[0.2968191  0.27833337 0.27192221]\n",
      " [0.26298742 0.3256469  0.24927931]\n",
      " [0.44019348 0.39601972 0.47879848]] \n",
      "\n",
      "(3, 4)\n",
      "[[ 0.57994405 -0.20122441 -0.70590924 -0.48999976]\n",
      " [ 0.58440395 -0.16330791 -0.6950645  -0.49405901]\n",
      " [ 0.91486992 -0.38593245 -1.11385777 -0.71585328]] \n",
      "\n"
     ]
    }
   ],
   "source": [
    "A = (Q @ K.T) / math.sqrt(hidden_size)\n",
    "A = np.apply_along_axis(softmax, 0, A)\n",
    "print(A.shape)\n",
    "print(A, '\\n')\n",
    "\n",
    "dE = A @ V\n",
    "print(dE.shape)\n",
    "print(dE, '\\n')"
   ]
  },
  {
   "cell_type": "code",
   "execution_count": 8,
   "metadata": {},
   "outputs": [
    {
     "name": "stdout",
     "output_type": "stream",
     "text": [
      "[[ 0.25266847 -0.6107121   0.38934743 -0.21905614]\n",
      " [-0.24570053 -0.04980595  0.3886175  -0.59436386]\n",
      " [-0.71103487 -0.24618788  0.97888456  0.84836788]] \n",
      "\n",
      "[[ 0.57994405 -0.20122441 -0.70590924 -0.48999976]\n",
      " [ 0.58440395 -0.16330791 -0.6950645  -0.49405901]\n",
      " [ 0.91486992 -0.38593245 -1.11385777 -0.71585328]] \n",
      "\n",
      "[[ 0.83261252 -0.81193651 -0.31656181 -0.7090559 ]\n",
      " [ 0.33870342 -0.21311386 -0.306447   -1.08842287]\n",
      " [ 0.20383505 -0.63212033 -0.13497321  0.13251461]]\n"
     ]
    }
   ],
   "source": [
    "print(E, '\\n')\n",
    "print(dE, '\\n')\n",
    "print(E+dE)"
   ]
  }
 ],
 "metadata": {
  "kernelspec": {
   "display_name": ".venv",
   "language": "python",
   "name": "python3"
  },
  "language_info": {
   "codemirror_mode": {
    "name": "ipython",
    "version": 3
   },
   "file_extension": ".py",
   "mimetype": "text/x-python",
   "name": "python",
   "nbconvert_exporter": "python",
   "pygments_lexer": "ipython3",
   "version": "3.12.8"
  }
 },
 "nbformat": 4,
 "nbformat_minor": 2
}

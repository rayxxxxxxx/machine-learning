{
 "cells": [
  {
   "cell_type": "code",
   "execution_count": 1,
   "metadata": {},
   "outputs": [],
   "source": [
    "from pathlib import Path\n",
    "from math import sqrt\n",
    "\n",
    "import numpy as np\n",
    "from numba import njit\n",
    "\n",
    "from matplotlib import pyplot as plt"
   ]
  },
  {
   "cell_type": "code",
   "execution_count": 2,
   "metadata": {},
   "outputs": [],
   "source": [
    "def one_hot(n, i):\n",
    "    q = np.zeros(n)\n",
    "    q[i] = 1.0\n",
    "    return q"
   ]
  },
  {
   "cell_type": "code",
   "execution_count": 3,
   "metadata": {},
   "outputs": [],
   "source": [
    "img_size = 784\n",
    "img_shape = (28, 28)\n",
    "\n",
    "train_data = np.loadtxt(Path('/mnt/HDD500GB/Data/development/jupyterLab/data/mnist_train_small.csv'), delimiter=',')\n",
    "test_data = np.loadtxt(Path('/mnt/HDD500GB/Data/development/jupyterLab/data/mnist_test.csv'), delimiter=',')"
   ]
  },
  {
   "cell_type": "code",
   "execution_count": 4,
   "metadata": {},
   "outputs": [],
   "source": [
    "x_train = train_data[:,1:] / 255.0\n",
    "y_train = np.array([one_hot(10, int(i)) for i in train_data[:,0]])\n",
    "\n",
    "x_test = test_data[:,1:] / 255.0\n",
    "y_test = np.array([one_hot(10, int(i)) for i in test_data[:,0]])"
   ]
  },
  {
   "cell_type": "markdown",
   "metadata": {},
   "source": [
    "### Define functions"
   ]
  },
  {
   "cell_type": "code",
   "execution_count": 5,
   "metadata": {},
   "outputs": [],
   "source": [
    "@njit(fastmath=True)\n",
    "def norm(x: np.ndarray) -> float:\n",
    "    return sqrt(np.sum(np.square(x)))\n",
    "\n",
    "\n",
    "@njit(fastmath=True)\n",
    "def cosim(a: np.ndarray, b: np.ndarray) -> float:\n",
    "    return (a @ b) / (norm(a) * norm(b))\n",
    "\n",
    "\n",
    "@njit(fastmath=True)\n",
    "def mcosim(m: np.ndarray, x: np.ndarray) -> float:\n",
    "    y = np.zeros(m.shape[0])\n",
    "    x_norm = norm(x)\n",
    "    \n",
    "    for i in range(m.shape[0]):\n",
    "        y[i] = (m[i] @ x) / (norm(m[i]) * x_norm)\n",
    "        \n",
    "    return y"
   ]
  },
  {
   "cell_type": "markdown",
   "metadata": {},
   "source": [
    "### Define model"
   ]
  },
  {
   "cell_type": "code",
   "execution_count": 6,
   "metadata": {},
   "outputs": [],
   "source": [
    "@njit(fastmath=True)\n",
    "def grads(x_batch: np.ndarray, y_batch: np.ndarray, W: np.ndarray) -> np.ndarray:\n",
    "    dW = np.zeros(W.shape)\n",
    "\n",
    "    h = np.zeros((W.shape[0], W.shape[2]))\n",
    "\n",
    "    for i in range(x_batch.shape[0]):\n",
    "        for j in range(W.shape[0]):\n",
    "            h[j] = W[j].T @ y_batch[i]\n",
    "\n",
    "        z = np.sum(h, axis=0)\n",
    "\n",
    "        dLdz = 2 * (z - x_batch[i])\n",
    "        dLdw = np.outer(y_batch[i], dLdz)\n",
    "\n",
    "        for j in range(W.shape[0]):\n",
    "            dW[j] += dLdw\n",
    "\n",
    "    return dW\n",
    "\n",
    "\n",
    "class Perceptron:\n",
    "    def __init__(self, nIn: int, nOut: int, nL: int) -> None:\n",
    "        self.nIn: int = nIn\n",
    "        self.nOut: int = nOut\n",
    "        self.nL: int = nL\n",
    "\n",
    "        self.W: np.ndarray = np.random.uniform(-1, 1, (nL, nOut, nIn))\n",
    "        self.V: np.ndarray = np.sum(self.W, axis=0)\n",
    "\n",
    "    def predict(self, x: np.ndarray) -> np.ndarray:\n",
    "        return mcosim(self.V, x)\n",
    "\n",
    "    def loss(self, x_batch: np.ndarray, y_batch: np.ndarray) -> float:\n",
    "        y_pred_batch = np.array([self.predict(x) for x in x_batch])\n",
    "        h = np.sum(y_batch * y_pred_batch, axis=1)\n",
    "        return 1 - np.mean(h)\n",
    "\n",
    "    def train(self, x_train: np.ndarray, y_train: np.ndarray, lr, batch_size, max_epoch) -> None:\n",
    "        n = x_train.shape[0]\n",
    "\n",
    "        for epoch in range(max_epoch):\n",
    "            idxs = np.random.permutation(n)\n",
    "            n_batches = n // batch_size\n",
    "\n",
    "            for i in range(n_batches):\n",
    "                ibegin = i * batch_size\n",
    "                iend = min((i + 1) * batch_size, n - 1)\n",
    "                batch_idxs = idxs[ibegin:iend]\n",
    "\n",
    "                dW  = grads(x_train[batch_idxs], y_train[batch_idxs], self.W)\n",
    "\n",
    "                self.W -= lr * dW\n",
    "        \n",
    "        self.V = np.sum(self.W, axis=0)"
   ]
  },
  {
   "cell_type": "markdown",
   "metadata": {},
   "source": [
    "### Create and train model"
   ]
  },
  {
   "cell_type": "code",
   "execution_count": 10,
   "metadata": {},
   "outputs": [
    {
     "name": "stdout",
     "output_type": "stream",
     "text": [
      "untrained loss:  0.99247\n",
      "trained loss:  0.269\n",
      "test set accuracy: 81.09%\n"
     ]
    }
   ],
   "source": [
    "nIn = 784\n",
    "nOut = 10\n",
    "nL = 3\n",
    "\n",
    "learning_rate = 1e-3\n",
    "batch_size = 128\n",
    "max_epoch = 8\n",
    "\n",
    "model = Perceptron(nIn, nOut, nL)\n",
    "\n",
    "print('untrained loss: ', model.loss(x_test, y_test).round(5))\n",
    "\n",
    "model.train(x_train, y_train, learning_rate, batch_size, max_epoch)\n",
    "\n",
    "print('trained loss: ', model.loss(x_test, y_test).round(5))\n",
    "\n",
    "n_true_pos = 0\n",
    "\n",
    "for x, y in zip(x_test, y_test):\n",
    "    ypred = model.predict(x)\n",
    "    n_true_pos += 1 if np.argmax(ypred) == np.argmax(y) else 0\n",
    "\n",
    "accuracy = round(n_true_pos / x_test.shape[0] * 100, 2)\n",
    "print(f\"test set accuracy: {accuracy}%\")"
   ]
  },
  {
   "cell_type": "code",
   "execution_count": 14,
   "metadata": {},
   "outputs": [
    {
     "data": {
      "image/png": "[encoded data removed]",
      "text/plain": [
       "<Figure size 800x400 with 10 Axes>"
      ]
     },
     "metadata": {},
     "output_type": "display_data"
    }
   ],
   "source": [
    "fig, axes = plt.subplots(nrows=2, ncols=5)\n",
    "\n",
    "fig.set_dpi(100)\n",
    "fig.set_figwidth(8)\n",
    "fig.set_figheight(4)\n",
    "\n",
    "for i, ax in enumerate(axes.ravel()):\n",
    "    ax.imshow(model.V[i].reshape(img_shape),  cmap='jet')\n",
    "    ax.set_xticks([])\n",
    "    ax.set_yticks([])\n",
    "\n",
    "plt.tight_layout()\n",
    "plt.show()"
   ]
  },
  {
   "cell_type": "code",
   "execution_count": 12,
   "metadata": {},
   "outputs": [
    {
     "data": {
      "image/png": "[encoded data removed]",
      "text/plain": [
       "<Figure size 1000x500 with 3 Axes>"
      ]
     },
     "metadata": {},
     "output_type": "display_data"
    }
   ],
   "source": [
    "fig, axes = plt.subplots(nrows=1, ncols=model.nL)\n",
    "fig.set_figwidth(10)\n",
    "fig.set_figheight(5)\n",
    "fig.set_dpi(100)\n",
    "\n",
    "idx = 1\n",
    "\n",
    "for i in range(model.nL):\n",
    "    img = axes[i].imshow(model.W[i][idx].reshape(img_shape), cmap='binary_r')\n",
    "    axes[i].set_xticks([])\n",
    "    axes[i].set_yticks([])\n",
    "    axes[i].set_title(f'W[{i}][{idx}]')\n",
    "\n",
    "plt.tight_layout()\n",
    "plt.show()"
   ]
  }
 ],
 "metadata": {
  "kernelspec": {
   "display_name": "Python 3 (ipykernel)",
   "language": "python",
   "name": "python3"
  },
  "language_info": {
   "codemirror_mode": {
    "name": "ipython",
    "version": 3
   },
   "file_extension": ".py",
   "mimetype": "text/x-python",
   "name": "python",
   "nbconvert_exporter": "python",
   "pygments_lexer": "ipython3",
   "version": "3.10.12"
  }
 },
 "nbformat": 4,
 "nbformat_minor": 4
}

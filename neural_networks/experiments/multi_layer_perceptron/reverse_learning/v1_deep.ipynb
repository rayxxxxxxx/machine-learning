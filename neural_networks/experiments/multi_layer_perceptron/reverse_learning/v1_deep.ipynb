{
 "cells": [
  {
   "cell_type": "code",
   "execution_count": 178,
   "metadata": {},
   "outputs": [],
   "source": [
    "from pathlib import Path\n",
    "\n",
    "from math import sqrt\n",
    "\n",
    "import numpy as np\n",
    "import pandas as pd\n",
    "\n",
    "from numba import njit\n",
    "\n",
    "from matplotlib import pyplot as plt"
   ]
  },
  {
   "cell_type": "markdown",
   "metadata": {},
   "source": [
    "### Load reference data"
   ]
  },
  {
   "cell_type": "code",
   "execution_count": 179,
   "metadata": {},
   "outputs": [
    {
     "data": {
      "image/png": "[encoded data removed]",
      "text/plain": [
       "<Figure size 1500x750 with 10 Axes>"
      ]
     },
     "metadata": {},
     "output_type": "display_data"
    }
   ],
   "source": [
    "img_shape = (7, 5)\n",
    "img_size = 35\n",
    "\n",
    "data_path = Path(r'D:/Development/Data/datasets/txt/numbers_7x5.txt')\n",
    "data_mtrx = np.loadtxt(data_path)\n",
    "\n",
    "fig, axes = plt.subplots(nrows=1, ncols=10)\n",
    "\n",
    "fig.set_dpi(150)\n",
    "fig.set_figwidth(10)\n",
    "fig.set_figheight(5)\n",
    "\n",
    "for n, ax in zip(data_mtrx, axes.ravel()):\n",
    "    ax.imshow(n.reshape(img_shape), cmap='binary_r')\n",
    "    ax.set_xticks([])\n",
    "    ax.set_yticks([])\n",
    "\n",
    "plt.tight_layout()\n",
    "plt.show()"
   ]
  },
  {
   "cell_type": "markdown",
   "metadata": {},
   "source": [
    "### Generate dataset"
   ]
  },
  {
   "cell_type": "code",
   "execution_count": 180,
   "metadata": {},
   "outputs": [],
   "source": [
    "def one_hot_encoding(n: int, idx: int) -> np.ndarray:\n",
    "    q = np.zeros(n)\n",
    "    q[idx] = 1.0\n",
    "    return q"
   ]
  },
  {
   "cell_type": "code",
   "execution_count": 181,
   "metadata": {},
   "outputs": [],
   "source": [
    "features = []\n",
    "labels = []\n",
    "\n",
    "for i, reference_sample in enumerate(data_mtrx):\n",
    "    features.append(reference_sample)\n",
    "    labels.append(one_hot_encoding(10, i))\n",
    "\n",
    "    for j in range(9):\n",
    "        noised_sample = reference_sample + np.random.uniform(0.0, 0.25, img_size)\n",
    "        \n",
    "        features.append(noised_sample)\n",
    "        labels.append(one_hot_encoding(10, i))\n",
    "\n",
    "features = np.array(features)\n",
    "labels = np.array(labels)"
   ]
  },
  {
   "cell_type": "markdown",
   "metadata": {},
   "source": [
    "### Split dataset to test and train"
   ]
  },
  {
   "cell_type": "code",
   "execution_count": 182,
   "metadata": {},
   "outputs": [],
   "source": [
    "test_frac = 0.2\n",
    "\n",
    "p = np.arange(10)\n",
    "\n",
    "test_size = int(p.size * test_frac)\n",
    "train_size = int(p.size * (1 - test_frac))\n",
    "\n",
    "idx_test = np.ravel([(p[0:test_size] + i * 10) for i in range(10)])\n",
    "idx_train = np.ravel([(p[test_size:p.size] + i * 10) for i in range(10)])\n",
    "\n",
    "x_test = np.array(features[idx_test])\n",
    "y_test = np.array(labels[idx_test])\n",
    "\n",
    "x_train = np.array(features[idx_train])\n",
    "y_train = np.array(labels[idx_train])"
   ]
  },
  {
   "cell_type": "markdown",
   "metadata": {},
   "source": [
    "### Define functions"
   ]
  },
  {
   "cell_type": "code",
   "execution_count": 183,
   "metadata": {},
   "outputs": [],
   "source": [
    "def one_hot(n: int, i: int) -> np.ndarray:\n",
    "    q = np.zeros(n)\n",
    "    q[i] = 1.0\n",
    "    return q\n",
    "\n",
    "\n",
    "@njit(fastmath=True)\n",
    "def norm(x: np.ndarray) -> float:\n",
    "    return sqrt(np.sum(np.square(x)))\n",
    "\n",
    "\n",
    "@njit(fastmath=True)\n",
    "def cosim(a: np.ndarray, b: np.ndarray) -> float:\n",
    "    return (a @ b) / (norm(a) * norm(b))\n",
    "\n",
    "\n",
    "@njit(fastmath=True)\n",
    "def mcosim(m: np.ndarray, x: np.ndarray) -> float:\n",
    "    y = np.zeros(m.shape[0])\n",
    "    x_norm = norm(x)\n",
    "    \n",
    "    for i in range(m.shape[0]):\n",
    "        y[i] = (m[i] @ x) / (norm(m[i]) * x_norm)\n",
    "        \n",
    "    return y\n",
    "\n",
    "\n",
    "@njit(fastmath=True)\n",
    "def project(x: np.ndarray, m: np.ndarray) -> np.ndarray:\n",
    "    return (m @ x) / np.sum(m * m, axis=1)\n",
    "\n",
    "\n",
    "@njit(fastmath=True)\n",
    "def ReLU(x: np.ndarray) -> np.ndarray:\n",
    "    return np.maximum(np.zeros(x.shape), x)\n",
    "\n",
    "\n",
    "@njit(fastmath=True)\n",
    "def dReLU(x: np.ndarray) -> np.ndarray:\n",
    "    return 1 * (x > 0)\n",
    "\n",
    "\n",
    "@njit(fastmath=True)\n",
    "def sigmoid(x: np.ndarray) -> np.ndarray:\n",
    "    return 1 / (1 + np.exp(-x))\n",
    "\n",
    "\n",
    "@njit(fastmath=True)\n",
    "def dSigmoid(x: np.ndarray) -> np.ndarray:\n",
    "    y = 1 / (1 + np.exp(-x))\n",
    "    return y * (1 - y)\n",
    "\n",
    "\n",
    "@njit(fastmath=True)\n",
    "def softmax(x: np.ndarray) -> np.ndarray:\n",
    "    y = np.exp(x)\n",
    "    return y / np.sum(y)"
   ]
  },
  {
   "cell_type": "markdown",
   "metadata": {},
   "source": [
    "### Define model"
   ]
  },
  {
   "cell_type": "code",
   "execution_count": 201,
   "metadata": {},
   "outputs": [],
   "source": [
    "@njit(fastmath=True)\n",
    "def grads(x_batch: np.ndarray, y_batch: np.ndarray, V: np.ndarray, W: np.ndarray) -> tuple[np.ndarray]:\n",
    "    dV = np.zeros(V.shape)\n",
    "    dW = np.zeros(W.shape)\n",
    "\n",
    "    for i in range(x_batch.shape[0]):\n",
    "        h = W.T @ y_batch[i]\n",
    "        # dh = dReLU(h)\n",
    "        # x = V.T @ ReLU(h)\n",
    "        x = V.T @ h\n",
    "\n",
    "        dLdx = 2 * (x - x_batch[i])\n",
    "        # dLdh = V @ dLdx * dh\n",
    "        dLdh = V @ dLdx\n",
    "\n",
    "        dLdV = np.outer(h, dLdx)\n",
    "        dLdw = np.outer(y_batch[i], dLdh)\n",
    "\n",
    "        dV += dLdV\n",
    "        dW += dLdw\n",
    "\n",
    "    return (dV, dW)\n",
    "\n",
    "\n",
    "class Perceptron:\n",
    "    def __init__(self, nIn: int, nH: int, nOut: int) -> None:\n",
    "        self.nIn = nIn\n",
    "        self.nH = nH\n",
    "        self.nOut = nOut\n",
    "\n",
    "        self.V: np.ndarray = np.random.uniform(-1, 1, (nH, nIn))\n",
    "        self.W: np.ndarray = np.random.uniform(-1, 1, (nOut, nH))\n",
    "\n",
    "    def predict(self, y: np.ndarray) -> np.ndarray:\n",
    "        # return self.V.T @ ReLU(self.W.T @ y)\n",
    "        return self.V.T @ (self.W.T @ y)\n",
    "\n",
    "    def loss(self, y_batch: np.ndarray, x_batch: np.ndarray) -> float:\n",
    "        x_pred_batch = np.array([self.predict(y) for y in y_batch])\n",
    "        d = np.sum(np.square(x_pred_batch - x_batch), axis=1)\n",
    "        return np.mean(d)\n",
    "\n",
    "    def train(self, x_train: np.ndarray, y_train: np.ndarray, lr, batch_size, max_epoch) -> None:\n",
    "        n = x_train.shape[0]\n",
    "\n",
    "        for epoch in range(max_epoch):\n",
    "            idxs = np.random.permutation(n)\n",
    "            n_batches = n // batch_size\n",
    "\n",
    "            for i in range(n_batches):\n",
    "                ibegin = i * batch_size\n",
    "                iend = min((i + 1) * batch_size, n - 1)\n",
    "                batch_idxs = idxs[ibegin:iend]\n",
    "\n",
    "                dV, dW = grads(x_train[batch_idxs], y_train[batch_idxs], self.V, self.W)\n",
    "\n",
    "                self.V -= lr * dV\n",
    "                self.W -= lr * dW"
   ]
  },
  {
   "cell_type": "markdown",
   "metadata": {},
   "source": [
    "### Create and train model"
   ]
  },
  {
   "cell_type": "code",
   "execution_count": 223,
   "metadata": {},
   "outputs": [
    {
     "name": "stdout",
     "output_type": "stream",
     "text": [
      "untrained loss:  78.738\n",
      "trained loss:  0.3943\n"
     ]
    }
   ],
   "source": [
    "nIn = 35\n",
    "nH = 16\n",
    "nOut = 10\n",
    "\n",
    "learning_rate = 1e-2\n",
    "batch_size = 8\n",
    "max_epoch = 256\n",
    "\n",
    "model = Perceptron(nIn, nH, nOut)\n",
    "\n",
    "print('untrained loss: ', model.loss(y_test, x_test).round(4))\n",
    "\n",
    "model.train(x_train, y_train, learning_rate, batch_size, max_epoch)\n",
    "\n",
    "print('trained loss: ', model.loss(y_test, x_test).round(4))"
   ]
  },
  {
   "cell_type": "code",
   "execution_count": 224,
   "metadata": {},
   "outputs": [],
   "source": [
    "W = model.W\n",
    "V = model.V"
   ]
  },
  {
   "cell_type": "code",
   "execution_count": 225,
   "metadata": {},
   "outputs": [
    {
     "data": {
      "image/png": "[encoded data removed]",
      "text/plain": [
       "<Figure size 1500x500 with 10 Axes>"
      ]
     },
     "metadata": {},
     "output_type": "display_data"
    }
   ],
   "source": [
    "fig, axes = plt.subplots(nrows=1, ncols=10)\n",
    "fig.set_figwidth(15)\n",
    "fig.set_figheight(5)\n",
    "fig.set_dpi(100)\n",
    "\n",
    "for i, ax in enumerate(axes.ravel()):\n",
    "    x = V.T @ W[i]\n",
    "    # x = V.T @ ReLU(W[i])\n",
    "    img = ax.imshow(x.reshape(img_shape), cmap='binary_r')\n",
    "    ax.set_xticks([])\n",
    "    ax.set_yticks([])\n",
    "\n",
    "plt.tight_layout()\n",
    "plt.show()\n",
    "\n",
    "# print(np.round(np.apply_along_axis(sigmoid, 0, W).T, 3))\n",
    "# print(np.round(W.T, 3))"
   ]
  },
  {
   "cell_type": "code",
   "execution_count": 226,
   "metadata": {},
   "outputs": [
    {
     "data": {
      "image/png": "[encoded data removed]",
      "text/plain": [
       "<Figure size 1500x500 with 16 Axes>"
      ]
     },
     "metadata": {},
     "output_type": "display_data"
    }
   ],
   "source": [
    "fig, axes = plt.subplots(nrows=1, ncols=nH)\n",
    "fig.set_figwidth(15)\n",
    "fig.set_figheight(5)\n",
    "fig.set_dpi(100)\n",
    "\n",
    "for i, ax in enumerate(axes.ravel()):\n",
    "    img = ax.imshow(V[i].reshape(img_shape), cmap='binary_r')\n",
    "    ax.set_xticks([])\n",
    "    ax.set_yticks([])\n",
    "\n",
    "plt.tight_layout()\n",
    "plt.show()"
   ]
  },
  {
   "cell_type": "code",
   "execution_count": 227,
   "metadata": {},
   "outputs": [
    {
     "data": {
      "image/png": "[encoded data removed]",
      "text/plain": [
       "<Figure size 640x480 with 1 Axes>"
      ]
     },
     "metadata": {},
     "output_type": "display_data"
    }
   ],
   "source": [
    "y = np.array([0.2, 0.7, 0, 0, 0, 0, 0, 0.0, 0.1, 0.0])\n",
    "x = model.predict(y)\n",
    "\n",
    "plt.imshow(x.reshape(img_shape), cmap='binary_r')\n",
    "plt.show()"
   ]
  }
 ],
 "metadata": {
  "kernelspec": {
   "display_name": "jupyter-venv",
   "language": "python",
   "name": "python3"
  },
  "language_info": {
   "codemirror_mode": {
    "name": "ipython",
    "version": 3
   },
   "file_extension": ".py",
   "mimetype": "text/x-python",
   "name": "python",
   "nbconvert_exporter": "python",
   "pygments_lexer": "ipython3",
   "version": "3.10.12"
  }
 },
 "nbformat": 4,
 "nbformat_minor": 4
}

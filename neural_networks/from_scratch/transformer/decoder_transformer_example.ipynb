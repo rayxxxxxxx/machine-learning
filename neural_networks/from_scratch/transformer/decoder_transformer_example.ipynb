{
 "cells": [
  {
   "cell_type": "code",
   "execution_count": 1,
   "metadata": {
    "executionInfo": {
     "elapsed": 11459,
     "status": "ok",
     "timestamp": 1743703639899,
     "user": {
      "displayName": "rayxxx",
      "userId": "02334739596992171567"
     },
     "user_tz": -180
    },
    "id": "wI-CMmP6WtGr"
   },
   "outputs": [],
   "source": [
    "import string\n",
    "\n",
    "import torch\n",
    "import torch.nn as nn\n",
    "import torch.nn.functional as F"
   ]
  },
  {
   "cell_type": "code",
   "execution_count": 2,
   "metadata": {
    "executionInfo": {
     "elapsed": 23,
     "status": "ok",
     "timestamp": 1743703639950,
     "user": {
      "displayName": "rayxxx",
      "userId": "02334739596992171567"
     },
     "user_tz": -180
    },
    "id": "bMBnE4u7lRUq"
   },
   "outputs": [],
   "source": [
    "class AttentionHead(nn.Module):\n",
    "    def __init__(self,emb_dim, ctx_size, in_dim) -> None:\n",
    "        super(AttentionHead, self).__init__()\n",
    "\n",
    "        self.emb_dim = emb_dim\n",
    "\n",
    "        self.q = nn.Linear(in_dim, emb_dim, bias=False)\n",
    "        self.k = nn.Linear(in_dim, emb_dim, bias=False)\n",
    "        self.v = nn.Linear(in_dim, in_dim, bias=False)\n",
    "\n",
    "        self.register_buffer('mask', torch.tril(torch.ones(ctx_size, ctx_size))==0)\n",
    "\n",
    "    def forward(self, x: torch.Tensor) -> torch.Tensor:\n",
    "        Q, K, V = self.q(x), self.k(x), self.v(x)\n",
    "        A = (Q @ K.transpose(1,2)) * (self.emb_dim)**-0.5\n",
    "        A = F.softmax(A.masked_fill(self.mask, -torch.inf), dim=2)\n",
    "        return A @ V"
   ]
  },
  {
   "cell_type": "code",
   "execution_count": 3,
   "metadata": {
    "executionInfo": {
     "elapsed": 43,
     "status": "ok",
     "timestamp": 1743703639995,
     "user": {
      "displayName": "rayxxx",
      "userId": "02334739596992171567"
     },
     "user_tz": -180
    },
    "id": "iXtVMn5-ydIg"
   },
   "outputs": [],
   "source": [
    "class MultiHeadAttention(nn.Module):\n",
    "    def __init__(self, n_heads, emb_dim, ctx_size, in_dim) -> None:\n",
    "        super(MultiHeadAttention, self).__init__()\n",
    "\n",
    "        self.heads = nn.ModuleList([AttentionHead(emb_dim//n_heads, ctx_size, in_dim) for i in range(n_heads)])\n",
    "        self.proj = nn.Linear(n_heads*in_dim, in_dim)\n",
    "\n",
    "    def forward(self, x: torch.Tensor) -> torch.Tensor:\n",
    "        t = torch.cat([h(x) for h in self.heads], dim=2)\n",
    "        return self.proj(t)"
   ]
  },
  {
   "cell_type": "code",
   "execution_count": 4,
   "metadata": {
    "executionInfo": {
     "elapsed": 21,
     "status": "ok",
     "timestamp": 1743703640015,
     "user": {
      "displayName": "rayxxx",
      "userId": "02334739596992171567"
     },
     "user_tz": -180
    },
    "id": "28hRvp05pd4p"
   },
   "outputs": [],
   "source": [
    "class Block(nn.Module):\n",
    "    def __init__(self, n_heads, emb_dim, h_dim, ctx_size, in_dim) -> None:\n",
    "        super(Block, self).__init__()\n",
    "\n",
    "        self.attention = MultiHeadAttention(n_heads, emb_dim, ctx_size, in_dim)\n",
    "        self.mlp = nn.Sequential(nn.Linear(in_dim, h_dim), nn.ReLU(), nn.Linear(h_dim, in_dim))\n",
    "\n",
    "    def forward(self, x: torch.Tensor) -> torch.Tensor:\n",
    "        x = x + self.attention(x)\n",
    "        return x + self.mlp(x)"
   ]
  },
  {
   "cell_type": "code",
   "execution_count": 5,
   "metadata": {
    "executionInfo": {
     "elapsed": 18,
     "status": "ok",
     "timestamp": 1743703640035,
     "user": {
      "displayName": "rayxxx",
      "userId": "02334739596992171567"
     },
     "user_tz": -180
    },
    "id": "bRD_Gg1o8a52"
   },
   "outputs": [
    {
     "name": "stdout",
     "output_type": "stream",
     "text": [
      "95  !\"#$%&'()*+,-./:;<=>?@[\\]^_`{|}~0123456789abcdefghijklmnopqrstuvwxyzABCDEFGHIJKLMNOPQRSTUVWXYZ\n"
     ]
    }
   ],
   "source": [
    "abc = ' ' + string.punctuation + string.digits + string.ascii_letters\n",
    "len_abc = len(abc)\n",
    "\n",
    "itoc = {i:c for i,c in enumerate(abc)}\n",
    "ctoi = {c:i for i,c in enumerate(abc)}\n",
    "\n",
    "print(len_abc, abc)"
   ]
  },
  {
   "cell_type": "code",
   "execution_count": 6,
   "metadata": {
    "executionInfo": {
     "elapsed": 127,
     "status": "ok",
     "timestamp": 1743703640166,
     "user": {
      "displayName": "rayxxx",
      "userId": "02334739596992171567"
     },
     "user_tz": -180
    },
    "id": "i8b97yIZ9AEo"
   },
   "outputs": [],
   "source": [
    "def decode(l):\n",
    "    return ''.join([itoc[i] for i in l])\n",
    "\n",
    "def list_to_seq(l):\n",
    "    t = torch.tensor(l).long()\n",
    "    return F.one_hot(t, len_abc).float()"
   ]
  },
  {
   "cell_type": "code",
   "execution_count": 7,
   "metadata": {
    "executionInfo": {
     "elapsed": 4,
     "status": "ok",
     "timestamp": 1743703734226,
     "user": {
      "displayName": "rayxxx",
      "userId": "02334739596992171567"
     },
     "user_tz": -180
    },
    "id": "z6SVgTjL2WhT"
   },
   "outputs": [],
   "source": [
    "ctx_size = 4\n",
    "in_dim = len_abc\n",
    "\n",
    "n_blocks = 4\n",
    "n_heads = 4\n",
    "emb_dim = 16\n",
    "h_dim = 32"
   ]
  },
  {
   "cell_type": "code",
   "execution_count": 8,
   "metadata": {
    "executionInfo": {
     "elapsed": 13,
     "status": "ok",
     "timestamp": 1743703740038,
     "user": {
      "displayName": "rayxxx",
      "userId": "02334739596992171567"
     },
     "user_tz": -180
    },
    "id": "41nV-0g881Tn"
   },
   "outputs": [],
   "source": [
    "args = [n_heads, emb_dim, h_dim, ctx_size, in_dim]\n",
    "modules = [Block(*args) for i in range(n_blocks)]\n",
    "model = nn.Sequential(*modules)"
   ]
  },
  {
   "cell_type": "code",
   "execution_count": 11,
   "metadata": {
    "colab": {
     "base_uri": "https://localhost:8080/"
    },
    "executionInfo": {
     "elapsed": 839,
     "status": "ok",
     "timestamp": 1743703751385,
     "user": {
      "displayName": "rayxxx",
      "userId": "02334739596992171567"
     },
     "user_tz": -180
    },
    "id": "AzunHUDY9vjQ",
    "outputId": "1a68070e-aa57-4fa8-e980-91378976dc2e"
   },
   "outputs": [
    {
     "name": "stdout",
     "output_type": "stream",
     "text": [
      "v~)2'r`HBp 4_(P47e|?<EkB.hxpDsFkv(Ygu.unrAck7D\\VNFO-asXmpfreN=3O=.uSN;e9usOeFIpA Iq`2}Z:oohb\"pNS>Ee?\"wZYz0&i\\3/v6pV,DIBOY#kyARKb\n"
     ]
    }
   ],
   "source": [
    "output = [0] * ctx_size\n",
    "\n",
    "for t in range(128):\n",
    "    x = list_to_seq(output[t:t+ctx_size]).unsqueeze(0)\n",
    "    p = torch.exp(model(x)[0][0])\n",
    "    i = torch.multinomial(p, 1, True)\n",
    "    output.append(i.item())\n",
    "\n",
    "print(decode(output[ctx_size:]))"
   ]
  }
 ],
 "metadata": {
  "colab": {
   "authorship_tag": "ABX9TyPGvDVBzl6uSnc/wFqeR5mR",
   "provenance": []
  },
  "kernelspec": {
   "display_name": ".pytorch",
   "language": "python",
   "name": "python3"
  },
  "language_info": {
   "codemirror_mode": {
    "name": "ipython",
    "version": 3
   },
   "file_extension": ".py",
   "mimetype": "text/x-python",
   "name": "python",
   "nbconvert_exporter": "python",
   "pygments_lexer": "ipython3",
   "version": "3.12.8"
  }
 },
 "nbformat": 4,
 "nbformat_minor": 0
}

{
 "cells": [
  {
   "cell_type": "code",
   "execution_count": 1,
   "metadata": {},
   "outputs": [],
   "source": [
    "import string\n",
    "import numpy as np"
   ]
  },
  {
   "cell_type": "code",
   "execution_count": 2,
   "metadata": {},
   "outputs": [],
   "source": [
    "abc = ' .,' + string.ascii_lowercase\n",
    "len_abc = len(abc)\n",
    "\n",
    "itoc = {i:c for c,i in zip(abc, range(len_abc))}\n",
    "ctoi = {c:i for c,i in zip(abc, range(len_abc))}\n",
    "\n",
    "def encode(text: str) -> list[int]:\n",
    "    return [ctoi[c] for c in text]\n",
    "\n",
    "def decode(idxs: list[int]) -> str:\n",
    "    return ''.join([itoc[i] for i in idxs])"
   ]
  },
  {
   "cell_type": "code",
   "execution_count": 3,
   "metadata": {},
   "outputs": [],
   "source": [
    "def onehot(n: int, i: int) -> np.ndarray:\n",
    "    vector = np.zeros(n)\n",
    "    vector[i] = 1.0\n",
    "    return vector\n",
    "\n",
    "def str2seq(text: str) -> np.ndarray:\n",
    "    return np.array([onehot(len_abc, i) for i in encode(text)])\n",
    "\n",
    "def seq2str(seq: np.ndarray) -> str:\n",
    "    return decode([int(np.argmax(v)) for v in seq])"
   ]
  },
  {
   "cell_type": "code",
   "execution_count": 4,
   "metadata": {},
   "outputs": [],
   "source": [
    "def softmax(x: np.ndarray) -> np.ndarray:\n",
    "    y = np.exp(x)\n",
    "    return y / np.sum(y)"
   ]
  },
  {
   "cell_type": "markdown",
   "metadata": {},
   "source": [
    "### Define model"
   ]
  },
  {
   "cell_type": "code",
   "execution_count": 5,
   "metadata": {},
   "outputs": [],
   "source": [
    "class RNN:\n",
    "    def __init__(self, n_in: int, n_h: int, n_out: int) -> None:\n",
    "        self.W_ih: np.ndarray = np.random.uniform(-1, 1, (n_h, n_in))\n",
    "        self.W_hh: np.ndarray = np.random.uniform(-1, 1, (n_h, n_h))\n",
    "        self.b_h: np.ndarray = np.zeros(n_h)\n",
    "\n",
    "        self.W_ho: np.ndarray = np.random.uniform(-1, 1, (n_out, n_h))\n",
    "        self.b_ho: np.ndarray = np.zeros(n_out)\n",
    "    \n",
    "    @property\n",
    "    def parameters(self) -> tuple[np.ndarray]:\n",
    "        return (self.W_ih, self.W_hh, self.b_h, self.W_ho, self.b_ho)\n",
    "    \n",
    "    def many_to_one(self, sequence: np.ndarray) -> tuple[np.ndarray]:\n",
    "        context: np.ndarray = np.zeros(len(self.W_hh))\n",
    "        \n",
    "        for x in sequence:\n",
    "            context = np.tanh(self.W_ih @ x + self.W_hh @ context + self.b_h)\n",
    "        output = softmax(self.W_ho @ context + self.b_ho)\n",
    "        \n",
    "        return (output, context)\n",
    "\n",
    "    def one_to_many(self, x: np.ndarray, t: int) -> tuple[np.ndarray]:\n",
    "        outputs: np.ndarray = np.zeros((t, len(self.W_ho)))\n",
    "        context = np.tanh(self.W_ih @ x + self.b_h)\n",
    "\n",
    "        for i in range(t):\n",
    "            outputs[i] = softmax(self.W_ho @ context + self.b_ho)\n",
    "            context = np.tanh(self.W_ih @ outputs[i] + self.W_hh @ context + self.b_h)\n",
    "\n",
    "        return (outputs, context)\n",
    "\n",
    "    def many_to_many(self, sequence: np.ndarray) -> tuple[np.ndarray]:\n",
    "        outputs: np.ndarray = np.zeros((len(sequence), len(self.W_ho)))\n",
    "        context: np.ndarray = np.zeros(len(self.W_hh))\n",
    "\n",
    "        for i,x in enumerate(sequence):\n",
    "            context = np.tanh(self.W_ih @ x + self.W_hh @ context + self.b_h)\n",
    "            outputs[i] = softmax(self.W_ho @ context + self.b_ho)\n",
    "        \n",
    "        return (outputs, context)\n",
    "    \n",
    "    def seq_to_seq(self, sequence: np.ndarray, t: int) -> tuple[np.ndarray]:\n",
    "        outputs: np.ndarray = np.zeros((t, len(self.W_ho)))\n",
    "        context: np.ndarray = np.zeros(len(self.W_hh))\n",
    "\n",
    "        for i,x in enumerate(sequence):\n",
    "            context = np.tanh(self.W_ih @ x + self.W_hh @ context + self.b_h)\n",
    "        \n",
    "        for i in range(t):\n",
    "            outputs[i] = softmax(self.W_ho @ context + self.b_ho)\n",
    "            context = np.tanh(self.W_ih @ outputs[i-1] + self.W_hh @ context + self.b_h)\n",
    "        \n",
    "        return (outputs, context)\n"
   ]
  },
  {
   "cell_type": "markdown",
   "metadata": {},
   "source": [
    "### Create and run model"
   ]
  },
  {
   "cell_type": "code",
   "execution_count": 11,
   "metadata": {},
   "outputs": [],
   "source": [
    "n_in = len_abc\n",
    "n_h = 64\n",
    "n_out = len_abc\n",
    "\n",
    "model = RNN(n_in, n_h, n_out)"
   ]
  },
  {
   "cell_type": "code",
   "execution_count": 12,
   "metadata": {},
   "outputs": [
    {
     "name": "stdout",
     "output_type": "stream",
     "text": [
      "u\n"
     ]
    }
   ],
   "source": [
    "text = 'the quick brown fox jumps over the lazy dog'\n",
    "seq = str2seq(text)\n",
    "\n",
    "outputs, context = model.many_to_one(seq)\n",
    "print(abc[np.argmax(outputs)])"
   ]
  },
  {
   "cell_type": "code",
   "execution_count": 13,
   "metadata": {},
   "outputs": [
    {
     "name": "stdout",
     "output_type": "stream",
     "text": [
      "wykejio,ryreyz.mzuuhsk,duiicuafauyddndkdmlu.ii,okdhtvdqaeqrbiiuapnbmhjqrry.xiiaykpkdttqqsevu .mjnub,urtppfhhwabq.uiwvrmfz bdpedz\n"
     ]
    }
   ],
   "source": [
    "text = 't'\n",
    "seq = str2seq(text)\n",
    "\n",
    "outputs, context = model.one_to_many(seq[0], 128)\n",
    "print(seq2str(outputs))"
   ]
  },
  {
   "cell_type": "code",
   "execution_count": 14,
   "metadata": {},
   "outputs": [
    {
     "name": "stdout",
     "output_type": "stream",
     "text": [
      "wgvq uownmkzqhfdqiruskwqebdijnuziue,yfpupxu\n"
     ]
    }
   ],
   "source": [
    "text = 'the quick brown fox jumps over the lazy dog'\n",
    "seq = str2seq(text)\n",
    "\n",
    "outputs, context = model.many_to_many(seq)\n",
    "print(seq2str(outputs))"
   ]
  },
  {
   "cell_type": "code",
   "execution_count": 15,
   "metadata": {},
   "outputs": [
    {
     "name": "stdout",
     "output_type": "stream",
     "text": [
      "ushuybpta caah gbtld,adfchttqqgu.mia.dpmhw v lcbxfzfhihpsapqab c,r.midpp.a.huhgpqcvwb ukmy,tdiwucku.y,.uorim.hh.hbtfe.c xfeidqwy\n"
     ]
    }
   ],
   "source": [
    "text = 'the quick brown fox jumps over the lazy dog'\n",
    "seq = str2seq(text)\n",
    "\n",
    "outputs, context = model.seq_to_seq(seq, 128)\n",
    "print(seq2str(outputs))"
   ]
  }
 ],
 "metadata": {
  "kernelspec": {
   "display_name": ".venv",
   "language": "python",
   "name": "python3"
  },
  "language_info": {
   "codemirror_mode": {
    "name": "ipython",
    "version": 3
   },
   "file_extension": ".py",
   "mimetype": "text/x-python",
   "name": "python",
   "nbconvert_exporter": "python",
   "pygments_lexer": "ipython3",
   "version": "3.12.8"
  }
 },
 "nbformat": 4,
 "nbformat_minor": 4
}

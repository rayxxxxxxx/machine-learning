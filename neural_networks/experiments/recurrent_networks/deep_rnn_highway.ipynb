{
 "cells": [
  {
   "cell_type": "code",
   "execution_count": null,
   "id": "628d48e0",
   "metadata": {},
   "outputs": [],
   "source": [
    "import torch\n",
    "import torch.nn as nn\n",
    "import torch.nn.functional as F"
   ]
  },
  {
   "cell_type": "code",
   "execution_count": null,
   "id": "a5069fd7",
   "metadata": {},
   "outputs": [],
   "source": [
    "class DeepRnnHighway(nn.Module):\n",
    "    def __init__(self, in_dim, h_dim, n_layers) -> None:\n",
    "        super(DeepRnnHighway, self).__init__()\n",
    "\n",
    "        self.in_dim = in_dim\n",
    "        self.h_dim = h_dim\n",
    "        self.n_layers = n_layers\n",
    "\n",
    "        self.in2h = nn.Linear(in_dim, h_dim)\n",
    "        self.W = [nn.Parameter(torch.rand(h_dim, h_dim)) for _ in range(n_layers)]\n",
    "    \n",
    "    def init(self) -> None:\n",
    "        for w in self.W:\n",
    "            nn.init.xavier_uniform_(w)\n",
    "\n",
    "    def forward(self, x: torch.Tensor, h: torch.Tensor = None, batch_first: bool = True) -> torch.Tensor:\n",
    "        if batch_first:\n",
    "            x = x.transpose(0,1)\n",
    "        seq_len, batch_size, _ = x.size()\n",
    "\n",
    "        if h is None:\n",
    "            h = torch.rand(self.n_layers, batch_size, self.h_dim)\n",
    "        \n",
    "        for j in range(seq_len):\n",
    "            print(80*'=')\n",
    "            h_prev = self.in2h(x[j])\n",
    "            for i in range(self.n_layers):\n",
    "                a = F.sigmoid(h[i] @ self.W[i] @ h_prev.T)\n",
    "                g = F.sigmoid(h[i] * h_prev)\n",
    "                h[i] = a*(1-g)*h[i] + (1-a)*g*h_prev\n",
    "                h_prev = h[i]\n",
    "                print(f'L-{i}: {a.data}')\n",
    "        \n",
    "        return h"
   ]
  },
  {
   "cell_type": "code",
   "execution_count": null,
   "id": "dfd59a78",
   "metadata": {},
   "outputs": [],
   "source": [
    "model = DeepRnnHighway(128, 256, 3)\n",
    "model.init()\n",
    "\n",
    "h = None\n",
    "x = torch.rand(1, 5, 128)"
   ]
  },
  {
   "cell_type": "code",
   "execution_count": null,
   "id": "f5535f96",
   "metadata": {},
   "outputs": [],
   "source": [
    "# x = torch.rand(1, 5, 128)\n",
    "h = model(x, h)\n",
    "print(h.shape)"
   ]
  }
 ],
 "metadata": {
  "kernelspec": {
   "display_name": ".pytorch",
   "language": "python",
   "name": "python3"
  },
  "language_info": {
   "codemirror_mode": {
    "name": "ipython",
    "version": 3
   },
   "file_extension": ".py",
   "mimetype": "text/x-python",
   "name": "python",
   "nbconvert_exporter": "python",
   "pygments_lexer": "ipython3",
   "version": "3.12.8"
  }
 },
 "nbformat": 4,
 "nbformat_minor": 5
}

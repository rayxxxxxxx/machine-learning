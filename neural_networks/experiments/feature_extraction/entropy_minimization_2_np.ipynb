{
 "cells": [
  {
   "cell_type": "code",
   "execution_count": 1,
   "metadata": {},
   "outputs": [],
   "source": [
    "from pathlib import Path\n",
    "import random\n",
    "import math\n",
    "\n",
    "import numpy as np\n",
    "from numba import njit\n",
    "\n",
    "from matplotlib import pyplot as plt"
   ]
  },
  {
   "cell_type": "markdown",
   "metadata": {},
   "source": [
    "### Load reference data"
   ]
  },
  {
   "cell_type": "code",
   "execution_count": 2,
   "metadata": {},
   "outputs": [],
   "source": [
    "img_size = 784\n",
    "img_shape = (28, 28)\n",
    "\n",
    "train_data = np.loadtxt(Path(r'D:\\Development\\Python\\jupyter\\data\\csv\\mnist_train_small.csv'), delimiter=',')\n",
    "test_data = np.loadtxt(Path(r'D:\\Development\\Python\\jupyter\\data\\csv\\mnist_test.csv'), delimiter=',')"
   ]
  },
  {
   "cell_type": "markdown",
   "metadata": {},
   "source": [
    "### Generate dataset"
   ]
  },
  {
   "cell_type": "code",
   "execution_count": 3,
   "metadata": {},
   "outputs": [],
   "source": [
    "def one_hot(n_samples: int, idx: int) -> np.ndarray:\n",
    "    q = np.zeros(n_samples)\n",
    "    q[idx] = 1.0\n",
    "    return q"
   ]
  },
  {
   "cell_type": "code",
   "execution_count": 4,
   "metadata": {},
   "outputs": [],
   "source": [
    "x_train = train_data[:,1:] / 255.0\n",
    "y_train = np.array([one_hot(10, int(i)) for i in train_data[:,0]])\n",
    "\n",
    "x_test = test_data[:,1:] / 255.0\n",
    "y_test = np.array([one_hot(10, int(i)) for i in test_data[:,0]])"
   ]
  },
  {
   "cell_type": "code",
   "execution_count": 5,
   "metadata": {},
   "outputs": [],
   "source": [
    "mean_x = np.zeros((10, img_size))\n",
    "count_x = np.zeros(10)\n",
    "\n",
    "for i in range(x_train.shape[0]):\n",
    "    j = np.argmax(y_train[i])\n",
    "    count_x[j] += 1\n",
    "    mean_x[j] += x_train[i]\n",
    "\n",
    "mean_x /= count_x.reshape((10, 1))"
   ]
  },
  {
   "cell_type": "markdown",
   "metadata": {},
   "source": [
    "### Define functions"
   ]
  },
  {
   "cell_type": "code",
   "execution_count": 6,
   "metadata": {},
   "outputs": [],
   "source": [
    "@njit(fastmath=True)\n",
    "def norm(x: np.ndarray) -> float:\n",
    "    return math.sqrt(np.sum(np.square(x)))\n",
    "\n",
    "\n",
    "@njit(fastmath=True)\n",
    "def norm_squared(x: np.ndarray) -> float:\n",
    "    return np.sum(np.square(x))\n",
    "\n",
    "\n",
    "@njit(fastmath=True)\n",
    "def cosim(a: np.ndarray, b: np.ndarray) -> float:\n",
    "    return np.dot(a, b) / (norm(a) * norm(b))\n",
    "\n",
    "\n",
    "def mcosim(m: np.ndarray, x: np.ndarray) -> np.ndarray:\n",
    "    return np.dot(m, x) / (np.apply_along_axis(norm, 1, m) * norm(x))\n",
    "\n",
    "\n",
    "def mmcosim(m: np.ndarray) -> np.ndarray:\n",
    "    norms = np.apply_along_axis(norm, 1, m)\n",
    "    return (m @ m.T) / np.outer(norms, norms)"
   ]
  },
  {
   "cell_type": "code",
   "execution_count": 7,
   "metadata": {},
   "outputs": [],
   "source": [
    "@njit(fastmath=True)\n",
    "def sigmoid(x: np.ndarray) -> np.ndarray:\n",
    "    return 1.0 / (1.0 + np.exp(-x))\n",
    "\n",
    "\n",
    "@njit(fastmath=True)\n",
    "def dsigmoid(x: np.ndarray) -> np.ndarray:\n",
    "    y = sigmoid(x)\n",
    "    return y * (1 - y)\n",
    "\n",
    "\n",
    "@njit(fastmath=True)\n",
    "def softmax(x: np.ndarray) -> np.ndarray:\n",
    "    y = np.exp(x)\n",
    "    return y / np.sum(y)"
   ]
  },
  {
   "cell_type": "code",
   "execution_count": 8,
   "metadata": {},
   "outputs": [],
   "source": [
    "@njit(fastmath=True)\n",
    "def binary_entropy(y: np.ndarray) -> float:\n",
    "    return -np.sum(y * np.log(y) + (1-y) * np.log(1-y))\n",
    "\n",
    "\n",
    "@njit(fastmath=True)\n",
    "def entropy(y: np.ndarray) -> float:\n",
    "    return -np.sum(y * np.log(y))\n",
    "\n",
    "\n",
    "@njit(fastmath=True)\n",
    "def binary_cross_entropy(p: np.ndarray, q: np.ndarray) -> float:\n",
    "    return -np.sum(p * np.log(q) + (1-p) * np.log(1-q))\n",
    "\n",
    "\n",
    "@njit(fastmath=True)\n",
    "def cross_entropy(p: np.ndarray, q: np.ndarray) -> float:\n",
    "    return -np.sum(p * np.log(q))\n",
    "\n",
    "\n",
    "@njit(fastmath=True)\n",
    "def kl_divergence(p: np.ndarray, q: np.ndarray) -> float:\n",
    "    return -np.sum(p * np.log(q/p))"
   ]
  },
  {
   "cell_type": "code",
   "execution_count": 9,
   "metadata": {},
   "outputs": [],
   "source": [
    "def range_normalize(x: np.ndarray, a: float, b: float) -> np.ndarray:\n",
    "    return a + (b - a) * (x - np.min(x)) / (np.max(x) - np.min(x))"
   ]
  },
  {
   "cell_type": "markdown",
   "metadata": {},
   "source": [
    "### Define model"
   ]
  },
  {
   "cell_type": "code",
   "execution_count": 10,
   "metadata": {},
   "outputs": [],
   "source": [
    "class Perceptron:\n",
    "    def __init__(self, n_in: int, n_hidden: int, n_out: int) -> None:\n",
    "        self.n_in = n_in\n",
    "        self.n_hidden = n_hidden\n",
    "        self.n_out = n_out\n",
    "        \n",
    "        self.v: np.ndarray = np.random.uniform(-1, 1, (n_hidden, n_in))\n",
    "        self.c: np.ndarray = np.zeros(n_hidden)\n",
    "\n",
    "        self.w: np.ndarray = np.random.uniform(-1, 1, (n_out, n_hidden))\n",
    "        self.b: np.ndarray = np.zeros(n_out)\n",
    "\n",
    "    def forward(self, x: np.ndarray) -> np.ndarray:\n",
    "        h = self.v @ x + self.c\n",
    "        return softmax(self.w @ h + self.b)\n",
    "\n",
    "    def loss(self, X: np.ndarray, Y: np.ndarray) -> float:\n",
    "        H = np.array([self.v @ x + self.c for x in X])\n",
    "        P = np.array([softmax(self.w @ h + self.b) for h in H])\n",
    "        l = np.mean(np.array([cross_entropy(y,p) for y,p in zip(Y, P)]))\n",
    "        return l\n",
    "    \n",
    "    def randomize(self) -> None:\n",
    "        self.w = np.random.uniform(-1, 1, (self.n_out, self.n_hidden))\n",
    "        self.b = np.zeros(self.n_out)"
   ]
  },
  {
   "cell_type": "markdown",
   "metadata": {},
   "source": [
    "### SGD implementation"
   ]
  },
  {
   "cell_type": "code",
   "execution_count": 11,
   "metadata": {},
   "outputs": [],
   "source": [
    "@njit(fastmath=True)\n",
    "def pretrain_grads(x_batch: np.ndarray, v: np.ndarray, c: np.ndarray, rho: float) -> tuple[np.ndarray]:\n",
    "    dv = np.zeros(v.shape)\n",
    "    dc = np.zeros(c.shape)\n",
    "\n",
    "    for i in range(x_batch.shape[0]):\n",
    "        u = v @ x_batch[i] + c\n",
    "\n",
    "        y = sigmoid(u) # 1\n",
    "\n",
    "        # y = softmax(u) # 2\n",
    "\n",
    "        # y = sigmoid(u) # 3\n",
    "        # p = softmax(y) # 3\n",
    "\n",
    "        # dLdu = y-1 # 1 (information minimization)\n",
    "        # dLdu = 10*y - 1 # 2 (information minimization)\n",
    "        dLdu = -y * (1-y) * np.log((1-y)/y) # 1 (binary entropy)\n",
    "        # dLdu = -y * (np.sum(y*np.log(y))-np.log(y)) # 2 (entropy)\n",
    "        # dLdu = -y * (np.sum(y*np.log(y/(1-y))) + np.log((1-y)/y)) # 2 (binary entropy)\n",
    "\n",
    "        # dLdu = (1-rho)*y - rho*(1-y) # 1/2\n",
    "        # dLdu += (1-rho)*p - rho*(1-p) # 3\n",
    "        # dLdu = (1-p)*y - p*(1-y) # 3\n",
    "\n",
    "        dv += np.outer(dLdu, x_batch[i])\n",
    "        dc += dLdu\n",
    "\n",
    "    return (dv, dc)\n",
    "\n",
    "\n",
    "@njit(fastmath=True)\n",
    "def grads(x_batch: np.ndarray, y_batch: np.ndarray, v: np.ndarray, c: np.ndarray, w: np.ndarray, b: np.ndarray) -> tuple[np.ndarray]:\n",
    "    dw = np.zeros(w.shape)\n",
    "    db = np.zeros(b.shape)\n",
    "\n",
    "    for i in range(x_batch.shape[0]):\n",
    "        h = v @ x_batch[i] + c\n",
    "        y = softmax(w @ h + b)\n",
    "\n",
    "        dLdz = y - y_batch[i]\n",
    "\n",
    "        dw += np.outer(dLdz, h)\n",
    "        db += dLdz\n",
    "\n",
    "    return (dw, db)\n",
    "\n",
    "\n",
    "def pretrain(model: Perceptron, x_train: np.ndarray, rho, lr, batch_size, max_epoch) -> None:\n",
    "    n = x_train.shape[0]\n",
    "    n_batches = n // batch_size\n",
    "\n",
    "    for epoch in range(max_epoch):\n",
    "        idxs = np.random.permutation(n)\n",
    "\n",
    "        for i in range(n_batches):\n",
    "            ibegin = i * batch_size\n",
    "            iend = min((i + 1) * batch_size, n - 1)\n",
    "            batch_idxs = idxs[ibegin:iend]\n",
    "\n",
    "            dv, dc = pretrain_grads(x_train[batch_idxs], model.v, model.c, rho)\n",
    "\n",
    "            model.v -= lr * dv/batch_size\n",
    "            model.c -= lr * dc/batch_size\n",
    "\n",
    "\n",
    "def train(model: Perceptron, x_train: np.ndarray, y_train: np.ndarray, lr, batch_size, max_epoch) -> None:\n",
    "    n = x_train.shape[0]\n",
    "    n_batches = n // batch_size\n",
    "\n",
    "    for epoch in range(max_epoch):\n",
    "        idxs = np.random.permutation(n)\n",
    "\n",
    "        for i in range(n_batches):\n",
    "            ibegin = i * batch_size\n",
    "            iend = min((i + 1) * batch_size, n - 1)\n",
    "            batch_idxs = idxs[ibegin:iend]\n",
    "\n",
    "            dw, db = grads(x_train[batch_idxs], y_train[batch_idxs], model.v, model.c, model.w, model.b)\n",
    "\n",
    "            model.w -= lr * dw/batch_size\n",
    "            model.b -= lr * db/batch_size"
   ]
  },
  {
   "cell_type": "markdown",
   "metadata": {},
   "source": [
    "### Create and train model"
   ]
  },
  {
   "cell_type": "code",
   "execution_count": 154,
   "metadata": {},
   "outputs": [],
   "source": [
    "n_in = 784\n",
    "n_hidden = 8\n",
    "n_out = 10\n",
    "\n",
    "rho = 1/n_out\n",
    "\n",
    "model = Perceptron(n_in, n_hidden, n_out)"
   ]
  },
  {
   "cell_type": "code",
   "execution_count": 58,
   "metadata": {},
   "outputs": [],
   "source": [
    "model.randomize()"
   ]
  },
  {
   "cell_type": "code",
   "execution_count": 156,
   "metadata": {},
   "outputs": [],
   "source": [
    "for i in range(1):\n",
    "    v_old = model.v.copy()\n",
    "    c_old = model.c.copy()\n",
    "\n",
    "    pretrain(model, x_train, rho, 0.1, 64, 4)\n",
    "\n",
    "    model.v = v_old - model.v\n",
    "    model.c = c_old - model.c"
   ]
  },
  {
   "cell_type": "code",
   "execution_count": 130,
   "metadata": {},
   "outputs": [
    {
     "name": "stdout",
     "output_type": "stream",
     "text": [
      "10.959754588103323\n",
      "1.7726157398535058\n"
     ]
    }
   ],
   "source": [
    "print(model.loss(x_test, y_test))\n",
    "train(model, x_train, y_train, 0.1, 32, 4)\n",
    "print(model.loss(x_test, y_test))"
   ]
  },
  {
   "cell_type": "code",
   "execution_count": 39,
   "metadata": {},
   "outputs": [
    {
     "name": "stdout",
     "output_type": "stream",
     "text": [
      "test set accuracy: 45.76%\n"
     ]
    }
   ],
   "source": [
    "n_true_pos = 0\n",
    "\n",
    "for x, y in zip(x_test, y_test):\n",
    "    y_pred = model.forward(x)\n",
    "    n_true_pos += 1 if np.argmax(y_pred) == np.argmax(y) else 0\n",
    "\n",
    "accuracy = n_true_pos / x_test.shape[0]\n",
    "print(f\"test set accuracy: {round(accuracy * 100, 2)}%\")"
   ]
  },
  {
   "cell_type": "markdown",
   "metadata": {},
   "source": [
    "### Visualize weights"
   ]
  },
  {
   "cell_type": "code",
   "execution_count": 157,
   "metadata": {},
   "outputs": [
    {
     "data": {
      "image/png": "[encoded data removed]",
      "text/plain": [
       "<Figure size 2000x500 with 8 Axes>"
      ]
     },
     "metadata": {},
     "output_type": "display_data"
    }
   ],
   "source": [
    "fig, axes = plt.subplots(nrows=1, ncols=8)\n",
    "\n",
    "fig.set_dpi(100)\n",
    "fig.set_figwidth(20)\n",
    "fig.set_figheight(5)\n",
    "\n",
    "for i, ax in enumerate(axes.ravel()):\n",
    "    v_norm =  range_normalize(model.v[i], -1, 1)\n",
    "    img = ax.imshow(v_norm.reshape(img_shape),  cmap='berlin')\n",
    "    ax.set_title(f\"{round(np.min(model.v[i]), 2)}; {round(np.max(model.v[i]), 2)}\")\n",
    "    ax.set_xticks([])\n",
    "    ax.set_yticks([])\n",
    "    \n",
    "plt.tight_layout()\n",
    "plt.show()"
   ]
  },
  {
   "cell_type": "code",
   "execution_count": 158,
   "metadata": {},
   "outputs": [
    {
     "name": "stdout",
     "output_type": "stream",
     "text": [
      "-0.12799987031390977 0.23457478683516247 -0.005409977818015678\n",
      "[[ 1.   -0.08 -0.11  0.09 -0.12  0.02 -0.12 -0.12]\n",
      " [-0.08  1.   -0.13 -0.01 -0.02 -0.1  -0.01 -0.04]\n",
      " [-0.11 -0.13  1.    0.01  0.05 -0.12 -0.09  0.19]\n",
      " [ 0.09 -0.01  0.01  1.    0.04  0.23 -0.1  -0.11]\n",
      " [-0.12 -0.02  0.05  0.04  1.    0.16  0.15  0.05]\n",
      " [ 0.02 -0.1  -0.12  0.23  0.16  1.    0.02 -0.08]\n",
      " [-0.12 -0.01 -0.09 -0.1   0.15  0.02  1.    0.01]\n",
      " [-0.12 -0.04  0.19 -0.11  0.05 -0.08  0.01  1.  ]]\n"
     ]
    }
   ],
   "source": [
    "sim = mmcosim(model.v)\n",
    "\n",
    "print(np.min(sim), np.max(sim-np.eye(n_hidden)), np.mean(sim-np.eye(n_hidden))/2)\n",
    "print(np.round(sim, 2))"
   ]
  }
 ],
 "metadata": {
  "kernelspec": {
   "display_name": ".venv",
   "language": "python",
   "name": "python3"
  },
  "language_info": {
   "codemirror_mode": {
    "name": "ipython",
    "version": 3
   },
   "file_extension": ".py",
   "mimetype": "text/x-python",
   "name": "python",
   "nbconvert_exporter": "python",
   "pygments_lexer": "ipython3",
   "version": "3.12.8"
  }
 },
 "nbformat": 4,
 "nbformat_minor": 4
}

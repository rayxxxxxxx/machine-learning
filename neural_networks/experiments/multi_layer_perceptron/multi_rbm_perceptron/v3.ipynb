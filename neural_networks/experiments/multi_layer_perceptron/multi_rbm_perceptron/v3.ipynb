{
 "cells": [
  {
   "cell_type": "code",
   "execution_count": 103,
   "metadata": {},
   "outputs": [],
   "source": [
    "import random\n",
    "from pathlib import Path\n",
    "\n",
    "import numpy as np\n",
    "import pandas as pd\n",
    "from numba import njit, prange\n",
    "\n",
    "from matplotlib import pyplot as plt"
   ]
  },
  {
   "cell_type": "code",
   "execution_count": 104,
   "metadata": {},
   "outputs": [
    {
     "data": {
      "image/png": "[encoded data removed]",
      "text/plain": [
       "<Figure size 1500x750 with 10 Axes>"
      ]
     },
     "metadata": {},
     "output_type": "display_data"
    }
   ],
   "source": [
    "img_shape = (7, 5)\n",
    "img_size = 35\n",
    "\n",
    "data_path = Path(r'D:/Development/Data/datasets/txt/numbers_7x5.txt')\n",
    "data_mtrx = np.loadtxt(data_path)\n",
    "\n",
    "fig, axes = plt.subplots(nrows=1, ncols=10)\n",
    "\n",
    "fig.set_dpi(150)\n",
    "fig.set_figwidth(10)\n",
    "fig.set_figheight(5)\n",
    "\n",
    "for n, ax in zip(data_mtrx, axes.ravel()):\n",
    "    ax.imshow(n.reshape(img_shape), cmap='binary_r')\n",
    "    ax.set_xticks([])\n",
    "    ax.set_yticks([])\n",
    "\n",
    "plt.tight_layout()\n",
    "plt.show()"
   ]
  },
  {
   "cell_type": "code",
   "execution_count": 105,
   "metadata": {},
   "outputs": [],
   "source": [
    "def one_hot_encoding(n: int, idx: int) -> np.ndarray:\n",
    "    q = np.zeros(n)\n",
    "    q[idx] = 1.0\n",
    "    return q"
   ]
  },
  {
   "cell_type": "code",
   "execution_count": 106,
   "metadata": {},
   "outputs": [],
   "source": [
    "features = []\n",
    "labels = []\n",
    "\n",
    "for i, reference_sample in enumerate(data_mtrx):\n",
    "    features.append(reference_sample)\n",
    "    labels.append(one_hot_encoding(10, i))\n",
    "\n",
    "    for j in range(9):\n",
    "        noised_sample = reference_sample + np.random.uniform(0.0, 0.25, img_size)\n",
    "        \n",
    "        features.append(noised_sample)\n",
    "        labels.append(one_hot_encoding(10, i))\n",
    "\n",
    "features = np.array(features)\n",
    "labels = np.array(labels)"
   ]
  },
  {
   "cell_type": "code",
   "execution_count": 107,
   "metadata": {},
   "outputs": [],
   "source": [
    "test_frac = 0.2\n",
    "\n",
    "p = np.arange(10)\n",
    "\n",
    "test_size = int(p.size * test_frac)\n",
    "train_size = int(p.size * (1 - test_frac))\n",
    "\n",
    "idx_test = np.ravel([(p[0:test_size] + i * 10) for i in range(10)])\n",
    "idx_train = np.ravel([(p[test_size:p.size] + i * 10) for i in range(10)])\n",
    "\n",
    "x_test = np.array(features[idx_test])\n",
    "y_test = np.array(labels[idx_test])\n",
    "\n",
    "x_train = np.array(features[idx_train])\n",
    "y_train = np.array(labels[idx_train])"
   ]
  },
  {
   "cell_type": "code",
   "execution_count": 108,
   "metadata": {},
   "outputs": [],
   "source": [
    "@njit(fastmath=True)\n",
    "def ident(x: np.ndarray) -> np.ndarray:\n",
    "    return x\n",
    "\n",
    "\n",
    "@njit(fastmath=True)\n",
    "def dIdent(x: np.ndarray) -> np.ndarray:\n",
    "    return np.ones(x.shape)\n",
    "\n",
    "\n",
    "@njit(fastmath=True)\n",
    "def relu(x: np.ndarray) -> np.ndarray:\n",
    "    return np.maximum(np.zeros(x.shape), x)\n",
    "\n",
    "\n",
    "@njit(fastmath=True)\n",
    "def dRelu(x: np.ndarray) -> np.ndarray:\n",
    "    return 1 * (x > 0)\n",
    "\n",
    "\n",
    "@njit(fastmath=True)\n",
    "def tanh(x: np.ndarray) -> np.ndarray:\n",
    "    return np.tanh(x)\n",
    "\n",
    "\n",
    "@njit(fastmath=True)\n",
    "def dTanh(x: np.ndarray) -> np.ndarray:\n",
    "    return 1-np.square(np.tanh(x))\n",
    "\n",
    "\n",
    "@njit(fastmath=True)\n",
    "def sigmoid(x: np.ndarray) -> np.ndarray:\n",
    "    return 1/(1+np.exp(-x))\n",
    "\n",
    "\n",
    "@njit(fastmath=True)\n",
    "def dSigmoid(x: np.ndarray) -> np.ndarray:\n",
    "    y = 1/(1+np.exp(-x))\n",
    "    return y*(1-y)\n",
    "\n",
    "\n",
    "@njit(fastmath=True)\n",
    "def softmax(x: np.ndarray) -> np.ndarray:\n",
    "    y = np.exp(x)\n",
    "    return y/np.sum(y)"
   ]
  },
  {
   "cell_type": "code",
   "execution_count": 133,
   "metadata": {},
   "outputs": [],
   "source": [
    "@njit(fastmath=True)\n",
    "def grads(xBatch: np.ndarray, yBatch: np.ndarray, w: np.ndarray, Wh: np.ndarray, Bh:np.ndarray, Bz:np.ndarray, b:np.ndarray) -> tuple[np.ndarray]:\n",
    "    dWh = np.zeros(Wh.shape)\n",
    "    dw = np.zeros(w.shape)\n",
    "    \n",
    "    dBh = np.zeros(Bh.shape)\n",
    "    dBz = np.zeros(Bz.shape)\n",
    "    db = np.zeros(b.shape)\n",
    "\n",
    "    h = np.zeros((Wh.shape[0], Wh.shape[1]))\n",
    "    z = np.zeros(Wh.shape[2])\n",
    "    \n",
    "    for i in prange(xBatch.shape[0]):\n",
    "        h *= 0\n",
    "        z *= 0\n",
    "\n",
    "        for j in prange(Wh.shape[0]):\n",
    "            h[j] = Wh[j] @ xBatch[i] + Bh[j]\n",
    "            z += Wh[j].T @ sigmoid(h[j]) + Bz[j]\n",
    "\n",
    "        y = softmax(w @ z + b)\n",
    "\n",
    "        dLdz = w.T @ (y-yBatch[i])\n",
    "                \n",
    "        for j in prange(Wh.shape[0]):\n",
    "            dLdh = Wh[j] @ dLdz * dSigmoid(h[j])\n",
    "\n",
    "            dWh[j] += np.outer(dLdh, xBatch[i])\n",
    "            dBh[j] += dLdh\n",
    "            dBz[j] += dLdz\n",
    "        \n",
    "        dw += np.outer(y-yBatch[i], z)\n",
    "        db += y-yBatch[i]\n",
    "    \n",
    "    return (dWh, dw, dBh, dBz, db)\n",
    "\n",
    "class RBMPerceptron:\n",
    "    def __init__(self, nL:int, nH:int, nIn:int, nOut:int) -> None:\n",
    "        self.nL = nL\n",
    "        self.nH = nH\n",
    "        self.nIn = nIn\n",
    "        self.nOut = nOut\n",
    "                \n",
    "        self.Wh: np.ndarray = np.random.uniform(-1, 1, (nL, nH, nIn))\n",
    "        self.w: np.ndarray = np.random.uniform(-1, 1, (nOut, nIn))\n",
    "        \n",
    "        self.Bh: np.ndarray = np.zeros((nL, nH))\n",
    "        self.Bz: np.ndarray = np.zeros((nL, nIn))\n",
    "        self.b: np.ndarray = np.zeros(nOut)\n",
    "\n",
    "    def predict(self, x:np.ndarray) -> np.ndarray:\n",
    "        z = np.zeros(self.nIn)\n",
    "        \n",
    "        for i in range(self.Wh.shape[0]):\n",
    "            h = sigmoid(self.Wh[i] @ x + self.Bh[i])\n",
    "            z += self.Wh[i].T @ h + self.Bz[i]\n",
    "            \n",
    "        return softmax(self.w @ z + self.b)\n",
    "\n",
    "    def train(self, x_train: np.ndarray, y_train: np.ndarray, lr, batch_size, max_epoch) -> None:\n",
    "        n = x_train.shape[0]\n",
    "\n",
    "        for epoch in range(max_epoch):\n",
    "            idxs = np.random.permutation(n)\n",
    "\n",
    "            for batch_idx in range(n//batch_size):\n",
    "                ibegin, iend = batch_idx*batch_size, min((batch_idx+1)*batch_size, n-1)\n",
    "                batch_idxs = idxs[ibegin:iend]\n",
    "            \n",
    "                dWh, dw, dBh, dBz, db = grads(x_train[batch_idxs], y_train[batch_idxs], self.w, self.Wh, self.Bh, self.Bz, self.b)\n",
    "                \n",
    "                self.Wh -= lr*dWh\n",
    "                self.Bh -= lr*dBh\n",
    "                self.Bz -= lr*dBz\n",
    "                \n",
    "                self.w -= lr*dw\n",
    "                self.b -= lr*db\n",
    "        \n",
    "    def loss(self, x: np.ndarray, y: np.ndarray) -> float:\n",
    "        Ypred = np.array([self.predict(xi) for xi in x])\n",
    "        h = -np.mean(y*np.log(Ypred), axis=1)\n",
    "        return np.mean(h)"
   ]
  },
  {
   "cell_type": "code",
   "execution_count": 140,
   "metadata": {},
   "outputs": [
    {
     "name": "stdout",
     "output_type": "stream",
     "text": [
      "untrained loss:  0.950032\n",
      "trained loss:  0.000448\n",
      "test set accuracy: 100.0%\n"
     ]
    }
   ],
   "source": [
    "nL = 5\n",
    "nH = 5\n",
    "nIn = 35\n",
    "nOut = 10\n",
    "\n",
    "lr = 1e-2\n",
    "batch_size = 8\n",
    "max_epoch = 256\n",
    "\n",
    "model = RBMPerceptron(nL, nH, nIn, nOut)\n",
    "\n",
    "print('untrained loss: ', model.loss(x_test, y_test).round(6))\n",
    "\n",
    "model.train(\n",
    "    x_train,\n",
    "    y_train,\n",
    "    lr,\n",
    "    batch_size,\n",
    "    max_epoch\n",
    ")\n",
    "\n",
    "print('trained loss: ', model.loss(x_test, y_test).round(6))\n",
    "\n",
    "n_true_pos = 0\n",
    "\n",
    "for x, y in zip(x_test, y_test):\n",
    "    ypred = model.predict(x)\n",
    "    n_true_pos += 1 if np.argmax(ypred) == np.argmax(y) else 0\n",
    "\n",
    "accuracy = n_true_pos / x_test.shape[0]\n",
    "print(f\"test set accuracy: {round(accuracy * 100, 2)}%\")"
   ]
  },
  {
   "cell_type": "code",
   "execution_count": 141,
   "metadata": {},
   "outputs": [
    {
     "name": "stdout",
     "output_type": "stream",
     "text": [
      "accuracy: 78.23%\n"
     ]
    }
   ],
   "source": [
    "n_samples = 10000\n",
    "noise_size = 1.0\n",
    "\n",
    "n_true_pos = 0\n",
    "\n",
    "for i in range(n_samples):\n",
    "    j = i % 10\n",
    "    x = data_mtrx[j] + np.random.uniform(0, noise_size, img_size)\n",
    "    y = model.predict(x)\n",
    "    n_true_pos += 1 if j == np.argmax(y) else 0\n",
    "\n",
    "print(f\"accuracy: {round(n_true_pos / n_samples * 100, 2)}%\")"
   ]
  },
  {
   "cell_type": "code",
   "execution_count": 126,
   "metadata": {},
   "outputs": [
    {
     "data": {
      "image/png": "[encoded data removed]",
      "text/plain": [
       "<Figure size 1500x500 with 10 Axes>"
      ]
     },
     "metadata": {},
     "output_type": "display_data"
    }
   ],
   "source": [
    "noise_size = 1.0\n",
    "\n",
    "x_noised = data_mtrx + np.random.uniform(0.0, noise_size, img_size)\n",
    "y = list([model.predict(xi) for xi in x_noised])\n",
    "\n",
    "fig, axes = plt.subplots(nrows=1, ncols=10)\n",
    "\n",
    "fig.set_dpi(100)\n",
    "fig.set_figwidth(15)\n",
    "fig.set_figheight(5)\n",
    "\n",
    "for i, ax in enumerate(axes.ravel()):\n",
    "    ax.imshow(x_noised[i].reshape(img_shape),  cmap='binary_r')\n",
    "    j = np.argmax(y[i])\n",
    "\n",
    "    ax.set_title(f\"[{'+' if j == i else '-'}] {j} : {(y[i][j] * 100).round()}%\")\n",
    "    ax.set_xticks([])\n",
    "    ax.set_yticks([])\n",
    "\n",
    "plt.tight_layout()\n",
    "plt.show()"
   ]
  }
 ],
 "metadata": {
  "kernelspec": {
   "display_name": "jupyter-venv",
   "language": "python",
   "name": "python3"
  },
  "language_info": {
   "codemirror_mode": {
    "name": "ipython",
    "version": 3
   },
   "file_extension": ".py",
   "mimetype": "text/x-python",
   "name": "python",
   "nbconvert_exporter": "python",
   "pygments_lexer": "ipython3",
   "version": "3.10.12"
  }
 },
 "nbformat": 4,
 "nbformat_minor": 2
}

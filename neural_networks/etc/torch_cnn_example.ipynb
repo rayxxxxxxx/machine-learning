{
  "nbformat": 4,
  "nbformat_minor": 0,
  "metadata": {
    "colab": {
      "provenance": [],
      "gpuType": "T4"
    },
    "kernelspec": {
      "name": "python3",
      "display_name": "Python 3"
    },
    "language_info": {
      "name": "python"
    },
    "accelerator": "GPU"
  },
  "cells": [
    {
      "cell_type": "code",
      "execution_count": null,
      "metadata": {
        "id": "8LJIoUVLKu_D"
      },
      "outputs": [],
      "source": [
        "import csv\n",
        "from pathlib import Path\n",
        "\n",
        "import numpy as np\n",
        "\n",
        "import torch\n",
        "from torch import nn\n",
        "import torch.nn.functional as tfunc\n",
        "from torch.utils.data import Dataset, DataLoader"
      ]
    },
    {
      "cell_type": "code",
      "source": [
        "device = 'cuda' if torch.cuda.is_available() else 'cpu'\n",
        "print(f'using {device}')"
      ],
      "metadata": {
        "colab": {
          "base_uri": "https://localhost:8080/"
        },
        "id": "qBbAFATZLN-F",
        "outputId": "c4598dd8-3678-4367-89c7-c6d0d1e5895c"
      },
      "execution_count": null,
      "outputs": [
        {
          "output_type": "stream",
          "name": "stdout",
          "text": [
            "using cuda\n"
          ]
        }
      ]
    },
    {
      "cell_type": "code",
      "source": [
        "def one_hot(n, i):\n",
        "    q = np.zeros(n)\n",
        "    q[i] = 1.0\n",
        "    return q\n",
        "\n",
        "\n",
        "class MNISTDataset(Dataset):\n",
        "    def __init__(self, fp):\n",
        "\n",
        "        xy = np.loadtxt(fp, delimiter=',', dtype=np.float32)\n",
        "\n",
        "        self.n_samples = xy.shape[0]\n",
        "\n",
        "        self.x = []\n",
        "        for i in range(self.n_samples):\n",
        "            img = xy[i, 1:].reshape((28, 28))\n",
        "            self.x.append(img)\n",
        "\n",
        "        self.x = np.array(self.x)\n",
        "        self.x = torch.from_numpy(self.x)\n",
        "        self.x = torch.unsqueeze(self.x, 1)\n",
        "        self.x = self.x / 255.0\n",
        "\n",
        "        labels = []\n",
        "        for i in range(self.n_samples):\n",
        "            labels.append(one_hot(10, int(xy[i, 0])))\n",
        "\n",
        "        self.y = np.array(labels)\n",
        "        self.y = torch.from_numpy(self.y)\n",
        "\n",
        "    def __getitem__(self, idx):\n",
        "        return self.x[idx], self.y[idx]\n",
        "\n",
        "    def __len__(self):\n",
        "        return self.n_samples"
      ],
      "metadata": {
        "id": "Xai8P2OvLZju"
      },
      "execution_count": null,
      "outputs": []
    },
    {
      "cell_type": "code",
      "source": [
        "train_dataset = MNISTDataset(Path('/content/sample_data/mnist_train_small.csv'))\n",
        "test_dataset = MNISTDataset(Path('/content/sample_data/mnist_test.csv'))"
      ],
      "metadata": {
        "id": "BKwm7iRDNB2f"
      },
      "execution_count": null,
      "outputs": []
    },
    {
      "cell_type": "code",
      "source": [
        "batch_size = 128\n",
        "\n",
        "train_dataloader = DataLoader(train_dataset, batch_size)\n",
        "test_dataloader = DataLoader(test_dataset, batch_size)"
      ],
      "metadata": {
        "id": "m9yT2ecnNEVw"
      },
      "execution_count": null,
      "outputs": []
    },
    {
      "cell_type": "code",
      "source": [
        "def train(model, optimizer, loss_function, dataloader):\n",
        "    model.train()\n",
        "\n",
        "    for (x, y) in dataloader:\n",
        "        x, y = x.to(device), y.to(device)\n",
        "        y_pred = model(x)\n",
        "\n",
        "        loss = loss_function(y_pred, y)\n",
        "        loss.backward()\n",
        "\n",
        "        optimizer.step()\n",
        "        optimizer.zero_grad()"
      ],
      "metadata": {
        "id": "SgS__Y6GNWph"
      },
      "execution_count": null,
      "outputs": []
    },
    {
      "cell_type": "code",
      "source": [
        "def test(model, loss_function, dataloader):\n",
        "    n = len(dataloader.dataset)\n",
        "    n_batches = len(dataloader)\n",
        "\n",
        "    loss = 0\n",
        "    n_true_positive = 0\n",
        "\n",
        "    model.eval()\n",
        "\n",
        "    with torch.no_grad():\n",
        "        for (x, y) in dataloader:\n",
        "            x, y = x.to(device), y.to(device)\n",
        "            y_pred = model(x)\n",
        "\n",
        "            loss += loss_function(y_pred, y).item()\n",
        "            n_true_positive += (y_pred.argmax(1) == y.argmax(1)).type(torch.float).sum().item()\n",
        "\n",
        "    return (loss / n_batches, n_true_positive / n)\n"
      ],
      "metadata": {
        "id": "Bam_b1i0Npca"
      },
      "execution_count": null,
      "outputs": []
    },
    {
      "cell_type": "code",
      "source": [
        "class ConvolutionalNeuralNetwork(nn.Module):\n",
        "    def __init__(self):\n",
        "        super().__init__()\n",
        "\n",
        "        self.convolution = nn.Sequential(\n",
        "            nn.Conv2d(1, 4, 21, 1, 0),\n",
        "            nn.ReLU(),\n",
        "            nn.MaxPool2d((2, 2))\n",
        "        )\n",
        "\n",
        "        self.classifier = nn.Sequential(\n",
        "            nn.Flatten(),\n",
        "            nn.Linear(4 * 4 * 4, 10),\n",
        "            nn.Softmax(dim=1)\n",
        "        )\n",
        "\n",
        "    def forward(self, x):\n",
        "        c = self.convolution(x)\n",
        "        y = self.classifier(c)\n",
        "        return y"
      ],
      "metadata": {
        "id": "4Wq8BGRMN3c8"
      },
      "execution_count": null,
      "outputs": []
    },
    {
      "cell_type": "code",
      "source": [
        "n_epoch = 16\n",
        "learning_rate = 1e-2"
      ],
      "metadata": {
        "id": "mFICz8jQNugD"
      },
      "execution_count": null,
      "outputs": []
    },
    {
      "cell_type": "code",
      "source": [
        "model = ConvolutionalNeuralNetwork().to(device)\n",
        "loss_function = nn.CrossEntropyLoss()\n",
        "optimizer = torch.optim.Adam(model.parameters())"
      ],
      "metadata": {
        "id": "h5kHnp9kNxmS"
      },
      "execution_count": null,
      "outputs": []
    },
    {
      "cell_type": "code",
      "source": [
        "print(f'model size: {sum([p.nelement() for p in model.parameters()])}')"
      ],
      "metadata": {
        "colab": {
          "base_uri": "https://localhost:8080/"
        },
        "id": "iKWAowutek_v",
        "outputId": "1e218fb3-4952-427d-87b2-2a23a66edb21"
      },
      "execution_count": null,
      "outputs": [
        {
          "output_type": "stream",
          "name": "stdout",
          "text": [
            "model size: 2418\n"
          ]
        }
      ]
    },
    {
      "cell_type": "code",
      "source": [
        "for i in range(n_epoch):\n",
        "    train(model, optimizer, loss_function, train_dataloader)\n",
        "    loss, acc = test(model, loss_function, test_dataloader)\n",
        "    print(f\"Epoch: {i+1:<3}| loss: {round(loss, 3):<6}| accuracy: {round(acc * 100, 4):<6}%\")"
      ],
      "metadata": {
        "colab": {
          "base_uri": "https://localhost:8080/"
        },
        "id": "Wopw5J4WN0bv",
        "outputId": "91b5ece0-a1cd-4634-b783-38721106fb83"
      },
      "execution_count": null,
      "outputs": [
        {
          "output_type": "stream",
          "name": "stdout",
          "text": [
            "Epoch: 1  | loss: 1.523 | accuracy: 94.18 %\n",
            "Epoch: 2  | loss: 1.522 | accuracy: 94.17 %\n",
            "Epoch: 3  | loss: 1.522 | accuracy: 94.17 %\n",
            "Epoch: 4  | loss: 1.522 | accuracy: 94.2  %\n",
            "Epoch: 5  | loss: 1.522 | accuracy: 94.19 %\n",
            "Epoch: 6  | loss: 1.522 | accuracy: 94.22 %\n",
            "Epoch: 7  | loss: 1.522 | accuracy: 94.21 %\n",
            "Epoch: 8  | loss: 1.521 | accuracy: 94.21 %\n",
            "Epoch: 9  | loss: 1.521 | accuracy: 94.22 %\n",
            "Epoch: 10 | loss: 1.521 | accuracy: 94.23 %\n",
            "Epoch: 11 | loss: 1.521 | accuracy: 94.25 %\n",
            "Epoch: 12 | loss: 1.521 | accuracy: 94.25 %\n",
            "Epoch: 13 | loss: 1.521 | accuracy: 94.26 %\n",
            "Epoch: 14 | loss: 1.521 | accuracy: 94.28 %\n",
            "Epoch: 15 | loss: 1.521 | accuracy: 94.25 %\n",
            "Epoch: 16 | loss: 1.521 | accuracy: 94.27 %\n"
          ]
        }
      ]
    },
    {
      "cell_type": "code",
      "source": [
        "from matplotlib import pyplot as plt"
      ],
      "metadata": {
        "id": "0fhA6cGdiDVw"
      },
      "execution_count": null,
      "outputs": []
    },
    {
      "cell_type": "code",
      "source": [
        "kernels = model.convolution[0]\n",
        "kernels = kernels.to('cpu')\n",
        "kernels = list(kernels.parameters())[0]\n",
        "kernels = torch.squeeze(kernels, 1)\n",
        "kernels = np.array([k.detach().numpy() for k in kernels])"
      ],
      "metadata": {
        "id": "jJwtK6G5mgkH"
      },
      "execution_count": null,
      "outputs": []
    },
    {
      "cell_type": "code",
      "source": [
        "fig, axes = plt.subplots(nrows=2, ncols=2)\n",
        "\n",
        "fig.set_figwidth(5)\n",
        "fig.set_figheight(5)\n",
        "fig.set_dpi(120)\n",
        "\n",
        "for i, ax in enumerate(axes.ravel()):\n",
        "    ax.imshow(kernels[i], cmap='RdBu')\n",
        "    ax.set_xticks([])\n",
        "    ax.set_yticks([])\n",
        "\n",
        "plt.tight_layout()\n",
        "plt.show()"
      ],
      "metadata": {
        "colab": {
          "base_uri": "https://localhost:8080/",
          "height": 604
        },
        "id": "G85kOYbtlbwL",
        "outputId": "60f60652-8cf6-454c-bb76-bf4eac33fea1"
      },
      "execution_count": null,
      "outputs": [
        {
          "output_type": "display_data",
          "data": {
            "text/plain": [
              "<Figure size 600x600 with 4 Axes>"
            ],
            "image/png": "[encoded data removed]"
          },
          "metadata": {}
        }
      ]
    }
  ]
}
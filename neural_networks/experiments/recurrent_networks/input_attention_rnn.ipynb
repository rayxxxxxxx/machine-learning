{
 "cells": [
  {
   "cell_type": "code",
   "execution_count": 2,
   "metadata": {},
   "outputs": [],
   "source": [
    "import string\n",
    "import numpy as np"
   ]
  },
  {
   "cell_type": "code",
   "execution_count": 3,
   "metadata": {},
   "outputs": [],
   "source": [
    "def one_hot(n_classes: int, idx: int) -> np.ndarray:\n",
    "    embedding = np.zeros(n_classes)\n",
    "    embedding[idx] = 1.0\n",
    "    return embedding\n",
    "\n",
    "def word2seq(word: str, alphabet: list) -> np.ndarray:\n",
    "    return np.array([one_hot(len(alphabet), alphabet.index(c)) for c in word])\n",
    "\n",
    "def seq2word(seq: np.ndarray, alphabet: list) -> str:\n",
    "    return ''.join([alphabet[np.argmax(x)] for x in seq])"
   ]
  },
  {
   "cell_type": "code",
   "execution_count": 20,
   "metadata": {},
   "outputs": [
    {
     "name": "stdout",
     "output_type": "stream",
     "text": [
      "59  .,:;\"'abcdefghijklmnopqrstuvwxyzABCDEFGHIJKLMNOPQRSTUVWXYZ\n"
     ]
    }
   ],
   "source": [
    "alphabet = ' .,:;\\\"\\'' + string.ascii_letters\n",
    "n_symbols = len(alphabet)\n",
    "print(n_symbols, alphabet)"
   ]
  },
  {
   "cell_type": "code",
   "execution_count": 5,
   "metadata": {},
   "outputs": [],
   "source": [
    "def softmax(x: np.ndarray) -> np.ndarray:\n",
    "    y = np.exp(x)\n",
    "    return y / np.sum(y)"
   ]
  },
  {
   "cell_type": "code",
   "execution_count": 6,
   "metadata": {},
   "outputs": [],
   "source": [
    "def calculate_attention(V: np.ndarray, x: np.ndarray) -> np.ndarray:\n",
    "    if len(V) == 0:\n",
    "        return np.zeros(x.shape)\n",
    "\n",
    "    scores = softmax(V @ x)\n",
    "    values = scores.reshape((scores.size, 1)) * V\n",
    "    return np.sum(values, axis=0)"
   ]
  },
  {
   "cell_type": "code",
   "execution_count": 26,
   "metadata": {},
   "outputs": [],
   "source": [
    "class RNN:\n",
    "    def __init__(self, n_in: int, n_h: int, n_out: int) -> None:\n",
    "        self.U: np.ndarray = np.random.uniform(-1, 1, (n_h, n_in))\n",
    "        self.V: np.ndarray = np.random.uniform(-1, 1, (n_in, n_h))\n",
    "\n",
    "        self.R: np.ndarray = np.random.uniform(-1, 1, (n_h, n_h))\n",
    "\n",
    "        self.Q: np.ndarray = np.random.uniform(-1, 1, (n_h, n_out))\n",
    "        self.W: np.ndarray = np.random.uniform(-1, 1, (n_out, 2*n_h))\n",
    "\n",
    "    def encode(self, sequence: np.ndarray) -> tuple[np.ndarray]:\n",
    "        states = np.zeros((len(sequence), len(self.R)))\n",
    "        memories = np.zeros((len(sequence), len(self.V)))\n",
    "        context = np.zeros(len(self.R))\n",
    "\n",
    "        for i, x in enumerate(sequence):\n",
    "            x_hat = x + calculate_attention(memories[0:i], x)\n",
    "            context = np.tanh(self.R @ context + self.U @ x_hat)\n",
    "            memories[i] = self.V @ context\n",
    "            states[i] = context.copy()\n",
    "        \n",
    "        return (states, context)\n",
    "    \n",
    "    def decode(self, context: np.ndarray, states: np.ndarray, t: int) -> tuple[np.ndarray]:\n",
    "        outputs = np.zeros((t, len(self.W)))\n",
    "        out = np.zeros(len(self.W))\n",
    "\n",
    "        for i in range(t):\n",
    "            context = np.tanh(self.R @ context + self.Q @ out)\n",
    "            attention = calculate_attention(states, context)\n",
    "            ctx_att = np.concat((context, attention), axis=0)\n",
    "            out = softmax(self.W @ ctx_att)\n",
    "            outputs[i] = out.copy()\n",
    "\n",
    "        return (outputs, context)\n"
   ]
  },
  {
   "cell_type": "code",
   "execution_count": 29,
   "metadata": {},
   "outputs": [
    {
     "name": "stdout",
     "output_type": "stream",
     "text": [
      "GtOLrtTCr xXeoDSn;lLjhXjjqoHGud\"XOOHWmSoR;LHENLptwlE iwnAtHbjOJYxvdudmuS;QSOs,SyuAr,;FGOhUJtxsbtVSjQCqPyISD .:hhyHS;Ff\"qtgrKYF.G\n"
     ]
    }
   ],
   "source": [
    "in_text = 'the quick brown fox jumps over the lazy dog'\n",
    "sequence = word2seq(in_text, alphabet)\n",
    "\n",
    "model = RNN(n_symbols, 64, n_symbols)\n",
    "states, context = model.encode(sequence)\n",
    "outputs, context = model.decode(context, states, 128)\n",
    "\n",
    "out_text = seq2word(outputs, alphabet)\n",
    "print(out_text)"
   ]
  }
 ],
 "metadata": {
  "kernelspec": {
   "display_name": ".venv",
   "language": "python",
   "name": "python3"
  },
  "language_info": {
   "codemirror_mode": {
    "name": "ipython",
    "version": 3
   },
   "file_extension": ".py",
   "mimetype": "text/x-python",
   "name": "python",
   "nbconvert_exporter": "python",
   "pygments_lexer": "ipython3",
   "version": "3.12.8"
  }
 },
 "nbformat": 4,
 "nbformat_minor": 2
}

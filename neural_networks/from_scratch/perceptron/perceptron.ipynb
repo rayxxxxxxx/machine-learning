{
 "cells": [
  {
   "cell_type": "code",
   "execution_count": 2,
   "metadata": {},
   "outputs": [],
   "source": [
    "from pathlib import Path\n",
    "import numpy as np\n",
    "import matplotlib.pyplot as plt"
   ]
  },
  {
   "cell_type": "markdown",
   "metadata": {},
   "source": [
    "### Load data"
   ]
  },
  {
   "cell_type": "code",
   "execution_count": 3,
   "metadata": {},
   "outputs": [],
   "source": [
    "img_size = 784\n",
    "img_shape = (28, 28)\n",
    "\n",
    "train_data = np.loadtxt(Path('D:/Development/Data/datasets/csv/mnist_train_small.csv'), delimiter=',')\n",
    "test_data = np.loadtxt(Path('D:/Development/Data/datasets/csv/mnist_test.csv'), delimiter=',')"
   ]
  },
  {
   "cell_type": "markdown",
   "metadata": {},
   "source": [
    "### Create dataset"
   ]
  },
  {
   "cell_type": "code",
   "execution_count": 4,
   "metadata": {},
   "outputs": [],
   "source": [
    "def onehot(n: int, i: int) -> np.ndarray:\n",
    "    v = np.zeros(n)\n",
    "    v[i] = 1.0\n",
    "    return v"
   ]
  },
  {
   "cell_type": "code",
   "execution_count": 5,
   "metadata": {},
   "outputs": [],
   "source": [
    "x_train = train_data[:,1:] / 255.0\n",
    "y_train = np.array([onehot(10, int(i)) for i in train_data[:,0]])\n",
    "label_train = train_data[:,0].astype(np.int32)\n",
    "\n",
    "x_test = test_data[:,1:] / 255.0\n",
    "y_test = np.array([onehot(10, int(i)) for i in test_data[:,0]])\n",
    "label_test = test_data[:,0].astype(np.int32)"
   ]
  },
  {
   "cell_type": "markdown",
   "metadata": {},
   "source": [
    "### Define functions and model"
   ]
  },
  {
   "cell_type": "code",
   "execution_count": 6,
   "metadata": {},
   "outputs": [],
   "source": [
    "def softmax(x: np.ndarray, axis=0, keepdims=True) -> np.ndarray:\n",
    "    y = np.exp(x)\n",
    "    return y / np.sum(y, axis=axis, keepdims=keepdims)\n",
    "\n",
    "def cross_entropy(p: np.ndarray, q: np.ndarray) -> float:\n",
    "    return -np.sum(p * np.log(q))"
   ]
  },
  {
   "cell_type": "code",
   "execution_count": 7,
   "metadata": {},
   "outputs": [],
   "source": [
    "class Perceptron:\n",
    "    def __init__(self, n_in: int, n_out: int) -> None:\n",
    "        self.W: np.ndarray = np.random.uniform(-0.01, 0.01, (n_in, n_out))\n",
    "        self.b: np.ndarray = np.zeros(n_out)\n",
    "    \n",
    "    def __call__(self, x: np.ndarray) -> np.ndarray:\n",
    "        if x.ndim == 1:\n",
    "            x = x.reshape((1, x.size))\n",
    "        p = softmax(x @ self.W + self.b, axis=1)\n",
    "        return p.ravel() if len(p) == 1 else p\n",
    "\n",
    "    def save(self, fp: Path) -> None:\n",
    "        np.savez(fp, w=self.W, b=self.b)\n",
    "\n",
    "    def load(self, fp: Path) -> None:\n",
    "        params = np.load(fp)\n",
    "        self.W, self.b = params['w'], params['b']\n",
    "\n",
    "def calc_loss(model: Perceptron, X: np.ndarray, P: np.ndarray) -> float:\n",
    "    return np.mean([cross_entropy(p,q) for (p,q) in zip(P,model(X))])\n",
    "\n",
    "def calc_accuracy(model: Perceptron, X: np.ndarray, P: np.ndarray) -> float:\n",
    "    fn = lambda a, b: 1 if np.argmax(a) == np.argmax(b) else 0\n",
    "    return np.mean([fn(p,q) for (p,q) in zip(P,model(X))])"
   ]
  },
  {
   "cell_type": "markdown",
   "metadata": {},
   "source": [
    "### SGD Implementation"
   ]
  },
  {
   "cell_type": "code",
   "execution_count": 8,
   "metadata": {},
   "outputs": [],
   "source": [
    "def train(model: Perceptron, X: np.ndarray, Y: np.ndarray, lr, batch_size, max_epoch) -> None:\n",
    "    n_samples = len(X)\n",
    "    n_batches = n_samples // batch_size\n",
    "\n",
    "    for epoch in range(max_epoch):\n",
    "        idxs = np.random.permutation(n_samples)\n",
    "        batches = np.array_split(idxs, n_batches)\n",
    "\n",
    "        for batch in batches:\n",
    "            dLdy = model(X[batch]) - Y[batch]\n",
    "            dW = np.mean(np.einsum('ij,ik->ijk', X[batch], dLdy), axis=0)\n",
    "            db = np.mean(dLdy, axis=0)\n",
    "            \n",
    "            model.W -= lr * dW\n",
    "            model.b -= lr * db"
   ]
  },
  {
   "cell_type": "markdown",
   "metadata": {},
   "source": [
    "### Create, train and test model"
   ]
  },
  {
   "cell_type": "code",
   "execution_count": 9,
   "metadata": {},
   "outputs": [
    {
     "name": "stdout",
     "output_type": "stream",
     "text": [
      "untrained loss: 2.301\n",
      "trained loss: 0.33\n",
      "test set accuracy: 90.79%\n"
     ]
    }
   ],
   "source": [
    "n_in = 784\n",
    "n_out = 10\n",
    "\n",
    "learning_rate = 0.1\n",
    "batch_size = 64\n",
    "max_epoch = 4\n",
    "\n",
    "model = Perceptron(n_in, n_out)\n",
    "\n",
    "print(f\"untrained loss: {round(calc_loss(model, x_test, y_test), 3)}\")\n",
    "train(model, x_train, y_train, learning_rate, batch_size, max_epoch)\n",
    "print(f\"trained loss: {round(calc_loss(model, x_test, y_test), 3)}\")\n",
    "\n",
    "model_accuracy = calc_accuracy(model, x_test, y_test)\n",
    "print(f\"test set accuracy: {round(model_accuracy * 100, 2)}%\")"
   ]
  },
  {
   "cell_type": "markdown",
   "metadata": {},
   "source": [
    "### Save, load and test model"
   ]
  },
  {
   "cell_type": "code",
   "execution_count": 10,
   "metadata": {},
   "outputs": [],
   "source": [
    "fp = Path('D:/Development/Data/tmp/parameters.npz')\n",
    "model.save(fp)"
   ]
  },
  {
   "cell_type": "code",
   "execution_count": 11,
   "metadata": {},
   "outputs": [],
   "source": [
    "model = Perceptron(n_in, n_out)\n",
    "model.load(fp)"
   ]
  },
  {
   "cell_type": "code",
   "execution_count": 12,
   "metadata": {},
   "outputs": [
    {
     "name": "stdout",
     "output_type": "stream",
     "text": [
      "loss: 0.33\n",
      "accuracy: 90.79%\n"
     ]
    }
   ],
   "source": [
    "model_loss = calc_loss(model, x_test, y_test)\n",
    "model_accuracy = calc_accuracy(model, x_test, y_test)\n",
    "\n",
    "print(f\"loss: {round(model_loss, 3)}\")\n",
    "print(f\"accuracy: {round(model_accuracy * 100, 2)}%\")"
   ]
  },
  {
   "cell_type": "markdown",
   "metadata": {},
   "source": [
    "### Caclculating Precision, Recall and Accuracy for a single digit"
   ]
  },
  {
   "cell_type": "code",
   "execution_count": 13,
   "metadata": {},
   "outputs": [
    {
     "name": "stdout",
     "output_type": "stream",
     "text": [
      "digit '1'\n",
      "TP: 1100; FN: 35\n",
      "FP: 55; TN: 8810\n",
      "precision: 0.952\n",
      "recall: 0.969\n",
      "accuracy: 0.991\n"
     ]
    }
   ],
   "source": [
    "TP, TN, FP, FN = 0, 0, 0, 0\n",
    "digit = 1\n",
    "\n",
    "for x, true_label in zip(x_test, label_test):\n",
    "    label_guess = np.argmax(model(x))\n",
    "\n",
    "    if true_label == digit:\n",
    "        if label_guess == digit:\n",
    "            TP += 1\n",
    "        else:\n",
    "            FN += 1\n",
    "    else:\n",
    "        if label_guess == digit:\n",
    "            FP += 1\n",
    "        else:\n",
    "            TN += 1\n",
    "\n",
    "print(f\"digit '{digit}'\")\n",
    "\n",
    "print(f\"TP: {TP}; FN: {FN}\")\n",
    "print(f\"FP: {FP}; TN: {TN}\")\n",
    "\n",
    "precision = round(TP / (TP + FP), 3)\n",
    "recall = round(TP / (TP + FN), 3)\n",
    "accuracy = round((TP + TN) / (TP + TN + FP + FN), 3)\n",
    "\n",
    "print(f\"precision: {precision}\")\n",
    "print(f\"recall: {recall}\")\n",
    "print(f\"accuracy: {accuracy}\")"
   ]
  },
  {
   "cell_type": "markdown",
   "metadata": {},
   "source": [
    "### Caclculating Precision, Recall and Accuracy for all digits"
   ]
  },
  {
   "cell_type": "code",
   "execution_count": 14,
   "metadata": {},
   "outputs": [
    {
     "name": "stdout",
     "output_type": "stream",
     "text": [
      "[0.931 0.952 0.938 0.893 0.885 0.924 0.913 0.899 0.834 0.911]\n",
      "[0.984 0.969 0.854 0.903 0.938 0.809 0.949 0.913 0.89  0.856]\n",
      "[0.991 0.99  0.977 0.978 0.98  0.975 0.985 0.979 0.97  0.975]\n"
     ]
    }
   ],
   "source": [
    "counts = {'TP': np.zeros(10),'TN': np.zeros(10),'FP': np.zeros(10),'FN': np.zeros(10)}\n",
    "label_guess_test = np.apply_along_axis(np.argmax, 1, model(x_test))\n",
    "\n",
    "for label_guess, true_label in zip(label_guess_test, label_test):\n",
    "    if label_guess == true_label:\n",
    "        v = onehot(10, label_guess)\n",
    "        counts['TP'] += v\n",
    "        counts['TN'] += 1-v\n",
    "    else:\n",
    "        counts['FP'][label_guess] += 1\n",
    "        counts['FN'][true_label] += 1\n",
    "\n",
    "np_counts = np.array(list(counts.values()))\n",
    "\n",
    "precision = counts['TP'] / (counts['TP'] + counts['FP'])\n",
    "recall = counts['TP'] / (counts['TP'] + counts['FN'])\n",
    "accuracy = (counts['TP'] + counts['TN']) / (np.sum(np_counts, axis=0))\n",
    "\n",
    "print(np.round(precision, 3))\n",
    "print(np.round(recall, 3))\n",
    "print(np.round(accuracy, 3))"
   ]
  },
  {
   "cell_type": "markdown",
   "metadata": {},
   "source": [
    "### Visualize weights"
   ]
  },
  {
   "cell_type": "code",
   "execution_count": 15,
   "metadata": {},
   "outputs": [
    {
     "data": {
      "image/png": "[encoded data removed]",
      "text/plain": [
       "<Figure size 1000x400 with 10 Axes>"
      ]
     },
     "metadata": {},
     "output_type": "display_data"
    }
   ],
   "source": [
    "fig, axes = plt.subplots(2,5)\n",
    "fig.set_figheight(2*2)\n",
    "fig.set_figwidth(5*2)\n",
    "fig.set_dpi(100)\n",
    "\n",
    "for i, ax in enumerate(axes.ravel()):\n",
    "    ax.matshow(model.W[:,i].reshape(img_shape), cmap='berlin')\n",
    "    ax.set_xticks([])\n",
    "    ax.set_yticks([])\n",
    "\n",
    "plt.tight_layout()\n",
    "plt.show()"
   ]
  }
 ],
 "metadata": {
  "kernelspec": {
   "display_name": ".jupyter",
   "language": "python",
   "name": "python3"
  },
  "language_info": {
   "codemirror_mode": {
    "name": "ipython",
    "version": 3
   },
   "file_extension": ".py",
   "mimetype": "text/x-python",
   "name": "python",
   "nbconvert_exporter": "python",
   "pygments_lexer": "ipython3",
   "version": "3.12.8"
  }
 },
 "nbformat": 4,
 "nbformat_minor": 4
}

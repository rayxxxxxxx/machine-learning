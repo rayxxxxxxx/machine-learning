{
  "cells": [
    {
      "cell_type": "code",
      "execution_count": 52,
      "metadata": {
        "id": "nOuFBbijCnPi"
      },
      "outputs": [],
      "source": [
        "import string\n",
        "\n",
        "import torch\n",
        "import torch.nn as nn\n",
        "import torch.nn.functional as F"
      ]
    },
    {
      "cell_type": "code",
      "execution_count": 53,
      "metadata": {},
      "outputs": [
        {
          "name": "stdout",
          "output_type": "stream",
          "text": [
            "95  !\"#$%&'()*+,-./:;<=>?@[\\]^_`{|}~0123456789abcdefghijklmnopqrstuvwxyzABCDEFGHIJKLMNOPQRSTUVWXYZ\n"
          ]
        }
      ],
      "source": [
        "abc = ' ' + string.punctuation + string.digits + string.ascii_letters\n",
        "len_abc = len(abc)\n",
        "print(len_abc, abc)\n",
        "\n",
        "itoc = {i:c for i,c in enumerate(abc)}\n",
        "ctoi = {c:i for i,c in enumerate(abc)}\n",
        "\n",
        "def encode(s: str) -> list[int]:\n",
        "    return [ctoi[c] for c in s]\n",
        "\n",
        "def decode(l: list[int]) -> str:\n",
        "    return ''.join([itoc[i] for i in l])\n",
        "\n",
        "def enc2tnsr(l: list[int]) -> torch.Tensor:\n",
        "    return torch.tensor(l).long()\n",
        "\n",
        "def enc2seq(l: list[int]) -> torch.Tensor:\n",
        "    return F.one_hot(enc2tnsr(l), len_abc).float()\n",
        "\n",
        "def enct2seq(t: torch.Tensor) -> torch.Tensor:\n",
        "    return F.one_hot(t, len_abc).float()\n",
        "\n",
        "def str2seq(s: str) -> torch.Tensor:\n",
        "    encoded = torch.tensor(encode(s)).long()\n",
        "    return F.one_hot(encoded, len_abc).float()"
      ]
    },
    {
      "cell_type": "code",
      "execution_count": 54,
      "metadata": {},
      "outputs": [],
      "source": [
        "class AttentionHead(nn.Module):\n",
        "    def __init__(self, in_dim, key_idm) -> None:\n",
        "        super(AttentionHead, self).__init__()\n",
        "\n",
        "        self.attn_scale = key_idm**-0.5\n",
        "\n",
        "        self.q = nn.Linear(in_dim, key_idm, bias=False)\n",
        "        self.k = nn.Linear(in_dim, key_idm, bias=False)\n",
        "        self.v = nn.Linear(in_dim, in_dim, bias=False)\n",
        "\n",
        "    def forward(self, x: torch.Tensor) -> torch.Tensor:\n",
        "        Q, K, V = self.q(x), self.k(x), self.v(x)\n",
        "        A = (Q @ K.transpose(1,2)) * self.attn_scale\n",
        "        A = F.softmax(A, dim=2)\n",
        "        return A @ V\n",
        "\n",
        "\n",
        "class MultiHeadAttention(nn.Module):\n",
        "    def __init__(self, n_heads, key_dim, in_dim) -> None:\n",
        "        super(MultiHeadAttention, self).__init__()\n",
        "\n",
        "        self.heads = nn.ModuleList([AttentionHead(in_dim, key_dim//n_heads) for _ in range(n_heads)])\n",
        "        self.proj = nn.Linear(n_heads*in_dim, in_dim)\n",
        "\n",
        "    def forward(self, x: torch.Tensor) -> torch.Tensor:\n",
        "        t = torch.cat([h(x) for h in self.heads], dim=2)\n",
        "        return self.proj(t)\n",
        "\n",
        "\n",
        "class TransformerBlock(nn.Module):\n",
        "    def __init__(self, in_dim, key_dim, n_heads, h_dim) -> None:\n",
        "        super(TransformerBlock, self).__init__()\n",
        "\n",
        "        self.attention = MultiHeadAttention(n_heads, key_dim, in_dim)\n",
        "        self.mlp = nn.Sequential(nn.Linear(in_dim, h_dim), nn.ReLU(), nn.Linear(h_dim, in_dim))\n",
        "\n",
        "    def forward(self, x: torch.Tensor) -> torch.Tensor:\n",
        "        x = x + self.attention(x)\n",
        "        return x + self.mlp(x)"
      ]
    },
    {
      "cell_type": "code",
      "execution_count": 55,
      "metadata": {
        "id": "dMmVk4WcxNKD"
      },
      "outputs": [],
      "source": [
        "class WriteHead(nn.Module):\n",
        "    def __init__(self, in_dim, n_mem, mem_dim, key_dim) -> None:\n",
        "        super(WriteHead, self).__init__()\n",
        "\n",
        "        self.q = nn.Linear(in_dim, key_dim)\n",
        "        self.k = nn.Linear(mem_dim, key_dim)\n",
        "        self.v = nn.Linear(in_dim, mem_dim)\n",
        "        self.g = nn.Parameter(torch.rand(mem_dim, n_mem))\n",
        "\n",
        "    def forward(self, x: torch.Tensor, M: torch.Tensor) -> torch.Tensor:\n",
        "        Q, K, V = self.q(x), self.k(M), self.v(x)\n",
        "        A = F.softmax(K @ Q.transpose(-1,-2), dim=-2)\n",
        "        G = F.sigmoid(V @ self.g @ M)\n",
        "        return A @ V * G + (1-A) * M * (1-G)\n",
        "\n",
        "\n",
        "class ReadHead(nn.Module):\n",
        "    def __init__(self, in_dim, n_mem, mem_dim, key_dim) -> None:\n",
        "        super(ReadHead, self).__init__()\n",
        "\n",
        "        self.q = nn.Linear(in_dim, key_dim)\n",
        "        self.k = nn.Linear(mem_dim, key_dim)\n",
        "        self.v = nn.Linear(mem_dim, in_dim)\n",
        "        self.g = nn.Parameter(torch.rand(in_dim, n_mem))\n",
        "\n",
        "    def forward(self, x: torch.Tensor, M: torch.Tensor) -> torch.Tensor:\n",
        "        Q, K, V = self.q(x), self.k(M), self.v(M)\n",
        "        A = F.softmax(Q @ K.transpose(-1,-2), dim=-1)\n",
        "        G = F.sigmoid(x @ self.g @ V)\n",
        "        return torch.sum(A @ V * G + (1-G) * x, dim=-2)"
      ]
    },
    {
      "cell_type": "code",
      "execution_count": 56,
      "metadata": {},
      "outputs": [],
      "source": [
        "class MultiHeadWrite(nn.Module):\n",
        "    def __init__(self, in_dim, n_mem, mem_dim, key_dim, n_heads) -> None:\n",
        "        super(MultiHeadWrite, self).__init__()\n",
        "\n",
        "        self.heads = nn.ModuleList([WriteHead(in_dim, n_mem, mem_dim, key_dim//n_heads) for _ in range(n_heads)])\n",
        "        self.proj = nn.Linear(n_heads*mem_dim, mem_dim)\n",
        "\n",
        "    def forward(self, x: torch.Tensor, M: torch.Tensor) -> torch.Tensor:\n",
        "        M_w = [head(x, M) for head in self.heads]\n",
        "        return self.proj(torch.cat(M_w, dim=-1))\n",
        "\n",
        "\n",
        "class MultiHeadRead(nn.Module):\n",
        "    def __init__(self, in_dim, n_mem, mem_dim, key_dim, n_heads) -> None:\n",
        "        super(MultiHeadRead, self).__init__()\n",
        "\n",
        "        self.heads = nn.ModuleList([ReadHead(in_dim, n_mem, mem_dim, key_dim//n_heads) for _ in range(n_heads)])\n",
        "        self.proj = nn.Linear(n_heads*in_dim, in_dim)\n",
        "\n",
        "    def forward(self, x: torch.Tensor, M: torch.Tensor) -> torch.Tensor:\n",
        "        M_r = [head(x, M) for head in self.heads]\n",
        "        return self.proj(torch.cat(M_r, dim=-1))\n",
        "\n",
        "\n",
        "class Memory(nn.Module):\n",
        "    def __init__(self, in_dim, n_mem, mem_dim, key_dim, n_heads) -> None:\n",
        "        super(Memory, self).__init__()\n",
        "\n",
        "        self.register_buffer('M', torch.rand(1, n_mem, mem_dim))\n",
        "        self.write_heads = MultiHeadWrite(in_dim, n_mem, mem_dim, key_dim, n_heads)\n",
        "        self.read_heads = MultiHeadRead(in_dim, n_mem, mem_dim, key_dim, n_heads)\n",
        "\n",
        "    def reset_memory(self) -> None:\n",
        "        self.M = torch.rand(self.M.shape)\n",
        "        nn.init.xavier_uniform_(self.M)\n",
        "\n",
        "    def forward(self, x: torch.Tensor) -> torch.Tensor:\n",
        "        if x.ndim == 2:\n",
        "            x = x.unsqueeze(-2)\n",
        "        \n",
        "        if x.shape[0] > 1 and self.M.shape[0] != x.shape[0]:\n",
        "            self.M = self.M.expand(x.shape[0], *self.M.shape[1:])\n",
        "\n",
        "        self.M = self.write_heads(x, self.M)\n",
        "        return self.read_heads(x, self.M)"
      ]
    },
    {
      "cell_type": "code",
      "execution_count": 57,
      "metadata": {},
      "outputs": [
        {
          "name": "stdout",
          "output_type": "stream",
          "text": [
            "67663\n",
            "18816\n"
          ]
        }
      ],
      "source": [
        "IN_DIM = len_abc\n",
        "N_MEM = 32\n",
        "MEM_DIM = 16\n",
        "KEY_DIM = 16\n",
        "N_HEADS = 4\n",
        "N_T_BLOCKS = 4\n",
        "T_H_DIM = 64\n",
        "\n",
        "mem = Memory(IN_DIM, N_MEM, MEM_DIM, KEY_DIM, N_HEADS)\n",
        "\n",
        "transformer_args = [MEM_DIM, KEY_DIM, N_HEADS, T_H_DIM]\n",
        "transformer_modules = [TransformerBlock(*transformer_args) for _ in range(N_T_BLOCKS)]\n",
        "transformer = nn.Sequential(*transformer_modules)\n",
        "\n",
        "print(sum([p.numel() for p in mem.parameters()]))\n",
        "print(sum([p.numel() for p in transformer.parameters()]))"
      ]
    },
    {
      "cell_type": "code",
      "execution_count": 58,
      "metadata": {},
      "outputs": [],
      "source": [
        "txt = 'The quick brown fox jumps over the lazy dog.'\n",
        "encoded = encode(txt)"
      ]
    },
    {
      "cell_type": "code",
      "execution_count": 59,
      "metadata": {},
      "outputs": [],
      "source": [
        "# UNBATCHED INPUT\n",
        "\n",
        "mem.reset_memory()\n",
        "\n",
        "for code in encoded:\n",
        "    seq = enc2seq([code])\n",
        "    m_r = mem(seq)\n",
        "\n",
        "for _ in range(10):\n",
        "    mem.M = transformer(mem.M)"
      ]
    },
    {
      "cell_type": "code",
      "execution_count": 60,
      "metadata": {},
      "outputs": [],
      "source": [
        "# BATCHED INPUT\n",
        "\n",
        "h = None\n",
        "mem.reset_memory()\n",
        "\n",
        "for code in encoded:\n",
        "    seq = enc2seq(code)\n",
        "    seq = seq.expand(16, *seq.shape)\n",
        "    m_r = mem(seq)\n",
        "\n",
        "for _ in range(10):\n",
        "    mem.M = transformer(mem.M)"
      ]
    }
  ],
  "metadata": {
    "colab": {
      "provenance": [],
      "toc_visible": true
    },
    "kernelspec": {
      "display_name": ".pytorch",
      "language": "python",
      "name": "python3"
    },
    "language_info": {
      "codemirror_mode": {
        "name": "ipython",
        "version": 3
      },
      "file_extension": ".py",
      "mimetype": "text/x-python",
      "name": "python",
      "nbconvert_exporter": "python",
      "pygments_lexer": "ipython3",
      "version": "3.12.8"
    }
  },
  "nbformat": 4,
  "nbformat_minor": 0
}

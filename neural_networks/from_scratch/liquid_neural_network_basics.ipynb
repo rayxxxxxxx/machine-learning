{
 "cells": [
  {
   "cell_type": "code",
   "execution_count": 20,
   "id": "72f76a0b",
   "metadata": {},
   "outputs": [],
   "source": [
    "import numpy as np"
   ]
  },
  {
   "cell_type": "code",
   "execution_count": 21,
   "id": "732ade3b",
   "metadata": {},
   "outputs": [],
   "source": [
    "def softmax(x: np.ndarray, axis=0, keepdims=False) -> np.ndarray:\n",
    "    y = np.exp(x)\n",
    "    return y / np.sum(y, axis=axis, keepdims=keepdims)"
   ]
  },
  {
   "cell_type": "code",
   "execution_count": 26,
   "id": "30f10885",
   "metadata": {},
   "outputs": [],
   "source": [
    "class LNN:\n",
    "    def __init__(self, n_in:int, n_h:int, n_out:int, tau:float=10) -> None:\n",
    "        self.tau = tau\n",
    "\n",
    "        self.W_in: np.ndarray = np.random.uniform(-1,1,(n_in,n_h))\n",
    "        self.W_h: np.ndarray = np.random.uniform(-1,1,(n_h,n_h))\n",
    "        self.W_o: np.ndarray = np.random.uniform(-1,1,(n_h,n_out))\n",
    "\n",
    "        self.h: np.ndarray = np.zeros((1,n_h))\n",
    "\n",
    "    def __call__(self, x: np.ndarray, dt=0.1) -> np.ndarray:\n",
    "        if x.ndim == 1:\n",
    "            x = x.reshape((1,x.size))\n",
    "\n",
    "        x_i = x @ self.W_in\n",
    "        h_r = self.h @ self.W_h\n",
    "        dhdt = (-self.h + x_i + h_r) / self.tau\n",
    "        self.h += dhdt * dt\n",
    "        p = softmax(self.h @ self.W_o, 1, True)\n",
    "        return p.ravel() if len(p)==1 else p"
   ]
  },
  {
   "cell_type": "code",
   "execution_count": 30,
   "id": "91e162aa",
   "metadata": {},
   "outputs": [
    {
     "name": "stdout",
     "output_type": "stream",
     "text": [
      "[0.09714157 0.09391235 0.09977536 0.10391086 0.1060536  0.09158977\n",
      " 0.10099134 0.10639827 0.09946248 0.10076442]\n"
     ]
    }
   ],
   "source": [
    "model = LNN(5, 100, 10)\n",
    "x = np.random.uniform(-1,1,5)\n",
    "p = model(x)\n",
    "print(p)"
   ]
  }
 ],
 "metadata": {
  "kernelspec": {
   "display_name": ".venv",
   "language": "python",
   "name": "python3"
  },
  "language_info": {
   "codemirror_mode": {
    "name": "ipython",
    "version": 3
   },
   "file_extension": ".py",
   "mimetype": "text/x-python",
   "name": "python",
   "nbconvert_exporter": "python",
   "pygments_lexer": "ipython3",
   "version": "3.12.8"
  }
 },
 "nbformat": 4,
 "nbformat_minor": 5
}

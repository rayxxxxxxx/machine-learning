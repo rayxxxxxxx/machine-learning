{
 "cells": [
  {
   "cell_type": "code",
   "execution_count": 1,
   "metadata": {},
   "outputs": [],
   "source": [
    "from pathlib import Path\n",
    "\n",
    "import numpy as np\n",
    "from numba import njit\n",
    "\n",
    "from matplotlib import pyplot as plt"
   ]
  },
  {
   "cell_type": "markdown",
   "metadata": {},
   "source": [
    "### Load data"
   ]
  },
  {
   "cell_type": "code",
   "execution_count": 2,
   "metadata": {},
   "outputs": [
    {
     "data": {
      "image/png": "[encoded data removed]",
      "text/plain": [
       "<Figure size 1500x750 with 10 Axes>"
      ]
     },
     "metadata": {},
     "output_type": "display_data"
    }
   ],
   "source": [
    "img_shape = (7, 5)\n",
    "img_size = 35\n",
    "\n",
    "data_path = Path(r'D:/Development/Data/datasets/txt/numbers_7x5.txt')\n",
    "data_mtrx = np.loadtxt(data_path)\n",
    "\n",
    "fig, axes = plt.subplots(nrows=1, ncols=10)\n",
    "\n",
    "fig.set_dpi(150)\n",
    "fig.set_figwidth(10)\n",
    "fig.set_figheight(5)\n",
    "\n",
    "for n, ax in zip(data_mtrx, axes.ravel()):\n",
    "    ax.imshow(n.reshape(img_shape), cmap='binary_r')\n",
    "    ax.set_xticks([])\n",
    "    ax.set_yticks([])\n",
    "\n",
    "plt.tight_layout()\n",
    "plt.show()"
   ]
  },
  {
   "cell_type": "markdown",
   "metadata": {},
   "source": [
    "### Generate dataset"
   ]
  },
  {
   "cell_type": "code",
   "execution_count": 3,
   "metadata": {},
   "outputs": [],
   "source": [
    "def one_hot_encoding(n: int, idx: int) -> np.ndarray:\n",
    "    q = np.zeros(n)\n",
    "    q[idx] = 1.0\n",
    "    return q"
   ]
  },
  {
   "cell_type": "code",
   "execution_count": 4,
   "metadata": {},
   "outputs": [],
   "source": [
    "features = []\n",
    "labels = []\n",
    "\n",
    "for i, reference_sample in enumerate(data_mtrx):\n",
    "    features.append(reference_sample)\n",
    "    labels.append(one_hot_encoding(10, i))\n",
    "\n",
    "    for j in range(9):\n",
    "        noised_sample = reference_sample + np.random.uniform(0.0, 0.25, img_size)\n",
    "        \n",
    "        features.append(noised_sample)\n",
    "        labels.append(one_hot_encoding(10, i))\n",
    "\n",
    "features = np.array(features)\n",
    "labels = np.array(labels)"
   ]
  },
  {
   "cell_type": "markdown",
   "metadata": {},
   "source": [
    "### Split dataset to train and test"
   ]
  },
  {
   "cell_type": "code",
   "execution_count": 5,
   "metadata": {},
   "outputs": [],
   "source": [
    "test_frac = 0.2\n",
    "\n",
    "p = np.arange(10)\n",
    "\n",
    "test_size = int(p.size * test_frac)\n",
    "train_size = int(p.size * (1 - test_frac))\n",
    "\n",
    "idx_test = np.ravel([(p[0:test_size] + i * 10) for i in range(10)])\n",
    "idx_train = np.ravel([(p[test_size:p.size] + i * 10) for i in range(10)])\n",
    "\n",
    "x_test = np.array(features[idx_test])\n",
    "y_test = np.array(labels[idx_test])\n",
    "\n",
    "x_train = np.array(features[idx_train])\n",
    "y_train = np.array(labels[idx_train])"
   ]
  },
  {
   "cell_type": "markdown",
   "metadata": {},
   "source": [
    "### Activation functions"
   ]
  },
  {
   "cell_type": "code",
   "execution_count": 6,
   "metadata": {},
   "outputs": [],
   "source": [
    "@njit(fastmath=True)\n",
    "def ReLU(x: np.ndarray) -> np.ndarray:\n",
    "    return np.maximum(np.zeros(x.shape), x)\n",
    "\n",
    "@njit(fastmath=True)\n",
    "def dReLU(x: np.ndarray) -> np.ndarray:\n",
    "    return 1 * (x > 0)\n",
    "\n",
    "@njit(fastmath=True)\n",
    "def sigmoid(x: np.ndarray) -> np.ndarray:\n",
    "    return 1 / (1 + np.exp(-x))\n",
    "\n",
    "@njit(fastmath=True)\n",
    "def dSigmoid(x: np.ndarray) -> np.ndarray:\n",
    "    y = 1 / (1 + np.exp(-x))\n",
    "    return y * (1 - y)\n",
    "\n",
    "@njit(fastmath=True)\n",
    "def softmax(x: np.ndarray) -> np.ndarray:\n",
    "    y = np.exp(x)\n",
    "    return y / np.sum(y)"
   ]
  },
  {
   "cell_type": "markdown",
   "metadata": {},
   "source": [
    "### Model"
   ]
  },
  {
   "cell_type": "code",
   "execution_count": 7,
   "metadata": {},
   "outputs": [],
   "source": [
    "@njit(fastmath=True)\n",
    "def grads(x_batch: np.ndarray, y_batch: np.ndarray, V: np.ndarray, c: np.ndarray, W: np.ndarray, b: np.ndarray) -> tuple[np.ndarray]:\n",
    "    dV = np.zeros(V.shape)\n",
    "    dc = np.zeros(c.shape)\n",
    "\n",
    "    dW = np.zeros(W.shape)\n",
    "    db = np.zeros(b.shape)\n",
    "\n",
    "    U = np.zeros((V.shape[0], V.shape[1]))\n",
    "    H = np.zeros((V.shape[0], V.shape[1]))\n",
    "    \n",
    "    for i in range(x_batch.shape[0]):\n",
    "        for j in range(V.shape[0]):\n",
    "            U[j] = V[j] @ x_batch[i] + c[j]\n",
    "            H[j] = sigmoid(U[j])\n",
    "        \n",
    "        z = np.sum(H * W, axis=0) + b\n",
    "        y = softmax(z)\n",
    "\n",
    "        for j in range(V.shape[0]):\n",
    "            dLdu = (y - y_batch[i]) * W[j] * dSigmoid(U[j])\n",
    "            dV[j] += np.outer(dLdu , x_batch[i])\n",
    "            dc[j] += dLdu\n",
    "        \n",
    "        dW += H * (y - y_batch[i])\n",
    "        db += y - y_batch[i]\n",
    "    \n",
    "    return (dV, dc, dW, db)\n",
    "\n",
    "\n",
    "class WidePerceptron:\n",
    "    def __init__(self, nIn: int, nOut: int, nL:int) -> None:\n",
    "        self.nIn = nIn\n",
    "        self.nL = nL\n",
    "        self.nOut = nOut\n",
    "        \n",
    "        self.V: np.ndarray = np.random.uniform(-1, 1, (nL, nOut, nIn))\n",
    "        self.c: np.ndarray = np.zeros((nL, nOut))\n",
    "\n",
    "        self.W: np.ndarray = np.random.uniform(-1, 1, (nL, nOut))\n",
    "        self.b: np.ndarray = np.zeros(nOut)\n",
    "\n",
    "    def predict(self, x:np.ndarray) -> np.ndarray:\n",
    "        H = np.zeros((self.nL, self.nOut))\n",
    "\n",
    "        for i in range(self.nL):\n",
    "            H[i] = sigmoid(self.V[i] @ x + self.c[i])\n",
    "        \n",
    "        z = np.sum(H * self.W, axis=0) + self.b\n",
    "                \n",
    "        return softmax(z)\n",
    "    \n",
    "    def loss(self, x: np.ndarray, y: np.ndarray) -> float:\n",
    "        Ypred = np.array([self.predict(xi) for xi in x])\n",
    "        h = -np.mean(y * np.log(Ypred), axis=1)\n",
    "        return np.mean(h)\n",
    "    \n",
    "    def train(self, x_train: np.ndarray, y_train: np.ndarray, lr, batch_size, max_epoch) -> None:\n",
    "        n = x_train.shape[0]\n",
    "\n",
    "        for epoch in range(max_epoch):\n",
    "            idxs = np.random.permutation(n)\n",
    "\n",
    "            for batch_idx in range(n // batch_size):\n",
    "                ibegin = batch_idx * batch_size\n",
    "                iend = min((batch_idx + 1) * batch_size, n - 1)\n",
    "                batch_idxs = idxs[ibegin:iend]\n",
    "            \n",
    "                dV, dc, dW, db = grads(x_train[batch_idxs], y_train[batch_idxs], self.V, self.c, self.W, self.b)\n",
    "\n",
    "                self.V -= lr * dV\n",
    "                self.c -= lr * dc\n",
    "\n",
    "                self.W -= lr * dW\n",
    "                self.b -= lr * db"
   ]
  },
  {
   "cell_type": "markdown",
   "metadata": {},
   "source": [
    "### Create and train model"
   ]
  },
  {
   "cell_type": "code",
   "execution_count": 23,
   "metadata": {},
   "outputs": [
    {
     "name": "stdout",
     "output_type": "stream",
     "text": [
      "untrained loss: 0.245631\n",
      "trained loss: 0.000476\n",
      "test set accuracy: 100.0%\n"
     ]
    }
   ],
   "source": [
    "nIn = 35\n",
    "nL = 3\n",
    "nOut = 10\n",
    "\n",
    "lr = 1e-1\n",
    "batch_size = 8\n",
    "max_epoch = 256\n",
    "\n",
    "model = WidePerceptron(nIn, nOut, nL)\n",
    "\n",
    "print('untrained loss: {0:.6f}'.format(model.loss(x_test, y_test)))\n",
    "\n",
    "model.train(x_train, y_train, lr, batch_size, max_epoch)\n",
    "\n",
    "print('trained loss: {0:.6f}'.format(model.loss(x_test, y_test)))\n",
    "\n",
    "n_true_pos = 0\n",
    "\n",
    "for x, y in zip(x_test, y_test):\n",
    "    ypred = model.predict(x)\n",
    "    n_true_pos += 1 if np.argmax(ypred) == np.argmax(y) else 0\n",
    "\n",
    "accuracy = n_true_pos / x_test.shape[0]\n",
    "print(f\"test set accuracy: {round(accuracy * 100, 2)}%\")"
   ]
  },
  {
   "cell_type": "markdown",
   "metadata": {},
   "source": [
    "### Test model on noised examples"
   ]
  },
  {
   "cell_type": "code",
   "execution_count": 24,
   "metadata": {},
   "outputs": [
    {
     "name": "stdout",
     "output_type": "stream",
     "text": [
      "accuracy: 91.71%\n"
     ]
    }
   ],
   "source": [
    "n_samples = 10000\n",
    "noise_size = 1.0\n",
    "\n",
    "n_true_pos = 0\n",
    "\n",
    "for i in range(n_samples):\n",
    "    j = i % 10\n",
    "    x = data_mtrx[j] + np.random.uniform(0, noise_size, img_size)\n",
    "    y = model.predict(x)\n",
    "    n_true_pos += 1 if j == np.argmax(y) else 0\n",
    "\n",
    "print(f\"accuracy: {round(n_true_pos / n_samples * 100, 2)}%\")"
   ]
  },
  {
   "cell_type": "markdown",
   "metadata": {},
   "source": [
    "### Visualize model predictions"
   ]
  },
  {
   "cell_type": "code",
   "execution_count": 25,
   "metadata": {},
   "outputs": [
    {
     "data": {
      "image/png": "[encoded data removed]",
      "text/plain": [
       "<Figure size 1500x500 with 10 Axes>"
      ]
     },
     "metadata": {},
     "output_type": "display_data"
    }
   ],
   "source": [
    "noise_size = 1.0\n",
    "noise = np.random.uniform(0.0, noise_size, img_size)\n",
    "\n",
    "x_noised = data_mtrx + noise\n",
    "y = list([model.predict(xi) for xi in x_noised])\n",
    "\n",
    "fig, axes = plt.subplots(nrows=1, ncols=10)\n",
    "\n",
    "fig.set_dpi(100)\n",
    "fig.set_figwidth(15)\n",
    "fig.set_figheight(5)\n",
    "\n",
    "for i, ax in enumerate(axes.ravel()):\n",
    "    j = np.argmax(y[i])\n",
    "\n",
    "    ax.imshow(x_noised[i].reshape(img_shape),  cmap='binary_r')\n",
    "    ax.set_title(f\"{j} : {(y[i][j] * 100).round()}% [{'+' if j == i else '-'}]\")\n",
    "    ax.set_xticks([])\n",
    "    ax.set_yticks([])\n",
    "\n",
    "plt.tight_layout()\n",
    "plt.show()"
   ]
  }
 ],
 "metadata": {
  "kernelspec": {
   "display_name": "jupyter-venv",
   "language": "python",
   "name": "python3"
  },
  "language_info": {
   "codemirror_mode": {
    "name": "ipython",
    "version": 3
   },
   "file_extension": ".py",
   "mimetype": "text/x-python",
   "name": "python",
   "nbconvert_exporter": "python",
   "pygments_lexer": "ipython3",
   "version": "3.10.12"
  }
 },
 "nbformat": 4,
 "nbformat_minor": 2
}

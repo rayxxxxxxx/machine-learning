{
 "cells": [
  {
   "cell_type": "code",
   "execution_count": 1,
   "metadata": {},
   "outputs": [],
   "source": [
    "from pathlib import Path\n",
    "import random\n",
    "import math\n",
    "\n",
    "import numpy as np\n",
    "from numba import njit\n",
    "\n",
    "from matplotlib import pyplot as plt"
   ]
  },
  {
   "cell_type": "markdown",
   "metadata": {},
   "source": [
    "### Load reference data"
   ]
  },
  {
   "cell_type": "code",
   "execution_count": 2,
   "metadata": {},
   "outputs": [],
   "source": [
    "img_size = 784\n",
    "img_shape = (28, 28)\n",
    "\n",
    "train_data = np.loadtxt(Path('D:/Development/Data/datasets/csv/mnist_train_small.csv'), delimiter=',')\n",
    "test_data = np.loadtxt(Path('D:/Development/Data/datasets/csv/mnist_test.csv'), delimiter=',')"
   ]
  },
  {
   "cell_type": "markdown",
   "metadata": {},
   "source": [
    "### Generate dataset"
   ]
  },
  {
   "cell_type": "code",
   "execution_count": 3,
   "metadata": {},
   "outputs": [],
   "source": [
    "def one_hot(n_samples: int, idx: int) -> np.ndarray:\n",
    "    q = np.zeros(n_samples)\n",
    "    q[idx] = 1.0\n",
    "    return q"
   ]
  },
  {
   "cell_type": "code",
   "execution_count": 4,
   "metadata": {},
   "outputs": [],
   "source": [
    "x_train = train_data[:,1:] / 255.0\n",
    "y_train = np.array([one_hot(10, int(i)) for i in train_data[:,0]])\n",
    "\n",
    "x_test = test_data[:,1:] / 255.0\n",
    "y_test = np.array([one_hot(10, int(i)) for i in test_data[:,0]])"
   ]
  },
  {
   "cell_type": "code",
   "execution_count": 5,
   "metadata": {},
   "outputs": [],
   "source": [
    "mean_x = np.zeros((10, img_size))\n",
    "count_x = np.zeros(10)\n",
    "\n",
    "for i in range(x_train.shape[0]):\n",
    "    j = np.argmax(y_train[i])\n",
    "    count_x[j] += 1\n",
    "    mean_x[j] += x_train[i]\n",
    "\n",
    "mean_x /= count_x.reshape((10, 1))"
   ]
  },
  {
   "cell_type": "markdown",
   "metadata": {},
   "source": [
    "### Define functions"
   ]
  },
  {
   "cell_type": "code",
   "execution_count": 6,
   "metadata": {},
   "outputs": [],
   "source": [
    "@njit(fastmath=True)\n",
    "def norm(x: np.ndarray) -> float:\n",
    "    return math.sqrt(np.sum(np.square(x)))\n",
    "\n",
    "\n",
    "@njit(fastmath=True)\n",
    "def normsqr(x: np.ndarray) -> float:\n",
    "    return np.sum(np.square(x))\n",
    "\n",
    "\n",
    "@njit(fastmath=True)\n",
    "def cosim(a: np.ndarray, b: np.ndarray) -> float:\n",
    "    return np.dot(a, b) / (norm(a) * norm(b))\n",
    "\n",
    "\n",
    "def mcosim(m: np.ndarray, x: np.ndarray) -> np.ndarray:\n",
    "    return np.dot(m, x) / (np.apply_along_axis(norm, 1, m) * norm(x))\n",
    "\n",
    "\n",
    "def mmcosim(m: np.ndarray) -> np.ndarray:\n",
    "    norms = np.apply_along_axis(norm, 1, m)\n",
    "    return (m @ m.T) / np.outer(norms, norms)"
   ]
  },
  {
   "cell_type": "code",
   "execution_count": 7,
   "metadata": {},
   "outputs": [],
   "source": [
    "@njit(fastmath=True)\n",
    "def sigmoid(x: np.ndarray) -> np.ndarray:\n",
    "    return 1.0 / (1.0 + np.exp(-x))\n",
    "\n",
    "\n",
    "@njit(fastmath=True)\n",
    "def dsigmoid(x: np.ndarray) -> np.ndarray:\n",
    "    y = sigmoid(x)\n",
    "    return y * (1 - y)\n",
    "\n",
    "\n",
    "@njit(fastmath=True)\n",
    "def softmax(x: np.ndarray) -> np.ndarray:\n",
    "    y = np.exp(x)\n",
    "    return y / np.sum(y)"
   ]
  },
  {
   "cell_type": "code",
   "execution_count": 8,
   "metadata": {},
   "outputs": [],
   "source": [
    "@njit(fastmath=True)\n",
    "def binary_information(y: np.ndarray) -> float:\n",
    "    return -np.sum(np.log(y) + np.log(1-y))\n",
    "\n",
    "\n",
    "@njit(fastmath=True)\n",
    "def information(y: np.ndarray) -> float:\n",
    "    return -np.sum(np.log(y))\n",
    "\n",
    "\n",
    "@njit(fastmath=True)\n",
    "def binary_entropy(y: np.ndarray) -> float:\n",
    "    return -np.sum(y * np.log(y) + (1-y) * np.log(1-y))\n",
    "\n",
    "\n",
    "@njit(fastmath=True)\n",
    "def entropy(y: np.ndarray) -> float:\n",
    "    return -np.sum(y * np.log(y))\n",
    "\n",
    "\n",
    "@njit(fastmath=True)\n",
    "def binary_cross_entropy(p: np.ndarray, q: np.ndarray) -> float:\n",
    "    return -np.sum(p * np.log(q) + (1-p) * np.log(1-q))\n",
    "\n",
    "\n",
    "@njit(fastmath=True)\n",
    "def cross_entropy(p: np.ndarray, q: np.ndarray) -> float:\n",
    "    return -np.sum(p * np.log(q))\n",
    "\n",
    "\n",
    "@njit(fastmath=True)\n",
    "def kl_divergence(p: np.ndarray, q: np.ndarray) -> float:\n",
    "    return -np.sum(p * np.log(q/p))"
   ]
  },
  {
   "cell_type": "code",
   "execution_count": 9,
   "metadata": {},
   "outputs": [],
   "source": [
    "def range_normalize(x: np.ndarray, a: float, b: float) -> np.ndarray:\n",
    "    return a + (b - a) * (x - np.min(x)) / (np.max(x) - np.min(x))"
   ]
  },
  {
   "cell_type": "markdown",
   "metadata": {},
   "source": [
    "### Define model"
   ]
  },
  {
   "cell_type": "code",
   "execution_count": 10,
   "metadata": {},
   "outputs": [],
   "source": [
    "class Perceptron:\n",
    "    def __init__(self, n_in: int, n_out: int) -> None:\n",
    "        self.n_in = n_in\n",
    "        self.n_out = n_out\n",
    "        \n",
    "        self.w: np.ndarray = np.random.uniform(-1/np.sqrt(n_in), 1/np.sqrt(n_in), (n_out, n_in))\n",
    "        self.b: np.ndarray = np.zeros(n_out)\n",
    "\n",
    "    def forward(self, x: np.ndarray) -> np.ndarray:\n",
    "        return sigmoid(self.w @ x + self.b)\n",
    "\n",
    "    def loss(self, x: np.ndarray) -> float:\n",
    "        # Q = np.array([self.forward(xi) for xi in x])\n",
    "        U = np.array([self.w @ xi + self.b for xi in x])\n",
    "        P = np.array([softmax(u) for u in U])\n",
    "        h = np.mean(np.array([binary_entropy(p) for p in P]))\n",
    "        # h = np.mean(np.array([cross_entropy(p, q) for (p, q) in zip(P, Q)]))\n",
    "        # h = np.mean(np.array([cross_entropy(1/self.n_out, p) for p in P]))\n",
    "        # h = np.mean(np.array([binary_entropy(q) for q in Q]))\n",
    "        return h"
   ]
  },
  {
   "cell_type": "markdown",
   "metadata": {},
   "source": [
    "### SGD implementation"
   ]
  },
  {
   "cell_type": "code",
   "execution_count": 11,
   "metadata": {},
   "outputs": [],
   "source": [
    "@njit(fastmath=True)\n",
    "def grads(x_batch: np.ndarray, w: np.ndarray, b: np.ndarray, rho: float) -> tuple[np.ndarray]:\n",
    "    dw = np.zeros(w.shape)\n",
    "    db = np.zeros(b.shape)\n",
    "\n",
    "    for i in range(x_batch.shape[0]):\n",
    "        u = w @ x_batch[i] + b\n",
    "\n",
    "        y = sigmoid(u) # 1\n",
    "\n",
    "        # y = softmax(u) # 2\n",
    "\n",
    "        # y = sigmoid(u) # 3\n",
    "        # p = softmax(y) # 3\n",
    "\n",
    "        # dLdu = y-1 # 1 (information minimization)\n",
    "        # dLdu = 10*y - 1 # 2 (information minimization)\n",
    "        dLdu = -y * (1-y) * np.log((1-y)/y) # 1 (binary entropy)\n",
    "        # dLdu = -y * (np.sum(y*np.log(y))-np.log(y)) # 2 (entropy)\n",
    "        # dLdu = -y * (np.sum(y*np.log(y/(1-y))) + np.log((1-y)/y)) # 2 (binary entropy)\n",
    "        # dLdu = -p*(1-y) * (1 + y*(np.sum(p*np.log(y)) - np.log(y))) # 3 (cross-entropy)\n",
    "        # dLdu = -p*(1-y) * (1 + y*(1-p)*np.log(y)) # 3 (cross-entropy) ???\n",
    "\n",
    "        # dLdu += (1-rho)*y - rho*(1-y) # 1/2\n",
    "        # dLdu += (1-rho)*p - rho*(1-p) # 3\n",
    "        # dLdu = (1-p)*y - p*(1-y) # 3\n",
    "\n",
    "        dw += np.outer(dLdu, x_batch[i])\n",
    "        db += dLdu\n",
    "\n",
    "    return (dw, db)\n",
    "\n",
    "\n",
    "def train(model: Perceptron, x_train: np.ndarray, rho, lr, batch_size, max_epoch) -> None:\n",
    "    n = x_train.shape[0]\n",
    "    n_batches = n // batch_size\n",
    "\n",
    "    for epoch in range(max_epoch):\n",
    "        idxs = np.random.permutation(n)\n",
    "\n",
    "        for i in range(n_batches):\n",
    "            ibegin = i * batch_size\n",
    "            iend = min((i + 1) * batch_size, n - 1)\n",
    "            batch_idxs = idxs[ibegin:iend]\n",
    "\n",
    "            dw, db = grads(x_train[batch_idxs], model.w, model.b, rho)\n",
    "\n",
    "            model.w -= lr * dw/batch_size\n",
    "            model.b -= lr * db/batch_size"
   ]
  },
  {
   "cell_type": "markdown",
   "metadata": {},
   "source": [
    "### Create and train model"
   ]
  },
  {
   "cell_type": "code",
   "execution_count": 12,
   "metadata": {},
   "outputs": [],
   "source": [
    "n_in = 784\n",
    "n_out = 8\n",
    "rho = 1/n_out"
   ]
  },
  {
   "cell_type": "code",
   "execution_count": 35,
   "metadata": {},
   "outputs": [
    {
     "name": "stdout",
     "output_type": "stream",
     "text": [
      "2.9990680320565537\n",
      "3.001082247054225\n"
     ]
    }
   ],
   "source": [
    "learning_rate = 1e-1\n",
    "batch_size = 64\n",
    "n_era = 4\n",
    "n_epoch = 2\n",
    "\n",
    "model = Perceptron(n_in, n_out)\n",
    "\n",
    "w_old = model.w.copy()\n",
    "b_old = model.b.copy()\n",
    "\n",
    "print(model.loss(x_test))\n",
    "\n",
    "for i in range(n_era):\n",
    "    w_tmp = model.w.copy()\n",
    "    b_tmp = model.b.copy()\n",
    "\n",
    "    train(model, x_train, rho, learning_rate, batch_size, n_epoch)\n",
    "\n",
    "    model.w = w_tmp - model.w\n",
    "    model.b = b_tmp - model.b\n",
    "\n",
    "print(model.loss(x_test))\n",
    "\n",
    "w_new = model.w.copy()\n",
    "b_new = model.b.copy()\n"
   ]
  },
  {
   "cell_type": "markdown",
   "metadata": {},
   "source": [
    "### Visualize weights"
   ]
  },
  {
   "cell_type": "code",
   "execution_count": 36,
   "metadata": {},
   "outputs": [
    {
     "data": {
      "image/png": "[encoded data removed]",
      "text/plain": [
       "<Figure size 2000x500 with 8 Axes>"
      ]
     },
     "metadata": {},
     "output_type": "display_data"
    }
   ],
   "source": [
    "fig, axes = plt.subplots(nrows=1, ncols=8)\n",
    "\n",
    "fig.set_dpi(100)\n",
    "fig.set_figwidth(20)\n",
    "fig.set_figheight(5)\n",
    "\n",
    "for i, ax in enumerate(axes.ravel()):\n",
    "    w = model.w[i]\n",
    "    w_norm =  range_normalize(w, -1, 1)\n",
    "    img = ax.imshow(w_norm.reshape(img_shape),  cmap='berlin')\n",
    "    ax.set_title(f\"{round(np.min(w), 2)}; {round(np.max(w), 2)}\")\n",
    "    ax.set_xticks([])\n",
    "    ax.set_yticks([])\n",
    "    \n",
    "plt.tight_layout()\n",
    "plt.show()"
   ]
  },
  {
   "cell_type": "code",
   "execution_count": 15,
   "metadata": {},
   "outputs": [
    {
     "name": "stdout",
     "output_type": "stream",
     "text": [
      "-0.2912325967997593 0.1694232501832463 -0.007002920228100656\n",
      "[[ 1.    0.12 -0.02  0.02  0.12  0.03  0.   -0.06]\n",
      " [ 0.12  1.   -0.1   0.   -0.1   0.03 -0.02  0.1 ]\n",
      " [-0.02 -0.1   1.    0.16 -0.01  0.11 -0.29 -0.12]\n",
      " [ 0.02  0.    0.16  1.    0.17 -0.12 -0.16 -0.24]\n",
      " [ 0.12 -0.1  -0.01  0.17  1.   -0.08  0.   -0.15]\n",
      " [ 0.03  0.03  0.11 -0.12 -0.08  1.    0.01  0.12]\n",
      " [ 0.   -0.02 -0.29 -0.16  0.    0.01  1.    0.05]\n",
      " [-0.06  0.1  -0.12 -0.24 -0.15  0.12  0.05  1.  ]]\n"
     ]
    }
   ],
   "source": [
    "sim = mmcosim(model.w)\n",
    "\n",
    "print(np.min(sim), np.max(sim-np.eye(n_out)), np.mean(sim-np.eye(n_out))/2)\n",
    "print(np.round(sim, 2))"
   ]
  },
  {
   "cell_type": "code",
   "execution_count": 16,
   "metadata": {},
   "outputs": [
    {
     "name": "stdout",
     "output_type": "stream",
     "text": [
      "[ 0.002  0.082 -0.04   0.16  -0.278 -0.232  0.058  0.052]\n",
      "[0.5   0.52  0.49  0.54  0.431 0.442 0.514 0.513]\n",
      "[0.126 0.128 0.124 0.131 0.117 0.119 0.127 0.127]\n"
     ]
    }
   ],
   "source": [
    "u_sum = np.zeros(n_out)\n",
    "q_sum = np.zeros(n_out)\n",
    "p_sum = np.zeros(n_out)\n",
    "\n",
    "h = 0\n",
    "\n",
    "for x in x_test:\n",
    "    u = model.w @ x + model.b\n",
    "    q = sigmoid(u)\n",
    "    p = softmax(q)\n",
    "\n",
    "    u_sum += u\n",
    "    q_sum += q\n",
    "    p_sum += p\n",
    "\n",
    "    # h1_sum += entropy(q)\n",
    "    # h += cross_entropy(rho, p)\n",
    "\n",
    "print(np.round(u_sum/x_test.shape[0], 3))\n",
    "print(np.round(q_sum/x_test.shape[0], 3))\n",
    "print(np.round(p_sum/x_test.shape[0], 3))\n",
    "# print(np.round(h/x_test.shape[0], 3))"
   ]
  },
  {
   "cell_type": "code",
   "execution_count": 17,
   "metadata": {},
   "outputs": [
    {
     "data": {
      "image/png": "[encoded data removed]",
      "text/plain": [
       "<Figure size 1500x500 with 22 Axes>"
      ]
     },
     "metadata": {},
     "output_type": "display_data"
    }
   ],
   "source": [
    "noise = np.random.uniform(0.0, 1.0, img_size)\n",
    "n = 10\n",
    "dn = 1/n\n",
    "\n",
    "fig, axes = plt.subplots(nrows=2, ncols=n+1)\n",
    "\n",
    "fig.set_dpi(100)\n",
    "fig.set_figwidth(15)\n",
    "fig.set_figheight(5)\n",
    "\n",
    "idx = 4\n",
    "\n",
    "for i in range(n+1):\n",
    "    t = i*dn\n",
    "    x = (1-t) * x_test[idx] + t * noise\n",
    "\n",
    "    u = model.w @ x + model.b\n",
    "    q = sigmoid(u)\n",
    "    p = softmax(q)\n",
    "\n",
    "    # p = softmax(u)\n",
    "\n",
    "    # print(np.round(u, 2))\n",
    "    # print(np.round(q, 2))\n",
    "    # print(np.round(p, 2))\n",
    "\n",
    "    axes[0][i].imshow(x.reshape(img_shape),  cmap='binary_r')\n",
    "    # axes[1][i].matshow(range_normalize(q, 0, 1).reshape((n_out, 1)), cmap='binary_r')\n",
    "    axes[1][i].matshow(range_normalize(q, 0, 1).reshape((n_out, 1)), cmap='berlin')\n",
    "    \n",
    "    axes[0][i].set_title(f\"{entropy(q):.3f}\")\n",
    "    # axes[0][i].set_title(f\"{cross_entropy(p, q):.3f}\")\n",
    "\n",
    "    axes[0][i].set_xticks([])\n",
    "    axes[0][i].set_yticks([])\n",
    "\n",
    "    axes[1][i].set_xticks([])\n",
    "    axes[1][i].set_yticks([])\n",
    "\n",
    "plt.tight_layout()\n",
    "plt.show()\n"
   ]
  },
  {
   "cell_type": "code",
   "execution_count": 18,
   "metadata": {},
   "outputs": [
    {
     "data": {
      "image/png": "[encoded data removed]",
      "text/plain": [
       "<Figure size 400x500 with 1 Axes>"
      ]
     },
     "metadata": {},
     "output_type": "display_data"
    }
   ],
   "source": [
    "qs = np.zeros((10, n_out))\n",
    "\n",
    "# w = w_old\n",
    "# b = b_old\n",
    "\n",
    "# w = w_new\n",
    "# b = b_new\n",
    "\n",
    "# w = w_new - w_old\n",
    "# b = b_new - b_old\n",
    "\n",
    "# w = w_old - w_new\n",
    "# b = b_old - b_new\n",
    "\n",
    "w = model.w\n",
    "b = model.b\n",
    "\n",
    "for i in range(10):\n",
    "    u = w @ mean_x[i] + b\n",
    "    q = sigmoid(u)\n",
    "    p = softmax(q)\n",
    "\n",
    "    # qs[i] = range_normalize(q, 0, 1)\n",
    "    qs[i] = q.copy()\n",
    "    \n",
    "plt.matshow(qs, cmap='berlin')\n",
    "plt.show()"
   ]
  },
  {
   "cell_type": "code",
   "execution_count": 19,
   "metadata": {},
   "outputs": [],
   "source": [
    "# n_in = 784\n",
    "# n_out = 10\n",
    "\n",
    "# rho = 1/n_out\n",
    "# learning_rate = 1e-2\n",
    "# batch_size = 64\n",
    "# max_epoch = 4\n",
    "\n",
    "# model = Perceptron(n_in, n_out)\n",
    "\n",
    "# w_old = model.w.copy()\n",
    "# b_old = model.b.copy()\n",
    "\n",
    "# weights = np.zeros((max_epoch, n_out, n_in))\n",
    "\n",
    "# for i in range(max_epoch):\n",
    "#     train(model, x_train, rho, learning_rate, batch_size, 1)\n",
    "#     weights[i] = model.w.copy()\n",
    "\n",
    "# fig, axes = plt.subplots(nrows=2, ncols=5)\n",
    "# fig.set_dpi(100)\n",
    "# fig.set_figwidth(15)\n",
    "# fig.set_figheight(5)\n",
    "\n",
    "# for i in range(max_epoch):\n",
    "#     for j, ax in enumerate(axes.ravel()):\n",
    "#         w_norm =  range_normalize(weights[i][j]-w_old[j], -1, 1)\n",
    "#         img = ax.imshow(w_norm.reshape(img_shape),  cmap='berlin')\n",
    "#         ax.set_xticks([])\n",
    "#         ax.set_yticks([])\n",
    "#     fig.savefig(f\"D:/Development/Python/jupyter/data/images/img_{str(i).zfill(3)}.png\", bbox_inches='tight')"
   ]
  }
 ],
 "metadata": {
  "kernelspec": {
   "display_name": ".venv",
   "language": "python",
   "name": "python3"
  },
  "language_info": {
   "codemirror_mode": {
    "name": "ipython",
    "version": 3
   },
   "file_extension": ".py",
   "mimetype": "text/x-python",
   "name": "python",
   "nbconvert_exporter": "python",
   "pygments_lexer": "ipython3",
   "version": "3.12.8"
  }
 },
 "nbformat": 4,
 "nbformat_minor": 4
}

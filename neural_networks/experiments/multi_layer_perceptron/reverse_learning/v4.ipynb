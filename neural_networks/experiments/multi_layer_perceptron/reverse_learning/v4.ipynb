{
 "cells": [
  {
   "cell_type": "code",
   "execution_count": 1,
   "metadata": {},
   "outputs": [],
   "source": [
    "from pathlib import Path\n",
    "from math import sqrt\n",
    "\n",
    "import numpy as np\n",
    "import pandas as pd\n",
    "\n",
    "from numba import njit\n",
    "\n",
    "from matplotlib import pyplot as plt"
   ]
  },
  {
   "cell_type": "markdown",
   "metadata": {},
   "source": [
    "### Load reference data"
   ]
  },
  {
   "cell_type": "code",
   "execution_count": 2,
   "metadata": {},
   "outputs": [
    {
     "data": {
      "image/png": "[encoded data removed]",
      "text/plain": [
       "<Figure size 1500x750 with 10 Axes>"
      ]
     },
     "metadata": {},
     "output_type": "display_data"
    }
   ],
   "source": [
    "fig, axes = plt.subplots(nrows=1, ncols=10)\n",
    "\n",
    "fig.set_dpi(150)\n",
    "fig.set_figwidth(10)\n",
    "fig.set_figheight(5)\n",
    "\n",
    "img_shape = (7, 5)\n",
    "img_size = 35\n",
    "\n",
    "data_path = Path(r'D:/Development/Data/datasets/txt/numbers_7x5.txt')\n",
    "data_mtrx = np.loadtxt(data_path)\n",
    "\n",
    "for n, ax in zip(data_mtrx, axes.ravel()):\n",
    "    ax.imshow(n.reshape(img_shape), cmap='binary_r')\n",
    "    ax.set_xticks([])\n",
    "    ax.set_yticks([])\n",
    "\n",
    "plt.tight_layout()\n",
    "plt.show()"
   ]
  },
  {
   "cell_type": "markdown",
   "metadata": {},
   "source": [
    "### Generate dataset"
   ]
  },
  {
   "cell_type": "code",
   "execution_count": 3,
   "metadata": {},
   "outputs": [],
   "source": [
    "cells_columns = [f'c{n}' for n in range(img_size)]\n",
    "classes = ['zero', 'one', 'two', 'three', 'four', 'five', 'six', 'seven', 'eight', 'nine']\n",
    "\n",
    "df = pd.DataFrame(columns=cells_columns + ['class'])\n",
    "\n",
    "for i in range(10):\n",
    "    new_row = dict(zip(cells_columns, data_mtrx[i]))\n",
    "    new_row['class'] = classes[i]\n",
    "\n",
    "    df.loc[df.index.size] = new_row\n",
    "\n",
    "    for j in range(9):\n",
    "        noised_num = data_mtrx[i] + np.random.uniform(0, 0.25, img_size)\n",
    "\n",
    "        new_row = dict(zip(cells_columns, noised_num))\n",
    "        new_row['class'] = classes[i]\n",
    "\n",
    "        df.loc[df.index.size] = new_row\n",
    "\n",
    "for name in df['class'].unique():\n",
    "    df[f'{name}_label'] = df['class'].map(lambda x: 1 if x == name else 0)"
   ]
  },
  {
   "cell_type": "markdown",
   "metadata": {},
   "source": [
    "### Split dataset to test and train"
   ]
  },
  {
   "cell_type": "code",
   "execution_count": 4,
   "metadata": {},
   "outputs": [],
   "source": [
    "test_frac = 0.2\n",
    "\n",
    "p = np.arange(10)\n",
    "\n",
    "test_size = int(p.size * test_frac)\n",
    "train_size = int(p.size * (1 - test_frac))\n",
    "\n",
    "idx_test = np.ravel([(p[0:test_size] + i * 10) for i in range(10)])\n",
    "idx_train = np.ravel([(p[test_size:p.size] + i * 10) for i in range(10)])\n",
    "\n",
    "features_columns = cells_columns\n",
    "label_columns = [f\"{name}_label\" for name in classes]\n",
    "\n",
    "x_test = np.array(df.iloc[idx_test][features_columns]).astype(np.float64)\n",
    "y_test = np.array(df.iloc[idx_test][label_columns]).astype(np.float64)\n",
    "\n",
    "x_train = np.array(df.iloc[idx_train][features_columns]).astype(np.float64)\n",
    "y_train = np.array(df.iloc[idx_train][label_columns]).astype(np.float64)"
   ]
  },
  {
   "cell_type": "markdown",
   "metadata": {},
   "source": [
    "### Define functions"
   ]
  },
  {
   "cell_type": "code",
   "execution_count": 5,
   "metadata": {},
   "outputs": [],
   "source": [
    "@njit(fastmath=True)\n",
    "def norm(x: np.ndarray) -> float:\n",
    "    return sqrt(np.sum(np.square(x)))\n",
    "\n",
    "\n",
    "@njit(fastmath=True)\n",
    "def cosim(a: np.ndarray, b: np.ndarray) -> float:\n",
    "    return (a @ b) / (norm(a) * norm(b))\n",
    "\n",
    "\n",
    "@njit(fastmath=True)\n",
    "def mcosim(m: np.ndarray, x: np.ndarray) -> float:\n",
    "    y = np.zeros(m.shape[0])\n",
    "    x_norm = norm(x)\n",
    "    \n",
    "    for i in range(m.shape[0]):\n",
    "        y[i] = (m[i] @ x) / (norm(m[i]) * x_norm)\n",
    "        \n",
    "    return y\n",
    "\n",
    "\n",
    "@njit(fastmath=True)\n",
    "def sigmoid(x: np.ndarray) -> np.ndarray:\n",
    "    return 1 / (1 + np.exp(-x))\n",
    "\n",
    "\n",
    "@njit(fastmath=True)\n",
    "def softmax(x: np.ndarray) -> np.ndarray:\n",
    "    y = np.exp(x)\n",
    "    return y / np.sum(y)"
   ]
  },
  {
   "cell_type": "markdown",
   "metadata": {},
   "source": [
    "### Define model"
   ]
  },
  {
   "cell_type": "code",
   "execution_count": 248,
   "metadata": {},
   "outputs": [],
   "source": [
    "@njit(fastmath=True)\n",
    "def grads(x_batch: np.ndarray, y_batch: np.ndarray, V: np.ndarray, W: np.ndarray, b: np.ndarray) -> tuple[np.ndarray]:\n",
    "    dV = np.zeros(V.shape)\n",
    "    dW = np.zeros(W.shape)\n",
    "    db = np.zeros(b.shape)\n",
    "\n",
    "    for i in range(x_batch.shape[0]):\n",
    "        x = V @ y_batch[i]\n",
    "        dLdx = 2 * (x - x_batch[i])\n",
    "        dV += np.outer(dLdx, y_batch[i])\n",
    "\n",
    "        y = softmax(W @ x_batch[i] + b)\n",
    "        dLdy = y - y_batch[i]\n",
    "        dW += np.outer(dLdy, x_batch[i])\n",
    "        db += dLdy\n",
    "\n",
    "    return (dV, dW, db)\n",
    "\n",
    "\n",
    "class Perceptron:\n",
    "    def __init__(self, nIn: int, nOut: int) -> None:\n",
    "        self.nIn = nIn\n",
    "        self.nOut = nOut\n",
    "\n",
    "        self.V: np.ndarray = np.random.uniform(-1, 1, (nIn, nOut))\n",
    "\n",
    "        self.W: np.ndarray = np.random.uniform(-1, 1, (nOut, nIn))\n",
    "        self.b: np.ndarray = np.zeros(nOut)\n",
    "\n",
    "    def predict(self, x: np.ndarray) -> np.ndarray:\n",
    "        y_prev = softmax(self.W @ x + self.b)\n",
    "        y = np.zeros(y_prev.shape)\n",
    "\n",
    "        while True:\n",
    "            s = mcosim(self.V.T, x)\n",
    "            z = y_prev * s**3\n",
    "            x = x + self.V @ z\n",
    "            x = (x - np.min(x)) / (np.max(x) - np.min(x))\n",
    "            y = softmax(self.W @ x + self.b)\n",
    "\n",
    "            if abs(np.linalg.norm(y-y_prev) < 1e-3):\n",
    "                break\n",
    "\n",
    "            y_prev = y.copy()\n",
    "\n",
    "        return y\n",
    "\n",
    "    def loss(self, x: np.ndarray, y: np.ndarray) -> float:\n",
    "        ypred = np.array([self.predict(xi) for xi in x])\n",
    "        h = -np.mean(y * np.log(ypred), axis=1)\n",
    "        return np.mean(h)\n",
    "\n",
    "    def train(self, x_train: np.ndarray, y_train: np.ndarray, lr, batch_size, max_epoch) -> None:\n",
    "        n = x_train.shape[0]\n",
    "\n",
    "        for epoch in range(max_epoch):\n",
    "            idxs = np.random.permutation(n)\n",
    "            n_batches = n // batch_size\n",
    "\n",
    "            for i in range(n_batches):\n",
    "                ibegin = i * batch_size\n",
    "                iend = min((i + 1) * batch_size, n - 1)\n",
    "                batch_idxs = idxs[ibegin:iend]\n",
    "\n",
    "                dV, dW, db = grads(x_train[batch_idxs], y_train[batch_idxs], self.V, self.W, self.b)\n",
    "\n",
    "                self.V -= lr * dV\n",
    "                self.W -= lr * dW\n",
    "                self.b -= lr * db"
   ]
  },
  {
   "cell_type": "markdown",
   "metadata": {},
   "source": [
    "### Create and train model"
   ]
  },
  {
   "cell_type": "code",
   "execution_count": 249,
   "metadata": {},
   "outputs": [
    {
     "name": "stdout",
     "output_type": "stream",
     "text": [
      "trained loss:  0.00132\n",
      "test set accuracy: 100.0%\n"
     ]
    }
   ],
   "source": [
    "nIn = 35\n",
    "nOut = 10\n",
    "\n",
    "learning_rate = 1e-1\n",
    "batch_size = 8\n",
    "max_epoch = 128\n",
    "\n",
    "model = Perceptron(nIn, nOut)\n",
    "\n",
    "# print('trained loss: ', model.loss(x_test, y_test).round(5))\n",
    "\n",
    "model.train(x_train, y_train, learning_rate, batch_size, max_epoch)\n",
    "\n",
    "print('trained loss: ', model.loss(x_test, y_test).round(5))\n",
    "\n",
    "n_true_pos = 0\n",
    "\n",
    "for x, y in zip(x_test, y_test):\n",
    "    ypred = model.predict(x)\n",
    "    n_true_pos += 1 if np.argmax(ypred) == np.argmax(y) else 0\n",
    "\n",
    "accuracy = round(n_true_pos / x_test.shape[0] * 100, 2)\n",
    "print(f\"test set accuracy: {accuracy}%\")"
   ]
  },
  {
   "cell_type": "markdown",
   "metadata": {},
   "source": [
    "### Test model on big number of noised samples"
   ]
  },
  {
   "cell_type": "code",
   "execution_count": 250,
   "metadata": {},
   "outputs": [
    {
     "name": "stdout",
     "output_type": "stream",
     "text": [
      "accuracy: 92.2% (9220 of 10000)\n"
     ]
    }
   ],
   "source": [
    "n_samples = 10000\n",
    "noise_size = 1.0\n",
    "\n",
    "n_true_pos = 0\n",
    "\n",
    "for i in range(n_samples):\n",
    "    j = i % 10\n",
    "\n",
    "    x = data_mtrx[j] + np.random.uniform(0, noise_size, img_size)\n",
    "    ypred = model.predict(x)\n",
    "    \n",
    "    n_true_pos += 1 if j == np.argmax(ypred) else 0\n",
    "\n",
    "accuracy = round(n_true_pos / n_samples * 100, 2)\n",
    "print(f\"accuracy: {accuracy}% ({n_true_pos} of {n_samples})\")"
   ]
  },
  {
   "cell_type": "markdown",
   "metadata": {},
   "source": [
    "### Visualize model predictions"
   ]
  },
  {
   "cell_type": "code",
   "execution_count": 251,
   "metadata": {},
   "outputs": [
    {
     "data": {
      "image/png": "[encoded data removed]",
      "text/plain": [
       "<Figure size 1500x500 with 10 Axes>"
      ]
     },
     "metadata": {},
     "output_type": "display_data"
    }
   ],
   "source": [
    "noise_size = 1.0\n",
    "x_noised = data_mtrx + np.random.uniform(0, noise_size, img_size)\n",
    "\n",
    "ypred = list([model.predict(xi) for xi in x_noised])\n",
    "\n",
    "fig, axes = plt.subplots(nrows=1, ncols=10)\n",
    "\n",
    "fig.set_dpi(100)\n",
    "fig.set_figwidth(15)\n",
    "fig.set_figheight(5)\n",
    "\n",
    "for i, ax in enumerate(axes.ravel()):\n",
    "    ax.imshow(x_noised[i].reshape(img_shape),  cmap='binary_r')\n",
    "    j = np.argmax(ypred[i])\n",
    "\n",
    "    ax.set_title(f\"{j} : {(ypred[i][j] * 100).round()}%\")\n",
    "    ax.set_xticks([])\n",
    "    ax.set_yticks([])\n",
    "\n",
    "plt.tight_layout()\n",
    "plt.show()"
   ]
  },
  {
   "cell_type": "code",
   "execution_count": 252,
   "metadata": {},
   "outputs": [
    {
     "data": {
      "image/png": "[encoded data removed]",
      "text/plain": [
       "<Figure size 1500x500 with 10 Axes>"
      ]
     },
     "metadata": {},
     "output_type": "display_data"
    }
   ],
   "source": [
    "fig, axes = plt.subplots(nrows=1, ncols=model.nOut)\n",
    "fig.set_figwidth(15)\n",
    "fig.set_figheight(5)\n",
    "fig.set_dpi(100)\n",
    "\n",
    "for i in range(model.nOut):\n",
    "    img = axes[i].imshow(model.V[:, i].reshape(img_shape), cmap='binary_r')\n",
    "    axes[i].set_xticks([])\n",
    "    axes[i].set_yticks([])\n",
    "    axes[i].set_title(f'{i} vector')\n",
    "\n",
    "plt.tight_layout()\n",
    "plt.show()"
   ]
  },
  {
   "cell_type": "code",
   "execution_count": 254,
   "metadata": {},
   "outputs": [
    {
     "name": "stdout",
     "output_type": "stream",
     "text": [
      "[0.   0.   0.   0.   0.   0.99 0.   0.   0.   0.01]\n",
      "[0.   0.   0.   0.01 0.   0.64 0.   0.   0.   0.34]5\n",
      "[0.   0.   0.   0.01 0.   0.76 0.   0.   0.   0.22]5\n",
      "[0.   0.   0.   0.   0.   0.89 0.   0.   0.   0.1 ]5\n",
      "[0.   0.   0.   0.   0.   0.95 0.   0.   0.   0.04]5\n",
      "[0.   0.   0.   0.   0.   0.98 0.   0.   0.   0.02]5\n",
      "[0.   0.   0.   0.   0.   0.98 0.01 0.   0.   0.01]5\n",
      "[0.   0.   0.   0.   0.   0.99 0.01 0.   0.   0.01]5\n",
      "[0.   0.   0.   0.   0.   0.99 0.01 0.   0.   0.01]5\n",
      "[0.   0.   0.   0.   0.   0.99 0.01 0.   0.   0.01]5\n"
     ]
    }
   ],
   "source": [
    "q = []\n",
    "\n",
    "x = data_mtrx[5] + np.random.uniform(0.0, 1.5, img_size)\n",
    "\n",
    "q.append(x)\n",
    "\n",
    "y_prev = softmax(model.W @ x + model.b)\n",
    "print(np.round(y_prev, 2))\n",
    "\n",
    "while True:\n",
    "    s = mcosim(model.V.T, x)\n",
    "    z = y * s**3\n",
    "    x = x + model.V @ z\n",
    "    x = (x - np.min(x)) / (np.max(x) - np.min(x))\n",
    "    y = softmax(model.W @ x + model.b)\n",
    "\n",
    "    q.append(x)\n",
    "    print(np.round(y, 2), end='')\n",
    "    print(np.argmax(s))\n",
    "\n",
    "    if(np.linalg.norm(y-y_prev) < 1e-3):\n",
    "        break\n",
    "\n",
    "    y_prev = y.copy()\n",
    "\n"
   ]
  },
  {
   "cell_type": "code",
   "execution_count": 255,
   "metadata": {},
   "outputs": [
    {
     "data": {
      "image/png": "[encoded data removed]",
      "text/plain": [
       "<Figure size 2400x600 with 10 Axes>"
      ]
     },
     "metadata": {},
     "output_type": "display_data"
    }
   ],
   "source": [
    "fig, axes = plt.subplots(nrows=1, ncols=len(q))\n",
    "fig.set_figwidth(16)\n",
    "fig.set_figheight(4)\n",
    "fig.set_dpi(150)\n",
    "\n",
    "for i, ax in enumerate(axes.ravel()):\n",
    "    ax.imshow(q[i].reshape(img_shape), cmap='binary_r')\n",
    "    ax.set_xticks([])\n",
    "    ax.set_yticks([])\n",
    "\n",
    "plt.tight_layout()\n",
    "plt.show()"
   ]
  }
 ],
 "metadata": {
  "kernelspec": {
   "display_name": "jupyter-venv",
   "language": "python",
   "name": "python3"
  },
  "language_info": {
   "codemirror_mode": {
    "name": "ipython",
    "version": 3
   },
   "file_extension": ".py",
   "mimetype": "text/x-python",
   "name": "python",
   "nbconvert_exporter": "python",
   "pygments_lexer": "ipython3",
   "version": "3.10.12"
  }
 },
 "nbformat": 4,
 "nbformat_minor": 4
}

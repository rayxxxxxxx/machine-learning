{
 "cells": [
  {
   "cell_type": "code",
   "execution_count": 246,
   "metadata": {},
   "outputs": [],
   "source": [
    "import random\n",
    "from pathlib import Path\n",
    "\n",
    "import numpy as np\n",
    "import pandas as pd\n",
    "from numba import njit, prange\n",
    "\n",
    "from matplotlib import pyplot as plt"
   ]
  },
  {
   "cell_type": "code",
   "execution_count": 247,
   "metadata": {},
   "outputs": [
    {
     "data": {
      "image/png": "[encoded data removed]",
      "text/plain": [
       "<Figure size 1500x720 with 10 Axes>"
      ]
     },
     "metadata": {},
     "output_type": "display_data"
    }
   ],
   "source": [
    "fig, axes = plt.subplots(nrows=1, ncols=10)\n",
    "\n",
    "fig.set_figwidth(10)\n",
    "fig.set_dpi(150)\n",
    "\n",
    "nums_mtrx =  np.loadtxt(Path('.', 'numbers.txt'))\n",
    "\n",
    "for n, ax in zip(nums_mtrx, axes.ravel()):\n",
    "    ax.imshow(n.reshape(5, 3), cmap='gray')\n",
    "\n",
    "plt.tight_layout()\n",
    "plt.show()"
   ]
  },
  {
   "cell_type": "code",
   "execution_count": 405,
   "metadata": {},
   "outputs": [],
   "source": [
    "cells_columns = [f'c{n}' for n in range(15)]\n",
    "classes = ['zero','one','two','three','four','five','six','seven','eight','nine']\n",
    "\n",
    "df = pd.DataFrame(columns=cells_columns+['class'])\n",
    "\n",
    "for i in range(10):\n",
    "    new_row = dict(zip(cells_columns, nums_mtrx[i]))\n",
    "    new_row['class'] = classes[i]\n",
    "    \n",
    "    df.loc[df.index.size] = new_row\n",
    "\n",
    "    for j in range(10):\n",
    "        noised_num = nums_mtrx[i] + np.random.uniform(0, 0.25, 15)\n",
    "        \n",
    "        new_row = dict(zip(cells_columns, noised_num))\n",
    "        new_row['class'] = classes[i]\n",
    "        \n",
    "        df.loc[df.index.size] = new_row\n",
    "\n",
    "for name in df['class'].unique():\n",
    "    df[f'{name}_label'] = df['class'].map(lambda x: 1 if x == name else 0)"
   ]
  },
  {
   "cell_type": "code",
   "execution_count": 406,
   "metadata": {},
   "outputs": [],
   "source": [
    "test_frac = 0.7\n",
    "\n",
    "p = np.arange(10)\n",
    "\n",
    "test_size = int(p.size*test_frac)\n",
    "train_size = int(p.size*(1-test_frac))\n",
    "\n",
    "idx_test = np.ravel([(p[0 : test_size] + i*10) for i in range(10)])\n",
    "idx_train = np.ravel([(p[test_size : p.size] + i*10) for i in range(10)])\n",
    "\n",
    "features_columns = cells_columns\n",
    "label_columns = [f\"{name}_label\" for name in classes]\n",
    "\n",
    "xTest = np.array(df.iloc[idx_test][features_columns])\n",
    "yTest = np.array(df.iloc[idx_test][label_columns])\n",
    "\n",
    "xTrain = np.array(df.iloc[idx_train][features_columns])\n",
    "yTrain = np.array(df.iloc[idx_train][label_columns])"
   ]
  },
  {
   "cell_type": "code",
   "execution_count": 414,
   "metadata": {},
   "outputs": [],
   "source": [
    "def F(x: np.ndarray) -> np.ndarray:\n",
    "    return x\n",
    "    # return np.maximum(np.zeros(x.shape), x)\n",
    "    # return np.clip(x, -1, 1)\n",
    "    # return np.tanh(x)\n",
    "\n",
    "\n",
    "@njit(fastmath=True)\n",
    "def F_jit(x: np.ndarray) -> np.ndarray:\n",
    "    return x\n",
    "    # return np.maximum(np.zeros(x.shape), x)\n",
    "    # return np.clip(x, -1, 1)\n",
    "    # return np.tanh(x)\n",
    "\n",
    "\n",
    "@njit(fastmath=True)\n",
    "def dF_jit(x: np.ndarray) -> np.ndarray:\n",
    "    return np.ones(x.shape)\n",
    "    # return 1 * (x > 0)\n",
    "    # return np.array([0 if (xi <= -1 or xi >= 1) else 1 for xi in x])\n",
    "    # return 1-np.square(np.tanh(x))\n",
    "\n",
    "\n",
    "def sigmoid(x: np.ndarray) -> float:\n",
    "    return 1/(1+np.exp(-x))\n",
    "\n",
    "\n",
    "@njit(fastmath=True)\n",
    "def sigmoid_jit(x: np.ndarray) -> float | np.ndarray:\n",
    "    return 1/(1+np.exp(-x))\n",
    "\n",
    "\n",
    "@njit(fastmath=True)\n",
    "def dSigmoid_jit(x: np.ndarray) -> float | np.ndarray:\n",
    "    y = 1/(1+np.exp(-x))\n",
    "    return y*(1-y)"
   ]
  },
  {
   "cell_type": "code",
   "execution_count": 415,
   "metadata": {},
   "outputs": [],
   "source": [
    "@njit(fastmath=True)\n",
    "def grads(xBatch:np.ndarray, w:np.ndarray, Bh:np.ndarray, b:np.ndarray) -> tuple[np.ndarray]:\n",
    "    dw = np.zeros(w.shape)\n",
    "    \n",
    "    dBh = np.zeros(Bh.shape)\n",
    "    db = np.zeros(b.shape)\n",
    "    \n",
    "    u = np.zeros((w.shape[0], w.shape[2]))\n",
    "    y = np.zeros(w.shape[1])\n",
    "    \n",
    "    for i in prange(xBatch.shape[0]):\n",
    "        u*=0\n",
    "        y*=0\n",
    "            \n",
    "        for j in prange(w.shape[0]):\n",
    "            u[j] = xBatch[i] @ w[j] + Bh[j]\n",
    "            y += F_jit(u[j]) @ w[j].T + b[j]\n",
    "\n",
    "        dLdy = 2/(w.shape[0] * w.shape[1]) * (y-xBatch[i])\n",
    "        \n",
    "        for j in prange(w.shape[0]):\n",
    "            dw[j] += (dLdy @ w[j]) * dF_jit(u[j]) * np.atleast_2d(xBatch[i]).T\n",
    "            dBh[j] += (dLdy @ w[j]) * dF_jit(u[j])\n",
    "            db[j] += dLdy\n",
    "            \n",
    "    return (dw, dBh, db)\n",
    "\n",
    "\n",
    "class MultiRBM:\n",
    "    def __init__(self, nIn: int, nH: int, nL:int) -> None:\n",
    "        self.nIn = nIn\n",
    "        self.nH = nH\n",
    "        self.nL = nL\n",
    "        \n",
    "        self.w: np.ndarray = np.random.uniform(-1, 1, (nL, nIn, nH))\n",
    "        self.Bh: np.ndarray = np.zeros((nL, nH))\n",
    "        self.b: np.ndarray = np.zeros((nL, nIn))\n",
    "\n",
    "    def predict(self, x:np.ndarray) -> np.ndarray:\n",
    "        y = np.zeros(self.nIn)\n",
    "        \n",
    "        for i in range(self.w.shape[0]):\n",
    "            y += F(x @ self.w[i] + self.Bh[i]) @ self.w[i].T + self.b[i]\n",
    "            # y += (x @ self.w[i] + self.Bh[i]) @ self.w[i].T + self.b[i]\n",
    "            \n",
    "        return y\n",
    "\n",
    "    def train(self, xTrain: np.ndarray, lr, batch_size, max_iter) -> None:\n",
    "        n = xTrain.shape[0]\n",
    "        \n",
    "        for k in range(max_iter):\n",
    "            idxs = np.random.choice(a=np.arange(n), size=batch_size, replace=False)\n",
    "            \n",
    "            dw, dBh, db = grads(xTrain[idxs], self.w, self.Bh, self.b)\n",
    "            \n",
    "            self.w -= lr*dw\n",
    "            self.Bh -= lr*dBh\n",
    "            self.b -= lr*db\n",
    "\n",
    "    def loss(self, x: np.ndarray) -> float:\n",
    "        xPred = np.array([self.predict(xi) for xi in x])\n",
    "        d = 1/(self.nL*self.nIn) * np.linalg.norm(x-xPred, axis=1)\n",
    "        return 1/x.shape[0] * np.sum(d)"
   ]
  },
  {
   "cell_type": "code",
   "execution_count": 428,
   "metadata": {},
   "outputs": [
    {
     "name": "stdout",
     "output_type": "stream",
     "text": [
      "untrained loss: 0.567181\n",
      "trained loss: 0.005044\n"
     ]
    }
   ],
   "source": [
    "nIn = 15\n",
    "nH = 5\n",
    "nL = 5\n",
    "\n",
    "lr = 1e-2\n",
    "batch_size = 16\n",
    "max_iter = 15000\n",
    "\n",
    "model = MultiRBM(nIn, nH, nL)\n",
    "\n",
    "print('untrained loss: {0:.6f}'.format(model.loss(xTest)))\n",
    "\n",
    "model.train(xTrain, lr, batch_size, max_iter)\n",
    "\n",
    "print('trained loss: {0:.6f}'.format(model.loss(xTest)))"
   ]
  },
  {
   "cell_type": "code",
   "execution_count": 429,
   "metadata": {},
   "outputs": [
    {
     "data": {
      "image/png": "[encoded data removed]",
      "text/plain": [
       "<Figure size 1000x480 with 20 Axes>"
      ]
     },
     "metadata": {},
     "output_type": "display_data"
    }
   ],
   "source": [
    "xPred = [model.predict(x) for x in nums_mtrx]\n",
    "\n",
    "fig, axes = plt.subplots(nrows=2, ncols=10)\n",
    "fig.set_dpi(100)\n",
    "fig.set_figwidth(10)\n",
    "\n",
    "for i in range(10):\n",
    "    axes[0][i].imshow(nums_mtrx[i].reshape((5,3)), cmap='gray')\n",
    "    axes[1][i].imshow(xPred[i].reshape((5,3)), cmap='gray')\n",
    "\n",
    "plt.tight_layout()\n",
    "plt.show()"
   ]
  },
  {
   "cell_type": "code",
   "execution_count": 459,
   "metadata": {},
   "outputs": [
    {
     "name": "stdout",
     "output_type": "stream",
     "text": [
      "0.009668671407844557\n"
     ]
    },
    {
     "data": {
      "image/png": "[encoded data removed]",
      "text/plain": [
       "<Figure size 800x384 with 2 Axes>"
      ]
     },
     "metadata": {},
     "output_type": "display_data"
    }
   ],
   "source": [
    "i = random.randint(0, 9)\n",
    "\n",
    "x = nums_mtrx[i] + np.random.uniform(0, 0.5, 15)\n",
    "xPred = model.predict(x)\n",
    "print(np.linalg.norm(x-xPred)/(model.nL*model.nIn))\n",
    "\n",
    "fig, axes = plt.subplots(nrows=1, ncols=2)\n",
    "\n",
    "fig.set_dpi(80)\n",
    "fig.set_figwidth(10)\n",
    "\n",
    "axes[0].imshow(x.reshape((5,3)), cmap='gray')\n",
    "axes[1].imshow(xPred.reshape((5,3)), cmap='gray')\n",
    "\n",
    "plt.tight_layout()\n",
    "plt.show()"
   ]
  }
 ],
 "metadata": {
  "kernelspec": {
   "display_name": "jupyter-venv",
   "language": "python",
   "name": "python3"
  },
  "language_info": {
   "codemirror_mode": {
    "name": "ipython",
    "version": 3
   },
   "file_extension": ".py",
   "mimetype": "text/x-python",
   "name": "python",
   "nbconvert_exporter": "python",
   "pygments_lexer": "ipython3",
   "version": "3.10.12"
  }
 },
 "nbformat": 4,
 "nbformat_minor": 2
}

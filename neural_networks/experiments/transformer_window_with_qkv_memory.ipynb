{
  "cells": [
    {
      "cell_type": "code",
      "execution_count": 104,
      "metadata": {
        "id": "nOuFBbijCnPi"
      },
      "outputs": [],
      "source": [
        "import string\n",
        "\n",
        "import torch\n",
        "import torch.nn as nn\n",
        "import torch.nn.functional as F"
      ]
    },
    {
      "cell_type": "code",
      "execution_count": 105,
      "metadata": {},
      "outputs": [
        {
          "name": "stdout",
          "output_type": "stream",
          "text": [
            "95  !\"#$%&'()*+,-./:;<=>?@[\\]^_`{|}~0123456789abcdefghijklmnopqrstuvwxyzABCDEFGHIJKLMNOPQRSTUVWXYZ\n"
          ]
        }
      ],
      "source": [
        "abc = ' ' + string.punctuation + string.digits + string.ascii_letters\n",
        "len_abc = len(abc)\n",
        "print(len_abc, abc)\n",
        "\n",
        "itoc = {i:c for i,c in enumerate(abc)}\n",
        "ctoi = {c:i for i,c in enumerate(abc)}\n",
        "\n",
        "def encode(s: str) -> list[int]:\n",
        "    return [ctoi[c] for c in s]\n",
        "\n",
        "def decode(l: list[int]) -> str:\n",
        "    return ''.join([itoc[i] for i in l])\n",
        "\n",
        "def enc2tnsr(l: list[int]) -> torch.Tensor:\n",
        "    return torch.tensor(l).long()\n",
        "\n",
        "def enc2seq(l: list[int]) -> torch.Tensor:\n",
        "    return F.one_hot(enc2tnsr(l), len_abc).float()\n",
        "\n",
        "def enct2seq(t: torch.Tensor) -> torch.Tensor:\n",
        "    return F.one_hot(t, len_abc).float()\n",
        "\n",
        "def str2seq(s: str) -> torch.Tensor:\n",
        "    encoded = torch.tensor(encode(s)).long()\n",
        "    return F.one_hot(encoded, len_abc).float()"
      ]
    },
    {
      "cell_type": "code",
      "execution_count": 106,
      "metadata": {
        "id": "dMmVk4WcxNKD"
      },
      "outputs": [],
      "source": [
        "class WriteHead(nn.Module):\n",
        "    def __init__(self, in_dim, n_mem, mem_dim, key_dim) -> None:\n",
        "        super(WriteHead, self).__init__()\n",
        "\n",
        "        self.scale = key_dim**(-0.5)\n",
        "\n",
        "        self.q = nn.Linear(in_dim, key_dim)\n",
        "        self.k = nn.Linear(mem_dim, key_dim)\n",
        "        self.v = nn.Linear(in_dim, mem_dim)\n",
        "        self.g = nn.Parameter(torch.rand(mem_dim, n_mem))\n",
        "    \n",
        "    def forward(self, x: torch.Tensor, M: torch.Tensor) -> torch.Tensor:\n",
        "        Q, K, V = self.q(x), self.k(M), self.v(x)\n",
        "        A = F.softmax(K @ Q.transpose(-1,-2) * self.scale, dim=-2)\n",
        "        G = F.sigmoid(V @ self.g @ M)\n",
        "        return A@V*G + (1-A)*M*(1-G)\n",
        "\n",
        "\n",
        "class ReadHead(nn.Module):\n",
        "    def __init__(self, in_dim, n_mem, mem_dim, key_dim) -> None:\n",
        "        super(ReadHead, self).__init__()\n",
        "\n",
        "        self.scale = key_dim**(-0.5)\n",
        "\n",
        "        self.q = nn.Linear(in_dim, key_dim)\n",
        "        self.k = nn.Linear(mem_dim, key_dim)\n",
        "        self.v = nn.Linear(mem_dim, in_dim)\n",
        "        self.g = nn.Parameter(torch.rand(in_dim, n_mem))\n",
        "\n",
        "    def forward(self, x: torch.Tensor, M: torch.Tensor) -> torch.Tensor:\n",
        "        Q, K, V = self.q(x), self.k(M), self.v(M)\n",
        "        A = F.softmax(Q @ K.transpose(-1,-2) * self.scale, dim=-1)\n",
        "        G = F.sigmoid(x @ self.g @ V)\n",
        "        return torch.sum(A@V*G + (1-G)*x, dim=-2)"
      ]
    },
    {
      "cell_type": "code",
      "execution_count": 107,
      "metadata": {
        "id": "k_zbPTs6t8Oz"
      },
      "outputs": [],
      "source": [
        "class WriteBlock(nn.Module):\n",
        "    def __init__(self, in_dim, n_mem, mem_dim, key_dim, n_heads) -> None:\n",
        "        super(WriteBlock, self).__init__()\n",
        "\n",
        "        self.heads = nn.ModuleList([WriteHead(in_dim, n_mem, mem_dim, key_dim//n_heads) for _ in range(n_heads)])\n",
        "        self.proj = nn.Linear(n_heads*mem_dim, mem_dim)\n",
        "\n",
        "    def forward(self, x: torch.Tensor, M: torch.Tensor) -> torch.Tensor:\n",
        "        M_w = [head(x, M) for head in self.heads]\n",
        "        return self.proj(torch.cat(M_w, dim=-1))\n",
        "\n",
        "\n",
        "class ReadBlock(nn.Module):\n",
        "    def __init__(self, in_dim, n_mem, mem_dim, key_dim, n_heads) -> None:\n",
        "        super(ReadBlock, self).__init__()\n",
        "\n",
        "        self.heads = nn.ModuleList([ReadHead(in_dim, n_mem, mem_dim, key_dim//n_heads) for _ in range(n_heads)])\n",
        "        self.proj = nn.Linear(n_heads*in_dim, in_dim)\n",
        "\n",
        "    def forward(self, x: torch.Tensor, M: torch.Tensor) -> torch.Tensor:\n",
        "        M_r = [head(x, M) for head in self.heads]\n",
        "        return self.proj(torch.cat(M_r, dim=-1))"
      ]
    },
    {
      "cell_type": "code",
      "execution_count": 108,
      "metadata": {},
      "outputs": [],
      "source": [
        "class Memory(nn.Module):\n",
        "    def __init__(self, in_dim, n_mem, mem_dim, key_dim, n_heads) -> None:\n",
        "        super(Memory, self).__init__()\n",
        "\n",
        "        self.register_buffer('M', torch.rand(1, n_mem, mem_dim))\n",
        "        self.write_block = WriteBlock(in_dim, n_mem, mem_dim, key_dim, n_heads)\n",
        "        self.read_block = ReadBlock(in_dim, n_mem, mem_dim, key_dim, n_heads)\n",
        "\n",
        "    def reset_memory(self) -> None:\n",
        "        self.M = torch.rand(1, *self.M.shape[1:])\n",
        "        nn.init.xavier_normal_(self.M)\n",
        "\n",
        "    def forward(self, x: torch.Tensor, write_only: bool = False) -> torch.Tensor | None:\n",
        "        if x.ndim == 2:\n",
        "            x = x.unsqueeze(-2)        \n",
        "        \n",
        "        if x.shape[0] > 1 and self.M.shape[0] != x.shape[0]:\n",
        "            self.M = self.M.expand(x.shape[0], *self.M.shape[1:])\n",
        "        \n",
        "        self.M = self.write_block(x, self.M)\n",
        "\n",
        "        if not write_only:\n",
        "            return self.read_block(x, self.M)\n",
        "        return None"
      ]
    },
    {
      "cell_type": "code",
      "execution_count": 109,
      "metadata": {},
      "outputs": [],
      "source": [
        "class TransformerBlock(nn.Module):\n",
        "    def __init__(self, emb_dim, n_heads, h_dim) -> None:\n",
        "        super(TransformerBlock, self).__init__()\n",
        "\n",
        "        self.mha = nn.MultiheadAttention(emb_dim, n_heads, batch_first=False)\n",
        "        self.mlp = nn.Sequential(nn.Linear(emb_dim, h_dim), nn.ReLU(), nn.Linear(h_dim, emb_dim))\n",
        "\n",
        "    def forward(self, x: torch.Tensor) -> torch.Tensor:\n",
        "        attn_out, _ = self.mha(x, x, x)\n",
        "        return self.mlp(x + attn_out)"
      ]
    },
    {
      "cell_type": "code",
      "execution_count": null,
      "metadata": {},
      "outputs": [
        {
          "name": "stdout",
          "output_type": "stream",
          "text": [
            "MEMORY SIZE: 14128\n",
            "TRANSFORMER SIZE: 25344\n"
          ]
        }
      ],
      "source": [
        "IN_DIM = len_abc\n",
        "H_DIM = 32\n",
        "\n",
        "N_MEM = 16\n",
        "MEM_DIM = 16\n",
        "KEY_DIM = 16\n",
        "N_HEADS = 4\n",
        "\n",
        "T_N_BLOCKS = 4\n",
        "T_H_DIM = 32\n",
        "\n",
        "projection = nn.Linear(IN_DIM, H_DIM)\n",
        "t_args = (H_DIM, N_HEADS, T_H_DIM)\n",
        "t_modules = [TransformerBlock(*t_args) for _ in range(T_N_BLOCKS)]\n",
        "transformer = nn.Sequential(*t_modules)\n",
        "memory = Memory(H_DIM, N_MEM, MEM_DIM, KEY_DIM, N_HEADS)\n",
        "classifier = nn.Sequential(nn.Linear(H_DIM, len_abc), nn.Softmax(dim=0))\n",
        "\n",
        "print('MEMORY SIZE:', sum([p.numel() for p in memory.parameters()]))\n",
        "print('TRANSFORMER SIZE:', sum([p.numel() for p in transformer.parameters()]))"
      ]
    },
    {
      "cell_type": "code",
      "execution_count": 111,
      "metadata": {},
      "outputs": [],
      "source": [
        "txt = 'The quick brown fox jumps over the lazy dog.'\n",
        "encoded = encode(txt)"
      ]
    },
    {
      "cell_type": "code",
      "execution_count": null,
      "metadata": {},
      "outputs": [
        {
          "name": "stdout",
          "output_type": "stream",
          "text": [
            "`^oHUFPIVzm|V)|8wOC-?tQt su6%kT2;R'ThIC~rQ2Y$$]o&,{6;]F=.Kl;/6jiCSJqv-i=C1lXs4Sa)&wU3~\\^\"'[BB88t leO2$P`9zM=2$zhx_pjP^hEH`9d cx8\n"
          ]
        }
      ],
      "source": [
        "n_tokens = 128\n",
        "chnk_sz = 8\n",
        "result = []\n",
        "ctxs = None\n",
        "\n",
        "memory.reset_memory()\n",
        "\n",
        "# PREPOCESS SEQUENCE WITH TRANSFORMER AT CHUNK-LEVEL\n",
        "for i in range(1, len(encoded), chnk_sz):\n",
        "    chnk = projection(enc2seq(encoded[i:i+chnk_sz]))\n",
        "    ctxs = transformer(chnk).unsqueeze(-2)\n",
        "    for x in ctxs:\n",
        "        memory.forward(x, write_only=True)\n",
        "\n",
        "# MAKE CONTEXTS SAME LENGTH AS CHUNK_SIZE\n",
        "if len(ctxs) < chnk_sz:\n",
        "    filler = torch.zeros(chnk_sz-len(ctxs), 1, H_DIM)\n",
        "    ctxs = torch.cat((filler, ctxs))\n",
        "\n",
        "j = 0\n",
        "# GENERATE SEQUENCE STARTING FROM CURRENT CHUNK CONTEXTS\n",
        "for _ in range(n_tokens):\n",
        "    if j == chnk_sz:\n",
        "        for k in range(chnk_sz):\n",
        "            ctxs[k] = memory.forward(ctxs[k])\n",
        "        j = 0\n",
        "\n",
        "    p = classifier(ctxs[-1])\n",
        "    idx = torch.multinomial(p, 1, True).item()\n",
        "    result.append(idx)\n",
        "\n",
        "    # 1) add generated token to context window in circular fashion\n",
        "    # 2) update contexts via transformer\n",
        "    ctxs[j] = projection(enc2seq([idx]))\n",
        "    ctxs = transformer(ctxs)\n",
        "    j += 1\n",
        "\n",
        "print(decode(result))"
      ]
    }
  ],
  "metadata": {
    "colab": {
      "provenance": [],
      "toc_visible": true
    },
    "kernelspec": {
      "display_name": ".pytorch",
      "language": "python",
      "name": "python3"
    },
    "language_info": {
      "codemirror_mode": {
        "name": "ipython",
        "version": 3
      },
      "file_extension": ".py",
      "mimetype": "text/x-python",
      "name": "python",
      "nbconvert_exporter": "python",
      "pygments_lexer": "ipython3",
      "version": "3.12.8"
    }
  },
  "nbformat": 4,
  "nbformat_minor": 0
}

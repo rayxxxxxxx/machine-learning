{
 "cells": [
  {
   "cell_type": "code",
   "execution_count": 1,
   "metadata": {},
   "outputs": [],
   "source": [
    "from pathlib import Path\n",
    "\n",
    "import numpy as np\n",
    "import pandas as pd\n",
    "from numba import njit, prange\n",
    "\n",
    "from matplotlib import pyplot as plt"
   ]
  },
  {
   "cell_type": "code",
   "execution_count": 2,
   "metadata": {},
   "outputs": [
    {
     "data": {
      "image/png": "[encoded data removed]",
      "text/plain": [
       "<Figure size 1500x720 with 10 Axes>"
      ]
     },
     "metadata": {},
     "output_type": "display_data"
    }
   ],
   "source": [
    "fig, axes = plt.subplots(nrows=1, ncols=10)\n",
    "\n",
    "fig.set_figwidth(10)\n",
    "fig.set_dpi(150)\n",
    "\n",
    "nums_mtrx =  np.loadtxt(Path('/mnt/HDD500GB/Data/development/jupyterLab/data/numbers_7x5.txt'))\n",
    "\n",
    "for n, ax in zip(nums_mtrx, axes.ravel()):\n",
    "    ax.imshow(n.reshape(7, 5), cmap='gray')\n",
    "\n",
    "plt.tight_layout()\n",
    "plt.show()"
   ]
  },
  {
   "cell_type": "code",
   "execution_count": 3,
   "metadata": {},
   "outputs": [],
   "source": [
    "cells_columns = [f'c{n}' for n in range(35)]\n",
    "classes = ['zero','one','two','three','four','five','six','seven','eight','nine']\n",
    "\n",
    "df = pd.DataFrame(columns=cells_columns+['class'])\n",
    "\n",
    "for i in range(10):\n",
    "    new_row = dict(zip(cells_columns, nums_mtrx[i]))\n",
    "    new_row['class'] = classes[i]\n",
    "    \n",
    "    df.loc[df.index.size] = new_row\n",
    "\n",
    "    for j in range(9):\n",
    "        noised_num = nums_mtrx[i] + np.random.uniform(0, 0.5, 35)\n",
    "        \n",
    "        new_row = dict(zip(cells_columns, noised_num))\n",
    "        new_row['class'] = classes[i]\n",
    "        \n",
    "        df.loc[df.index.size] = new_row\n",
    "\n",
    "for name in df['class'].unique():\n",
    "    df[f'{name}_label'] = df['class'].map(lambda x: 1 if x == name else 0)"
   ]
  },
  {
   "cell_type": "code",
   "execution_count": 4,
   "metadata": {},
   "outputs": [],
   "source": [
    "test_frac = 0.7\n",
    "\n",
    "p = np.arange(10)\n",
    "\n",
    "test_size = int(p.size*test_frac)\n",
    "train_size = int(p.size*(1-test_frac))\n",
    "\n",
    "idx_test = np.ravel([(p[0 : test_size] + i*10) for i in range(10)])\n",
    "idx_train = np.ravel([(p[test_size : p.size] + i*10) for i in range(10)])\n",
    "\n",
    "features_columns = cells_columns\n",
    "label_columns = [f\"{name}_label\" for name in classes]\n",
    "\n",
    "xTest = np.array(df.iloc[idx_test][features_columns])\n",
    "yTest = np.array(df.iloc[idx_test][label_columns])\n",
    "\n",
    "xTrain = np.array(df.iloc[idx_train][features_columns])\n",
    "yTrain = np.array(df.iloc[idx_train][label_columns])"
   ]
  },
  {
   "cell_type": "code",
   "execution_count": 5,
   "metadata": {},
   "outputs": [],
   "source": [
    "@njit(fastmath=True)\n",
    "def sigmoid(x: np.ndarray) -> np.ndarray:\n",
    "    return 1 / (1 + np.exp(-x))\n",
    "\n",
    "\n",
    "@njit(fastmath=True)\n",
    "def dSigmoid(x: np.ndarray) -> np.ndarray:\n",
    "    y = 1 / (1 + np.exp(-x))\n",
    "    return y * (1 - y)\n",
    "\n",
    "\n",
    "@njit(fastmath=True)\n",
    "def softmax(x: np.ndarray) -> np.ndarray:\n",
    "    y = np.exp(x)\n",
    "    return y / np.sum(y)"
   ]
  },
  {
   "cell_type": "code",
   "execution_count": 6,
   "metadata": {},
   "outputs": [],
   "source": [
    "@njit(fastmath=True)\n",
    "def grads(xBatch: np.ndarray, yBatch: np.ndarray, W: np.ndarray, b: np.ndarray) -> tuple[np.ndarray]:\n",
    "    dW = np.zeros(W.shape)\n",
    "    db = np.zeros(b.shape)\n",
    "\n",
    "    u = np.zeros((W.shape[0], W.shape[1]))\n",
    "    h = np.zeros(W.shape[1])\n",
    "    \n",
    "    for i in prange(xBatch.shape[0]):\n",
    "        u *= 0\n",
    "        h *= 0\n",
    "\n",
    "        for j in range(W.shape[0]):\n",
    "            u[j] = W[j] @ xBatch[i] + b[j]\n",
    "            # h += sigmoid(u[j])\n",
    "            h += u[j]\n",
    "\n",
    "        y = softmax(h)\n",
    "\n",
    "        for j in range(W.shape[0]):\n",
    "            # dLdu = (y - yBatch[i]) * dSigmoid(u[j])\n",
    "            dLdu = (y - yBatch[i])\n",
    "            dW[j] += np.outer(dLdu, xBatch[i])\n",
    "            db[j] += dLdu\n",
    "                \n",
    "    return (dW, db)\n",
    "\n",
    "\n",
    "class WidePerceptron:\n",
    "    def __init__(self, nIn: int, nL:int, nOut: int) -> None:\n",
    "        self.nIn = nIn\n",
    "        self.nL = nL\n",
    "        self.nOut = nOut\n",
    "        \n",
    "        self.W: np.ndarray = np.random.uniform(-1, 1, (nL, nOut, nIn))\n",
    "        self.b: np.ndarray = np.zeros((nL, nOut))\n",
    "\n",
    "    def predict(self, x:np.ndarray) -> np.ndarray:\n",
    "        y = np.zeros(self.nOut)\n",
    "\n",
    "        for i in range(self.nL):\n",
    "            # y += sigmoid(self.W[i] @ x + self.b[i])\n",
    "            y += self.W[i] @ x + self.b[i]\n",
    "                \n",
    "        return softmax(y)\n",
    "\n",
    "    def train(self, xTrain: np.ndarray, yTrain: np.ndarray, lr, batch_size, max_epoch) -> None:\n",
    "        n = xTrain.shape[0]\n",
    "\n",
    "        for epoch in range(max_epoch):\n",
    "            idxs = np.random.permutation(n)\n",
    "\n",
    "            for batch_idx in range(n//batch_size):\n",
    "                ibegin, iend = batch_idx*batch_size, min((batch_idx+1)*batch_size, n-1)\n",
    "                batch_idxs = idxs[ibegin:iend]\n",
    "            \n",
    "                dW, db = grads(xTrain[batch_idxs], yTrain[batch_idxs], self.W, self.b)\n",
    "\n",
    "                self.W -= lr*dW\n",
    "                self.b -= lr*db\n",
    "        \n",
    "    def loss(self, x: np.ndarray, y: np.ndarray) -> float:\n",
    "        Ypred = np.array([self.predict(xi) for xi in x])\n",
    "        h = -np.mean(y*np.log(Ypred), axis=1)\n",
    "        return np.mean(h)"
   ]
  },
  {
   "cell_type": "code",
   "execution_count": 116,
   "metadata": {},
   "outputs": [
    {
     "name": "stdout",
     "output_type": "stream",
     "text": [
      "untrained loss: 0.511956\n",
      "trained loss: 0.000745\n",
      "test set accuracy: 100.0%\n"
     ]
    }
   ],
   "source": [
    "nIn = 35\n",
    "nL = 3\n",
    "nOut = 10\n",
    "\n",
    "learning_rate = 1e-1\n",
    "batch_size = 8\n",
    "max_epoch = 1000\n",
    "\n",
    "model = WidePerceptron(nIn, nL, nOut)\n",
    "\n",
    "print('untrained loss: {0:.6f}'.format(model.loss(xTest, yTest)))\n",
    "\n",
    "model.train(xTrain, yTrain, learning_rate, batch_size, max_epoch)\n",
    "\n",
    "print('trained loss: {0:.6f}'.format(model.loss(xTest, yTest)))\n",
    "\n",
    "TP_count = 0\n",
    "for x, y in zip(xTest, yTest):\n",
    "    yPred = model.predict(x)\n",
    "    TP_count += 1 if np.argmax(y) == np.argmax(yPred) else 0\n",
    "\n",
    "accuracy = TP_count / xTest.shape[0]\n",
    "print(f\"test set accuracy: {round(accuracy*100, 2)}%\")"
   ]
  },
  {
   "cell_type": "code",
   "execution_count": 115,
   "metadata": {},
   "outputs": [
    {
     "name": "stdout",
     "output_type": "stream",
     "text": [
      "accuracy: 94.97% (9497 of 10000)\n"
     ]
    }
   ],
   "source": [
    "TP_count = 0\n",
    "n_samples = 10000\n",
    "for i in range(n_samples):\n",
    "    j = i % 10\n",
    "    x = nums_mtrx[j] + np.random.uniform(0, 1.0, 35)\n",
    "    yPred = model.predict(x)\n",
    "    TP_count += 1 if j == np.argmax(yPred) else 0\n",
    "\n",
    "print(f\"accuracy: {round(TP_count/n_samples*100, 2)}% ({TP_count} of {n_samples})\")"
   ]
  },
  {
   "cell_type": "code",
   "execution_count": 9,
   "metadata": {},
   "outputs": [
    {
     "data": {
      "image/png": "[encoded data removed]",
      "text/plain": [
       "<Figure size 1500x500 with 10 Axes>"
      ]
     },
     "metadata": {},
     "output_type": "display_data"
    }
   ],
   "source": [
    "x_noised = nums_mtrx + np.random.uniform(0, 1.0, 35)\n",
    "\n",
    "yPred = list([model.predict(xi) for xi in x_noised])\n",
    "\n",
    "fig, axes = plt.subplots(nrows=1, ncols=10)\n",
    "\n",
    "fig.set_dpi(100)\n",
    "fig.set_figwidth(15)\n",
    "fig.set_figheight(5)\n",
    "\n",
    "for i, ax in enumerate(axes.ravel()):\n",
    "    ax.imshow(x_noised[i].reshape((7, 5)),  cmap='gray')\n",
    "    j = np.argmax(yPred[i])\n",
    "    ax.set_title(f\"{j} : {(yPred[i][j]*100).round()}%\")\n",
    "\n",
    "plt.autoscale()\n",
    "plt.tight_layout()\n",
    "plt.show()"
   ]
  }
 ],
 "metadata": {
  "kernelspec": {
   "display_name": "jupyter-venv",
   "language": "python",
   "name": "python3"
  },
  "language_info": {
   "codemirror_mode": {
    "name": "ipython",
    "version": 3
   },
   "file_extension": ".py",
   "mimetype": "text/x-python",
   "name": "python",
   "nbconvert_exporter": "python",
   "pygments_lexer": "ipython3",
   "version": "3.10.12"
  }
 },
 "nbformat": 4,
 "nbformat_minor": 2
}

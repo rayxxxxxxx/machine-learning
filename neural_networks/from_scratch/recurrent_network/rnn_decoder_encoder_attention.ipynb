{
 "cells": [
  {
   "cell_type": "code",
   "execution_count": 1,
   "metadata": {},
   "outputs": [],
   "source": [
    "import string\n",
    "import numpy as np"
   ]
  },
  {
   "cell_type": "code",
   "execution_count": 2,
   "metadata": {},
   "outputs": [],
   "source": [
    "vocab = string.digits + string.ascii_letters + ' ' + string.punctuation\n",
    "vocab_size = len(vocab)\n",
    "\n",
    "stoi = {c:i for c,i in zip(vocab, range(vocab_size))}\n",
    "itos = {i:c for c,i in zip(vocab, range(vocab_size))}\n",
    "\n",
    "def encode(text: str) -> list[int]:\n",
    "    return [stoi[c] for c in text]\n",
    "\n",
    "def decode(idxs: list[int]) -> str:\n",
    "    return ''.join([itos[i] for i in idxs])"
   ]
  },
  {
   "cell_type": "code",
   "execution_count": 3,
   "metadata": {},
   "outputs": [],
   "source": [
    "def onehot(n_classes: int, idx: int) -> np.ndarray:\n",
    "    emb = np.zeros(n_classes)\n",
    "    emb[idx] = 1.0\n",
    "    return emb\n",
    "\n",
    "def str2seq(text: str) -> np.ndarray:\n",
    "    return np.array([onehot(vocab_size, i) for i in encode(text)])\n",
    "\n",
    "def seq2str(seq: np.ndarray) -> str:\n",
    "    return decode([int(np.argmax(v)) for v in seq])"
   ]
  },
  {
   "cell_type": "code",
   "execution_count": 4,
   "metadata": {},
   "outputs": [],
   "source": [
    "def softmax(x: np.ndarray) -> np.ndarray:\n",
    "    y = np.exp(x)\n",
    "    return y / np.sum(y)"
   ]
  },
  {
   "cell_type": "code",
   "execution_count": 5,
   "metadata": {},
   "outputs": [],
   "source": [
    "def calculate_attention(states: np.ndarray, context: np.ndarray) -> np.ndarray:\n",
    "    scores = softmax(states @ context)\n",
    "    values = scores.reshape((scores.size, 1)) * states\n",
    "    return np.sum(values, axis=0)"
   ]
  },
  {
   "cell_type": "code",
   "execution_count": 39,
   "metadata": {},
   "outputs": [],
   "source": [
    "class EncoderRNN:\n",
    "    def __init__(self, n_in: int, n_h: int) -> None:\n",
    "        self.W_xh: np.ndarray = np.random.uniform(-1, 1, (n_h, n_in))\n",
    "        self.W_hh: np.ndarray = np.random.uniform(-1, 1, (n_h, n_h))\n",
    "        self.b_h: np.ndarray = np.zeros(n_h)\n",
    "    \n",
    "    def forward(self, sequence: np.ndarray) -> np.ndarray:\n",
    "        states = np.zeros((len(sequence), self.b_h.size))\n",
    "        context = np.zeros(len(self.W_hh))\n",
    "\n",
    "        for i,x in enumerate(sequence):\n",
    "            context = np.tanh(self.W_hh @ context + self.W_xh @ x + self.b_h)\n",
    "            states[i] = context.copy()\n",
    "        \n",
    "        return (states, context)"
   ]
  },
  {
   "cell_type": "code",
   "execution_count": 41,
   "metadata": {},
   "outputs": [],
   "source": [
    "class DecoderRNN:\n",
    "    def __init__(self, n_in: int, n_h: int, n_out: int) -> None:\n",
    "        self.W_oh: np.ndarray = np.random.uniform(-1, 1, (n_h, n_in))\n",
    "        self.W_hh: np.ndarray = np.random.uniform(-1, 1, (n_h, n_h))\n",
    "        self.b_h: np.ndarray = np.zeros(n_h)\n",
    "\n",
    "        self.W_ho: np.ndarray = np.random.uniform(-1, 1, (n_out, 2*n_h))\n",
    "        self.b_o: np.ndarray = np.zeros(n_out)\n",
    "    \n",
    "    def forward(self, states: np.ndarray, context: np.ndarray, t: int) -> np.ndarray:\n",
    "        outputs = np.zeros((t, self.b_o.size))\n",
    "        out = np.zeros(self.b_o.size)\n",
    "\n",
    "        for i in range(t):\n",
    "            context = np.tanh(self.W_hh @ context + self.W_oh @ out + self.b_h)\n",
    "            attention = calculate_attention(states, context)\n",
    "            ctx_att = np.concatenate((context, attention), axis=0)\n",
    "            out = softmax(self.W_ho @ ctx_att + self.b_o)\n",
    "            outputs[i] = out.copy()\n",
    "            \n",
    "        return outputs"
   ]
  },
  {
   "cell_type": "code",
   "execution_count": 30,
   "metadata": {},
   "outputs": [],
   "source": [
    "class Seq2Seq:\n",
    "    def __init__(self, n_in: int, n_h: int, n_out: int) -> None:\n",
    "        self.encoder = EncoderRNN(n_in, n_h)\n",
    "        self.decoder = DecoderRNN(n_in, n_h, n_out)\n",
    "\n",
    "    def generate(self, sequence: np.ndarray, t: int) -> np.ndarray:\n",
    "        states, context = self.encoder.forward(sequence)\n",
    "        return self.decoder.forward(states, context, t)"
   ]
  },
  {
   "cell_type": "code",
   "execution_count": 49,
   "metadata": {},
   "outputs": [
    {
     "name": "stdout",
     "output_type": "stream",
     "text": [
      "aFMyy{CF0t=et0\\QQiy0\\-GAyX`o4T|zO{'*YU3i{g0?gI?Q*#*hGaI-tA'CI:y=I?Q)'gi?h0Cet{CI0QC>04ybjt94TK?QQiyl\\9cW4Ml{M4$9p03bAAXN&Mvy7C9}\n"
     ]
    }
   ],
   "source": [
    "model = Seq2Seq(vocab_size, 32, vocab_size)\n",
    "\n",
    "in_text = 'the quick brown fox jumps over the lazy dog'\n",
    "sequence = str2seq(in_text)\n",
    "\n",
    "outputs = model.generate(sequence, 128)\n",
    "out_text = seq2str(outputs)\n",
    "\n",
    "print(out_text)"
   ]
  }
 ],
 "metadata": {
  "kernelspec": {
   "display_name": ".jupyter",
   "language": "python",
   "name": "python3"
  },
  "language_info": {
   "codemirror_mode": {
    "name": "ipython",
    "version": 3
   },
   "file_extension": ".py",
   "mimetype": "text/x-python",
   "name": "python",
   "nbconvert_exporter": "python",
   "pygments_lexer": "ipython3",
   "version": "3.12.8"
  }
 },
 "nbformat": 4,
 "nbformat_minor": 2
}

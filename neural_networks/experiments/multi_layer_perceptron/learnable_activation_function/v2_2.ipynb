{
 "cells": [
  {
   "cell_type": "markdown",
   "metadata": {},
   "source": [
    "### Load data"
   ]
  },
  {
   "cell_type": "code",
   "execution_count": 43,
   "metadata": {},
   "outputs": [],
   "source": [
    "from pathlib import Path\n",
    "\n",
    "import numpy as np\n",
    "from numba import njit, prange\n",
    "\n",
    "from matplotlib import pyplot as plt"
   ]
  },
  {
   "cell_type": "code",
   "execution_count": 44,
   "metadata": {},
   "outputs": [
    {
     "data": {
      "image/png": "[encoded data removed]",
      "text/plain": [
       "<Figure size 1500x750 with 10 Axes>"
      ]
     },
     "metadata": {},
     "output_type": "display_data"
    }
   ],
   "source": [
    "img_shape = (7, 5)\n",
    "img_size = 35\n",
    "\n",
    "data_path = Path(r'D:/Development/Data/datasets/txt/numbers_7x5.txt')\n",
    "data_mtrx = np.loadtxt(data_path)\n",
    "\n",
    "fig, axes = plt.subplots(nrows=1, ncols=10)\n",
    "\n",
    "fig.set_dpi(150)\n",
    "fig.set_figwidth(10)\n",
    "fig.set_figheight(5)\n",
    "\n",
    "for n, ax in zip(data_mtrx, axes.ravel()):\n",
    "    ax.imshow(n.reshape(img_shape), cmap='binary_r')\n",
    "    ax.set_xticks([])\n",
    "    ax.set_yticks([])\n",
    "\n",
    "plt.tight_layout()\n",
    "plt.show()"
   ]
  },
  {
   "cell_type": "markdown",
   "metadata": {},
   "source": [
    "### Generate dataset"
   ]
  },
  {
   "cell_type": "code",
   "execution_count": 45,
   "metadata": {},
   "outputs": [],
   "source": [
    "def one_hot_encoding(n: int, idx: int) -> np.ndarray:\n",
    "    q = np.zeros(n)\n",
    "    q[idx] = 1.0\n",
    "    return q"
   ]
  },
  {
   "cell_type": "code",
   "execution_count": 46,
   "metadata": {},
   "outputs": [],
   "source": [
    "features = []\n",
    "labels = []\n",
    "\n",
    "for i, reference_sample in enumerate(data_mtrx):\n",
    "    features.append(reference_sample)\n",
    "    labels.append(one_hot_encoding(10, i))\n",
    "\n",
    "    for j in range(9):\n",
    "        noised_sample = reference_sample + np.random.uniform(0.0, 0.25, img_size)\n",
    "        \n",
    "        features.append(noised_sample)\n",
    "        labels.append(one_hot_encoding(10, i))\n",
    "\n",
    "features = np.array(features)\n",
    "labels = np.array(labels)"
   ]
  },
  {
   "cell_type": "markdown",
   "metadata": {},
   "source": [
    "### Split dataset to test and train"
   ]
  },
  {
   "cell_type": "code",
   "execution_count": 47,
   "metadata": {},
   "outputs": [],
   "source": [
    "test_frac = 0.2\n",
    "\n",
    "p = np.arange(10)\n",
    "\n",
    "test_size = int(p.size * test_frac)\n",
    "train_size = int(p.size * (1 - test_frac))\n",
    "\n",
    "idx_test = np.ravel([(p[0:test_size] + i * 10) for i in range(10)])\n",
    "idx_train = np.ravel([(p[test_size:p.size] + i * 10) for i in range(10)])\n",
    "\n",
    "x_test = np.array(features[idx_test])\n",
    "y_test = np.array(labels[idx_test])\n",
    "\n",
    "x_train = np.array(features[idx_train])\n",
    "y_train = np.array(labels[idx_train])"
   ]
  },
  {
   "cell_type": "markdown",
   "metadata": {},
   "source": [
    "### Define activation functions"
   ]
  },
  {
   "cell_type": "code",
   "execution_count": 57,
   "metadata": {},
   "outputs": [],
   "source": [
    "@njit(fastmath=True)\n",
    "def ReLU(x: np.ndarray, p: np.ndarray, q: np.ndarray, c: np.ndarray, d: np.ndarray) -> np.ndarray:\n",
    "    return (p * (x + c) + d) * ((x + c) >= 0) + (q * (x + c) + d) * ((x + c) < 0)\n",
    "\n",
    "\n",
    "@njit(fastmath=True)\n",
    "def dReLU(x: np.ndarray, p: np.ndarray, q: np.ndarray, c: np.ndarray) -> np.ndarray:\n",
    "    return p * ((x + c) >= 0) + q * ((x + c) < 0)\n",
    "\n",
    "\n",
    "@njit(fastmath=True)\n",
    "def dReLU_dp(x: np.ndarray, c: np.ndarray) -> np.ndarray:\n",
    "    return x * ((x + c) >= 0)\n",
    "\n",
    "\n",
    "@njit(fastmath=True)\n",
    "def dReLU_dq(x: np.ndarray, c: np.ndarray) -> np.ndarray:\n",
    "    return x * ((x + c) < 0)\n",
    "\n",
    "\n",
    "@njit(fastmath=True)\n",
    "def dReLU_dc(x: np.ndarray, p: np.ndarray, q: np.ndarray, c: np.ndarray) -> np.ndarray:\n",
    "    return p * ((x + c) >= 0) + q * ((x + c) < 0)\n",
    "\n",
    "\n",
    "@njit(fastmath=True)\n",
    "def dReLU_dd(x: np.ndarray, c: np.ndarray) -> np.ndarray:\n",
    "    return 1 * ((x + c) >= 0) + 1 * ((x + c) < 0)\n",
    "\n",
    "\n",
    "@njit(fastmath=True)\n",
    "def softmax(x: np.ndarray) -> np.ndarray:\n",
    "    y = np.exp(x)\n",
    "    return y / np.sum(y)"
   ]
  },
  {
   "cell_type": "markdown",
   "metadata": {},
   "source": [
    "### Define model"
   ]
  },
  {
   "cell_type": "code",
   "execution_count": 58,
   "metadata": {},
   "outputs": [],
   "source": [
    "@njit(fastmath=True)\n",
    "def grads(x_batch: np.ndarray, y_batch: np.ndarray, V: np.ndarray, W: np.ndarray, a: np.ndarray, b: np.ndarray, p: np.ndarray, q: np.ndarray, c: np.ndarray, d: np.ndarray) -> tuple[np.ndarray]:\n",
    "    dV = np.zeros(V.shape)\n",
    "    da = np.zeros(a.shape)\n",
    "\n",
    "    dW = np.zeros(W.shape)\n",
    "    db = np.zeros(b.shape)\n",
    "\n",
    "    dp = np.zeros(p.shape)\n",
    "    dq = np.zeros(q.shape)\n",
    "\n",
    "    dc = np.zeros(c.shape)\n",
    "    dd = np.zeros(d.shape)\n",
    "    \n",
    "    for i in prange(x_batch.shape[0]):\n",
    "        u = V @ x_batch[i] + a\n",
    "        h = ReLU(u, p, q, c, d)\n",
    "        y = softmax(W @ h + b)\n",
    "\n",
    "        dLdh = W.T @ (y - y_batch[i])\n",
    "        \n",
    "        dV += np.outer(dLdh * dReLU(u, p, q, c), x_batch[i])\n",
    "        da += dLdh * dReLU(u, p, q, c)\n",
    "\n",
    "        dW += np.outer(y - y_batch[i], h)\n",
    "        db += y - y_batch[i]\n",
    "\n",
    "        dp += dLdh * dReLU_dp(u, c)\n",
    "        dq += dLdh * dReLU_dq(u, c)\n",
    "\n",
    "        dc += dLdh * dReLU_dc(u, p, q, c)\n",
    "        dd += dLdh * dReLU_dd(u, c)\n",
    "        \n",
    "    return (dV, dW, da, db, dp, dq, dc, dd)\n",
    "\n",
    "class Perceptron:\n",
    "    def __init__(self, nIn: int, nH: int, nOut: int) -> None:\n",
    "        self.nIn = nIn\n",
    "        self.nH = nH\n",
    "        self.nOut = nOut\n",
    "        \n",
    "        self.V: np.ndarray = np.random.uniform(-1, 1, (nH, nIn))\n",
    "        self.a: np.ndarray = np.zeros(nH)\n",
    "\n",
    "        self.W: np.ndarray = np.random.uniform(-1, 1, (nOut, nH))\n",
    "        self.b: np.ndarray = np.zeros(nOut)\n",
    "\n",
    "        self.p = np.zeros(nH)\n",
    "        self.q = np.zeros(nH)\n",
    "\n",
    "        self.c = np.zeros(nH)\n",
    "        self.d = np.zeros(nH)\n",
    "\n",
    "    def predict(self, x:np.ndarray) -> np.ndarray:\n",
    "        u = self.V @ x + self.a\n",
    "        h = ReLU(u, self.p, self.q, self.c, self.d)\n",
    "        return softmax(self.W @ h + self.b)\n",
    "\n",
    "    def loss(self, x: np.ndarray, y: np.ndarray) -> float:        \n",
    "        ypred = np.array([self.predict(xi) for xi in x])\n",
    "        h = -np.mean(y * np.log(ypred), axis=1)\n",
    "        return np.mean(h)\n",
    "\n",
    "    def train(self, xTrain: np.ndarray, yTrain: np.ndarray, lr, batch_size, max_epoch) -> None:\n",
    "        n = xTrain.shape[0]\n",
    "\n",
    "        for epoch in range(max_epoch):\n",
    "            idxs = np.random.permutation(n)\n",
    "\n",
    "            for i in range(n // batch_size):\n",
    "                ibegin, iend = i * batch_size, min((i + 1) * batch_size, n-1)\n",
    "                batch_idxs = idxs[ibegin:iend]\n",
    "\n",
    "                dV, dW, da, db, dp, dq, dc, dd = grads(xTrain[batch_idxs], yTrain[batch_idxs], self.V, self.W, self.a, self.b, self.p, self.q, self.c, self.d)\n",
    "\n",
    "                self.V -= lr * dV\n",
    "                self.a -= lr * da\n",
    "\n",
    "                self.W -= lr * dW\n",
    "                self.b -= lr * db\n",
    "\n",
    "                self.p -= lr * dp\n",
    "                self.q -= lr * dq\n",
    "\n",
    "                self.c -= lr * dc\n",
    "                self.d -= lr * dd"
   ]
  },
  {
   "cell_type": "markdown",
   "metadata": {},
   "source": [
    "### Create and train model"
   ]
  },
  {
   "cell_type": "code",
   "execution_count": 65,
   "metadata": {},
   "outputs": [
    {
     "name": "stdout",
     "output_type": "stream",
     "text": [
      "untrained loss:  0.230259\n",
      "trained loss:  0.000447\n",
      "test set accuracy: 100.0%\n"
     ]
    }
   ],
   "source": [
    "nIn = 35\n",
    "nH = 3\n",
    "nOut = 10\n",
    "\n",
    "learning_rate = 1e-2\n",
    "batch_size = 8\n",
    "max_epoch = 256\n",
    "\n",
    "model = Perceptron(nIn, nH, nOut)\n",
    "\n",
    "print('untrained loss: ', model.loss(x_test, y_test).round(6))\n",
    "\n",
    "model.train(\n",
    "    x_train,\n",
    "    y_train,\n",
    "    learning_rate,\n",
    "    batch_size,\n",
    "    max_epoch\n",
    ")\n",
    "\n",
    "print('trained loss: ', model.loss(x_test, y_test).round(6))\n",
    "\n",
    "n_true_pos = 0\n",
    "\n",
    "for x, y in zip(x_test, y_test):\n",
    "    y_pred = model.predict(x)\n",
    "    n_true_pos += 1 if np.argmax(y_pred) == np.argmax(y) else 0\n",
    "\n",
    "accuracy = n_true_pos / x_test.shape[0]\n",
    "print(f\"test set accuracy: {round(accuracy * 100, 2)}%\")"
   ]
  },
  {
   "cell_type": "markdown",
   "metadata": {},
   "source": [
    "### Test model on big number of noised samples"
   ]
  },
  {
   "cell_type": "code",
   "execution_count": 66,
   "metadata": {},
   "outputs": [
    {
     "name": "stdout",
     "output_type": "stream",
     "text": [
      "accuracy: 56.98%\n"
     ]
    }
   ],
   "source": [
    "n_samples = 10000\n",
    "noise_size = 1.0\n",
    "\n",
    "n_true_pos = 0\n",
    "\n",
    "for i in range(n_samples):\n",
    "    j = i % 10\n",
    "    x = data_mtrx[j] + np.random.uniform(0, noise_size, img_size)\n",
    "    y = model.predict(x)\n",
    "    n_true_pos += 1 if j == np.argmax(y) else 0\n",
    "\n",
    "print(f\"accuracy: {round(n_true_pos / n_samples * 100, 2)}%\")"
   ]
  },
  {
   "cell_type": "markdown",
   "metadata": {},
   "source": [
    "### Visualize model predictions"
   ]
  },
  {
   "cell_type": "code",
   "execution_count": 52,
   "metadata": {},
   "outputs": [
    {
     "data": {
      "image/png": "[encoded data removed]",
      "text/plain": [
       "<Figure size 1500x500 with 10 Axes>"
      ]
     },
     "metadata": {},
     "output_type": "display_data"
    }
   ],
   "source": [
    "noise_size = 1.0\n",
    "\n",
    "x_noised = data_mtrx + np.random.uniform(0.0, noise_size, img_size)\n",
    "y = list([model.predict(xi) for xi in x_noised])\n",
    "\n",
    "fig, axes = plt.subplots(nrows=1, ncols=10)\n",
    "\n",
    "fig.set_dpi(100)\n",
    "fig.set_figwidth(15)\n",
    "fig.set_figheight(5)\n",
    "\n",
    "for i, ax in enumerate(axes.ravel()):\n",
    "    ax.imshow(x_noised[i].reshape(img_shape),  cmap='binary_r')\n",
    "    j = np.argmax(y[i])\n",
    "\n",
    "    ax.set_title(f\"[{'+' if j == i else '-'}] {j} : {(y[i][j] * 100).round()}%\")\n",
    "    ax.set_xticks([])\n",
    "    ax.set_yticks([])\n",
    "\n",
    "plt.tight_layout()\n",
    "plt.show()"
   ]
  },
  {
   "cell_type": "code",
   "execution_count": 67,
   "metadata": {},
   "outputs": [
    {
     "data": {
      "image/png": "[encoded data removed]",
      "text/plain": [
       "<Figure size 640x480 with 1 Axes>"
      ]
     },
     "metadata": {},
     "output_type": "display_data"
    }
   ],
   "source": [
    "x = np.linspace(-1, 1, 100)\n",
    "\n",
    "for p, q, c, d in zip(model.p, model.q, model.c, model.d):\n",
    "    y = (p * (x + c) + d) * ((x + c) >= 0) + (q * (x + c) + d) * ((x + c) < 0)\n",
    "    plt.plot(x, y, lw=1)\n",
    "\n",
    "ax = plt.gca()\n",
    "ax.spines['top'].set_color('none')\n",
    "ax.spines['left'].set_position('zero')\n",
    "ax.spines['right'].set_color('none')\n",
    "ax.spines['bottom'].set_position('zero')\n",
    "\n",
    "plt.show()"
   ]
  },
  {
   "cell_type": "code",
   "execution_count": 54,
   "metadata": {},
   "outputs": [
    {
     "name": "stdout",
     "output_type": "stream",
     "text": [
      "[-0.02243815  0.01446016  0.14439415  0.08365049 -0.07458773 -0.0169914\n",
      "  0.02574584  0.01148752 -0.01398511  0.04321349]\n",
      "[-0.45165983  0.01348299  0.31765221  0.37126071  0.03588889 -0.03195792\n",
      "  0.09731432  0.09603426 -0.52020389  0.25196419]\n"
     ]
    }
   ],
   "source": [
    "print(model.c)\n",
    "print(model.d)"
   ]
  }
 ],
 "metadata": {
  "kernelspec": {
   "display_name": "jupyter-venv",
   "language": "python",
   "name": "python3"
  },
  "language_info": {
   "codemirror_mode": {
    "name": "ipython",
    "version": 3
   },
   "file_extension": ".py",
   "mimetype": "text/x-python",
   "name": "python",
   "nbconvert_exporter": "python",
   "pygments_lexer": "ipython3",
   "version": "3.10.12"
  }
 },
 "nbformat": 4,
 "nbformat_minor": 2
}

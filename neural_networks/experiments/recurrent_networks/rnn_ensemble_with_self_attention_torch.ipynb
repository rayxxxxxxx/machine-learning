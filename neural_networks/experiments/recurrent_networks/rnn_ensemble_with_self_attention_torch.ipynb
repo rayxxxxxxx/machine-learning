{
  "cells": [
    {
      "cell_type": "code",
      "execution_count": null,
      "metadata": {
        "id": "3ZeWuLqRyQRl"
      },
      "outputs": [],
      "source": [
        "import torch\n",
        "import torch.nn as nn\n",
        "import torch.nn.functional as F\n",
        "\n",
        "import string"
      ]
    },
    {
      "cell_type": "code",
      "execution_count": null,
      "metadata": {},
      "outputs": [],
      "source": [
        "abc = ' ' + string.punctuation + string.digits + string.ascii_letters\n",
        "len_abc = len(abc)\n",
        "print(len_abc, abc)\n",
        "\n",
        "itoc = {i:c for i,c in enumerate(abc)}\n",
        "ctoi = {c:i for i,c in enumerate(abc)}\n",
        "\n",
        "def encode(s: str) -> list[int]:\n",
        "    return [ctoi[c] for c in s]\n",
        "\n",
        "def decode(l: list[int]) -> str:\n",
        "    return ''.join([itoc[i] for i in l])\n",
        "\n",
        "def enc2tnsr(l: list[int]) -> torch.Tensor:\n",
        "    return torch.tensor(l).long()\n",
        "\n",
        "def enc2seq(l: list[int]) -> torch.Tensor:\n",
        "    return F.one_hot(enc2tnsr(l), len_abc).float()\n",
        "\n",
        "def enct2seq(t: torch.Tensor) -> torch.Tensor:\n",
        "    return F.one_hot(t, len_abc).float()\n",
        "\n",
        "def str2seq(s: str) -> torch.Tensor:\n",
        "    encoded = torch.tensor(encode(s)).long()\n",
        "    return F.one_hot(encoded, len_abc).float()"
      ]
    },
    {
      "cell_type": "code",
      "execution_count": null,
      "metadata": {
        "id": "iJWAKffU5Ssg"
      },
      "outputs": [],
      "source": [
        "class TransformerBlock(nn.Module):\n",
        "    def __init__(self, emb_dim, n_heads, h_dim) -> None:\n",
        "        super(TransformerBlock, self).__init__()\n",
        "\n",
        "        self.mha = nn.MultiheadAttention(emb_dim, n_heads, batch_first=False)\n",
        "        self.mlp = nn.Sequential(nn.Linear(emb_dim, h_dim), nn.ReLU(), nn.Linear(h_dim, emb_dim))\n",
        "\n",
        "    def forward(self, x: torch.Tensor) -> torch.Tensor:\n",
        "        attn_out, _ = self.mha(x, x, x)\n",
        "        return self.mlp(x + attn_out)\n",
        "\n",
        "\n",
        "class RNNNet(nn.Module):\n",
        "    def __init__(self, n_rnn, in_dim, h_dim, out_dim, n_heads, th_dim) -> None:\n",
        "        super(RNNNet, self).__init__()\n",
        "\n",
        "        self.n_rnn = n_rnn\n",
        "        self.h_dim = h_dim\n",
        "\n",
        "        self.register_buffer('states', torch.zeros(n_rnn, 1, h_dim))\n",
        "        self.rnns = nn.ModuleList([nn.RNN(in_dim, h_dim, batch_first=True) for _ in range(n_rnn)])\n",
        "        self.tblock = TransformerBlock(h_dim, n_heads, th_dim)\n",
        "        self.classifier = nn.Sequential(nn.Linear(n_rnn*h_dim, out_dim), nn.Softmax(dim=0))\n",
        "\n",
        "    def reset_states(self) -> None:\n",
        "        shape = (self.n_rnn, 1, self.h_dim)\n",
        "        self.states = torch.zeros(shape)\n",
        "\n",
        "    def forward(self, x: torch.Tensor) -> torch.Tensor:\n",
        "        if x.ndim == 3:\n",
        "            n_seq, seq_len, emb_dim = x.shape\n",
        "            shape = (self.n_rnn, 1, n_seq, self.h_dim)\n",
        "            self.states = torch.zeros(shape)\n",
        "\n",
        "        c = torch.cat([rnn(x, s)[1] for rnn, s in zip(self.rnns, self.states)], dim=0)\n",
        "        self.states = (c + self.tblock(c)).unsqueeze(-2)\n",
        "    \n",
        "    @torch.no_grad()\n",
        "    def generate(self, t: int, block_size: int) -> list[int]:\n",
        "        result = [0]\n",
        "        i, j = 0, 0\n",
        "\n",
        "        for _ in range(t):\n",
        "            if j == block_size:\n",
        "                self.states = self.states + self.tblock(self.states)\n",
        "                j = 0\n",
        "            \n",
        "            h = torch.cat([rnn(enc2seq([i]), s)[1] for rnn, s in zip(self.rnns, self.states)], dim=-1) \n",
        "            p = self.classifier(h)\n",
        "            j += 1\n",
        "\n",
        "            i = torch.multinomial(p, 1, True)\n",
        "            result.append(i.item())\n",
        "        \n",
        "        return result"
      ]
    },
    {
      "cell_type": "code",
      "execution_count": null,
      "metadata": {},
      "outputs": [],
      "source": [
        "IN_DIM = len_abc\n",
        "N_RNN = 4\n",
        "H_DIM = 16\n",
        "N_HEADS = 4\n",
        "TH_DIM = 32\n",
        "OUT_DIM = len_abc\n",
        "\n",
        "model = RNNNet(N_RNN, IN_DIM, H_DIM, OUT_DIM, N_HEADS, TH_DIM)"
      ]
    },
    {
      "cell_type": "code",
      "execution_count": null,
      "metadata": {},
      "outputs": [],
      "source": [
        "# UNBATCHED INPUT\n",
        "\n",
        "txt = 'The quick brown fox jumps over the lazy dog.'\n",
        "chunks = [encode(chnk) for chnk in txt.split(' ')]\n",
        "\n",
        "model.reset_states()\n",
        "for chnk in chunks:\n",
        "    seq = enc2seq(chnk)\n",
        "    model.forward(seq)"
      ]
    },
    {
      "cell_type": "code",
      "execution_count": null,
      "metadata": {},
      "outputs": [],
      "source": [
        "# BATCHED INPUT\n",
        "\n",
        "txt = 'The quick brown fox jumps over the lazy dog.'\n",
        "chunks = [encode(chnk) for chnk in txt.split(' ')]\n",
        "\n",
        "model.reset_states()\n",
        "for chnk in chunks:\n",
        "    seq = enc2seq(chnk)\n",
        "    seq = seq.expand(8, *seq.shape)\n",
        "    model.forward(seq)"
      ]
    },
    {
      "cell_type": "code",
      "execution_count": null,
      "metadata": {},
      "outputs": [],
      "source": [
        "model.reset_states()\n",
        "enc = model.generate(128, 8)\n",
        "print(decode(enc))"
      ]
    }
  ],
  "metadata": {
    "colab": {
      "provenance": []
    },
    "kernelspec": {
      "display_name": ".pytorch",
      "language": "python",
      "name": "python3"
    },
    "language_info": {
      "codemirror_mode": {
        "name": "ipython",
        "version": 3
      },
      "file_extension": ".py",
      "mimetype": "text/x-python",
      "name": "python",
      "nbconvert_exporter": "python",
      "pygments_lexer": "ipython3",
      "version": "3.12.8"
    }
  },
  "nbformat": 4,
  "nbformat_minor": 0
}

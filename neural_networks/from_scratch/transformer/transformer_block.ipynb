{
 "cells": [
  {
   "cell_type": "code",
   "execution_count": null,
   "metadata": {
    "executionInfo": {
     "elapsed": 11459,
     "status": "ok",
     "timestamp": 1743703639899,
     "user": {
      "displayName": "rayxxx",
      "userId": "02334739596992171567"
     },
     "user_tz": -180
    },
    "id": "wI-CMmP6WtGr"
   },
   "outputs": [],
   "source": [
    "import torch\n",
    "import torch.nn as nn\n",
    "import torch.nn.functional as F"
   ]
  },
  {
   "cell_type": "code",
   "execution_count": 16,
   "metadata": {
    "executionInfo": {
     "elapsed": 23,
     "status": "ok",
     "timestamp": 1743703639950,
     "user": {
      "displayName": "rayxxx",
      "userId": "02334739596992171567"
     },
     "user_tz": -180
    },
    "id": "bMBnE4u7lRUq"
   },
   "outputs": [],
   "source": [
    "class AttentionHead(nn.Module):\n",
    "    def __init__(self, in_dim, key_dim, ctx_size) -> None:\n",
    "        super(AttentionHead, self).__init__()\n",
    "\n",
    "        self.scaler = key_dim**-0.5\n",
    "        self.register_buffer('mask', torch.tril(torch.ones(ctx_size, ctx_size))==0)\n",
    "\n",
    "        self.q = nn.Linear(in_dim, key_dim, bias=False)\n",
    "        self.k = nn.Linear(in_dim, key_dim, bias=False)\n",
    "        self.v = nn.Linear(in_dim, in_dim, bias=False)\n",
    "\n",
    "    def forward(self, x: torch.Tensor) -> torch.Tensor:\n",
    "        Q, K, V = self.q(x), self.k(x), self.v(x)\n",
    "        A = (Q @ K.transpose(1,2)) * self.scaler\n",
    "        A = F.softmax(A.masked_fill(self.mask, -torch.inf), dim=2)\n",
    "        return A @ V"
   ]
  },
  {
   "cell_type": "code",
   "execution_count": 17,
   "metadata": {
    "executionInfo": {
     "elapsed": 43,
     "status": "ok",
     "timestamp": 1743703639995,
     "user": {
      "displayName": "rayxxx",
      "userId": "02334739596992171567"
     },
     "user_tz": -180
    },
    "id": "iXtVMn5-ydIg"
   },
   "outputs": [],
   "source": [
    "class MultiHeadAttention(nn.Module):\n",
    "    def __init__(self, n_heads, in_dim, key_dim, ctx_size) -> None:\n",
    "        super(MultiHeadAttention, self).__init__()\n",
    "\n",
    "        self.heads = nn.ModuleList([AttentionHead(in_dim, key_dim//n_heads, ctx_size) for _ in range(n_heads)])\n",
    "        self.proj = nn.Linear(n_heads*in_dim, in_dim)\n",
    "\n",
    "    def forward(self, x: torch.Tensor) -> torch.Tensor:\n",
    "        t = torch.cat([h(x) for h in self.heads], dim=2)\n",
    "        return self.proj(t)"
   ]
  },
  {
   "cell_type": "code",
   "execution_count": 18,
   "metadata": {
    "executionInfo": {
     "elapsed": 21,
     "status": "ok",
     "timestamp": 1743703640015,
     "user": {
      "displayName": "rayxxx",
      "userId": "02334739596992171567"
     },
     "user_tz": -180
    },
    "id": "28hRvp05pd4p"
   },
   "outputs": [],
   "source": [
    "class Block(nn.Module):\n",
    "    def __init__(self, n_heads, in_dim, key_dim, h_dim, ctx_size) -> None:\n",
    "        super(Block, self).__init__()\n",
    "\n",
    "        self.attention = MultiHeadAttention(n_heads, in_dim, key_dim, ctx_size)\n",
    "        self.mlp = nn.Sequential(nn.Linear(in_dim, h_dim), nn.ReLU(), nn.Linear(h_dim, in_dim))\n",
    "\n",
    "    def forward(self, x: torch.Tensor) -> torch.Tensor:\n",
    "        x = x + self.attention(x)\n",
    "        return x + self.mlp(x)"
   ]
  },
  {
   "cell_type": "code",
   "execution_count": 19,
   "metadata": {
    "executionInfo": {
     "elapsed": 4,
     "status": "ok",
     "timestamp": 1743703734226,
     "user": {
      "displayName": "rayxxx",
      "userId": "02334739596992171567"
     },
     "user_tz": -180
    },
    "id": "z6SVgTjL2WhT"
   },
   "outputs": [],
   "source": [
    "ctx_size = 10\n",
    "in_dim = 100\n",
    "\n",
    "n_blocks = 4\n",
    "n_heads = 4\n",
    "key_dim = 32\n",
    "h_dim = 2*in_dim"
   ]
  },
  {
   "cell_type": "code",
   "execution_count": 20,
   "metadata": {
    "executionInfo": {
     "elapsed": 13,
     "status": "ok",
     "timestamp": 1743703740038,
     "user": {
      "displayName": "rayxxx",
      "userId": "02334739596992171567"
     },
     "user_tz": -180
    },
    "id": "41nV-0g881Tn"
   },
   "outputs": [
    {
     "name": "stdout",
     "output_type": "stream",
     "text": [
      "model size:  507200\n"
     ]
    }
   ],
   "source": [
    "args = [n_heads, in_dim, key_dim, h_dim, ctx_size]\n",
    "modules = [Block(*args) for _ in range(n_blocks)]\n",
    "model = nn.Sequential(*modules)\n",
    "\n",
    "print('model size: ', sum([p.numel() for p in model.parameters()]))"
   ]
  },
  {
   "cell_type": "code",
   "execution_count": 21,
   "metadata": {},
   "outputs": [
    {
     "name": "stdout",
     "output_type": "stream",
     "text": [
      "x.shape=torch.Size([32, 10, 100])\n",
      "x.shape=torch.Size([32, 10, 100])\n"
     ]
    }
   ],
   "source": [
    "batch_size = 32\n",
    "\n",
    "x = torch.rand(batch_size, ctx_size, in_dim)\n",
    "print(f'{x.shape=}')\n",
    "\n",
    "x = model(x)\n",
    "print(f'{x.shape=}')"
   ]
  }
 ],
 "metadata": {
  "colab": {
   "authorship_tag": "ABX9TyPGvDVBzl6uSnc/wFqeR5mR",
   "provenance": []
  },
  "kernelspec": {
   "display_name": ".pytorch",
   "language": "python",
   "name": "python3"
  },
  "language_info": {
   "codemirror_mode": {
    "name": "ipython",
    "version": 3
   },
   "file_extension": ".py",
   "mimetype": "text/x-python",
   "name": "python",
   "nbconvert_exporter": "python",
   "pygments_lexer": "ipython3",
   "version": "3.12.8"
  }
 },
 "nbformat": 4,
 "nbformat_minor": 0
}

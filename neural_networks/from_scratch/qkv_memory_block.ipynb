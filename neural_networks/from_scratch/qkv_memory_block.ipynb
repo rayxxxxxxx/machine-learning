{
  "cells": [
    {
      "cell_type": "code",
      "execution_count": 148,
      "metadata": {
        "id": "nOuFBbijCnPi"
      },
      "outputs": [],
      "source": [
        "import torch\n",
        "import torch.nn as nn\n",
        "import torch.nn.functional as F\n",
        "\n",
        "import string"
      ]
    },
    {
      "cell_type": "code",
      "execution_count": 149,
      "metadata": {},
      "outputs": [
        {
          "name": "stdout",
          "output_type": "stream",
          "text": [
            "95  !\"#$%&'()*+,-./:;<=>?@[\\]^_`{|}~0123456789abcdefghijklmnopqrstuvwxyzABCDEFGHIJKLMNOPQRSTUVWXYZ\n"
          ]
        }
      ],
      "source": [
        "abc = ' ' + string.punctuation + string.digits + string.ascii_letters\n",
        "len_abc = len(abc)\n",
        "print(len_abc, abc)\n",
        "\n",
        "itoc = {i:c for i,c in enumerate(abc)}\n",
        "ctoi = {c:i for i,c in enumerate(abc)}\n",
        "\n",
        "def encode(s: str) -> list[int]:\n",
        "    return [ctoi[c] for c in s]\n",
        "\n",
        "def decode(l: list[int]) -> str:\n",
        "    return ''.join([itoc[i] for i in l])\n",
        "\n",
        "def enc2tnsr(l: list[int]) -> torch.Tensor:\n",
        "    return torch.tensor(l).long()\n",
        "\n",
        "def enc2seq(l: list[int]) -> torch.Tensor:\n",
        "    return F.one_hot(enc2tnsr(l), len_abc).float()\n",
        "\n",
        "def enct2seq(t: torch.Tensor) -> torch.Tensor:\n",
        "    return F.one_hot(t, len_abc).float()\n",
        "\n",
        "def str2seq(s: str) -> torch.Tensor:\n",
        "    encoded = torch.tensor(encode(s)).long()\n",
        "    return F.one_hot(encoded, len_abc).float()"
      ]
    },
    {
      "cell_type": "code",
      "execution_count": 150,
      "metadata": {
        "id": "dMmVk4WcxNKD"
      },
      "outputs": [],
      "source": [
        "class WriteHead(nn.Module):\n",
        "    def __init__(self, in_dim, n_mem, mem_dim, key_dim) -> None:\n",
        "        super(WriteHead, self).__init__()\n",
        "\n",
        "        self.scale = key_dim**(-0.5) # attention scaler\n",
        "        self.shape = (-1, n_mem, -1) # V shape for concat gating\n",
        "\n",
        "        self.q = nn.Linear(in_dim, key_dim)\n",
        "        self.k = nn.Linear(mem_dim, key_dim)\n",
        "        self.v = nn.Linear(in_dim, mem_dim)\n",
        "\n",
        "        # self.g = nn.Parameter(torch.rand(mem_dim, n_mem)) # general-attention gating [1]\n",
        "        self.g = nn.Linear(2*mem_dim, mem_dim) # concat-then-linear gating [2]\n",
        "    \n",
        "    def forward(self, x: torch.Tensor, M: torch.Tensor) -> torch.Tensor:\n",
        "        # print('// WRITE HEAD')\n",
        "        # print(f'{x.shape=} {M.shape=}')\n",
        "        Q, K, V = self.q(x), self.k(M), self.v(x)#; print(f'{Q.shape=} {K.shape=} {V.shape=}')\n",
        "        A = F.softmax(K @ Q.transpose(-1,-2) * self.scale, dim=-2)#; print(f'{A.shape=}')\n",
        "\n",
        "        # ----- [1]\n",
        "        # G = F.sigmoid(V @ self.g @ M)#; print(f'{G.shape=}')\n",
        "\n",
        "        # ----- [2]\n",
        "        MV = torch.cat((M, V.expand(self.shape)), dim=-1)#; print(f'{MV.shape=}')\n",
        "        G = F.sigmoid(self.g(MV))#; print(f'{G.shape=}')\n",
        "\n",
        "        return A@V*G + (1-A)*M*(1-G)\n",
        "\n",
        "\n",
        "class ReadHead(nn.Module):\n",
        "    def __init__(self, in_dim, n_mem, mem_dim, key_dim) -> None:\n",
        "        super(ReadHead, self).__init__()\n",
        "\n",
        "        self.scale = key_dim**(-0.5) # attention scaler\n",
        "        self.shape = (-1, n_mem, -1) # X shape for concat gating\n",
        "\n",
        "        self.q = nn.Linear(in_dim, key_dim)\n",
        "        self.k = nn.Linear(mem_dim, key_dim)\n",
        "        self.v = nn.Linear(mem_dim, in_dim)\n",
        "\n",
        "        # self.g = nn.Parameter(torch.rand(in_dim, n_mem)) # general-attention gating [1]\n",
        "        self.g = nn.Linear(2*in_dim, in_dim) # concat-then-linear gating [2]\n",
        "\n",
        "    def forward(self, x: torch.Tensor, M: torch.Tensor) -> torch.Tensor:\n",
        "        # print('// READ HEAD')\n",
        "        # print(f'{x.shape=} {M.shape=}')\n",
        "        Q, K, V = self.q(x), self.k(M), self.v(M)#; print(f'{Q.shape=} {K.shape=} {V.shape=}')\n",
        "        A = F.softmax(Q @ K.transpose(-1,-2) * self.scale, dim=-1)#; print(f'{A.shape=}')\n",
        "\n",
        "        # ----- [1]\n",
        "        # G = F.sigmoid(x @ self.g @ V)#; print(f'{G.shape=}')\n",
        "\n",
        "        # ----- [2]\n",
        "        VX = torch.cat((V, x.expand(self.shape)), dim=-1)#; print(f'{VX.shape=}')\n",
        "        G = F.sigmoid(self.g(VX))#; print(f'{G.shape=}')\n",
        "\n",
        "        return torch.sum(A@V*G + (1-G)*x, dim=-2)"
      ]
    },
    {
      "cell_type": "code",
      "execution_count": 151,
      "metadata": {
        "id": "k_zbPTs6t8Oz"
      },
      "outputs": [],
      "source": [
        "class WriteBlock(nn.Module):\n",
        "    def __init__(self, in_dim, n_mem, mem_dim, key_dim, n_heads) -> None:\n",
        "        super(WriteBlock, self).__init__()\n",
        "\n",
        "        self.heads = nn.ModuleList([WriteHead(in_dim, n_mem, mem_dim, key_dim//n_heads) for _ in range(n_heads)])\n",
        "        self.proj = nn.Linear(n_heads*mem_dim, mem_dim)\n",
        "\n",
        "    def forward(self, x: torch.Tensor, M: torch.Tensor) -> torch.Tensor:\n",
        "        M_w = [head(x, M) for head in self.heads]\n",
        "        return self.proj(torch.cat(M_w, dim=-1))\n",
        "\n",
        "\n",
        "class ReadBlock(nn.Module):\n",
        "    def __init__(self, in_dim, n_mem, mem_dim, key_dim, n_heads) -> None:\n",
        "        super(ReadBlock, self).__init__()\n",
        "\n",
        "        self.heads = nn.ModuleList([ReadHead(in_dim, n_mem, mem_dim, key_dim//n_heads) for _ in range(n_heads)])\n",
        "        self.proj = nn.Linear(n_heads*in_dim, in_dim)\n",
        "\n",
        "    def forward(self, x: torch.Tensor, M: torch.Tensor) -> torch.Tensor:\n",
        "        M_r = [head(x, M) for head in self.heads]\n",
        "        return self.proj(torch.cat(M_r, dim=-1))"
      ]
    },
    {
      "cell_type": "code",
      "execution_count": 152,
      "metadata": {},
      "outputs": [],
      "source": [
        "class Memory(nn.Module):\n",
        "    def __init__(self, in_dim, n_mem, mem_dim, key_dim, n_heads) -> None:\n",
        "        super(Memory, self).__init__()\n",
        "\n",
        "        self.register_buffer('M', torch.rand(1, n_mem, mem_dim))\n",
        "        self.write_block = WriteBlock(in_dim, n_mem, mem_dim, key_dim, n_heads)\n",
        "        self.read_block = ReadBlock(in_dim, n_mem, mem_dim, key_dim, n_heads)\n",
        "\n",
        "    def reset_memory(self) -> None:\n",
        "        self.M = torch.rand(self.M.shape)\n",
        "        nn.init.xavier_uniform_(self.M)\n",
        "\n",
        "    def forward(self, x: torch.Tensor) -> torch.Tensor:\n",
        "        if x.ndim == 2:\n",
        "            x = x.unsqueeze(-2)        \n",
        "        \n",
        "        if x.shape[0] > 1 and self.M.shape[0] != x.shape[0]:\n",
        "            self.M = self.M.expand(x.shape[0], *self.M.shape[1:])\n",
        "        \n",
        "        self.M = self.write_block(x, self.M)\n",
        "        return self.read_block(x, self.M)"
      ]
    },
    {
      "cell_type": "code",
      "execution_count": 153,
      "metadata": {},
      "outputs": [
        {
          "name": "stdout",
          "output_type": "stream",
          "text": [
            "128147\n"
          ]
        }
      ],
      "source": [
        "IN_DIM = len_abc\n",
        "N_MEM = 5\n",
        "MEM_DIM = 16\n",
        "KEY_DIM = 16\n",
        "N_HEADS = 4\n",
        "\n",
        "mem = Memory(IN_DIM, N_MEM, MEM_DIM, KEY_DIM, N_HEADS)\n",
        "print(sum([p.numel() for p in mem.parameters()]))"
      ]
    },
    {
      "cell_type": "code",
      "execution_count": 154,
      "metadata": {},
      "outputs": [],
      "source": [
        "txt = 'The quick brown fox jumps over the lazy dog.'\n",
        "encoded = encode(txt)"
      ]
    },
    {
      "cell_type": "code",
      "execution_count": 155,
      "metadata": {},
      "outputs": [],
      "source": [
        "# UNBATCHED INPUT\n",
        "\n",
        "mem.reset_memory()\n",
        "for code in encoded:\n",
        "    t = enc2seq([code])\n",
        "    t = torch.rand(1,len_abc)\n",
        "    m_r = mem(t)#; print(f'{m_r.shape=}')"
      ]
    },
    {
      "cell_type": "code",
      "execution_count": 156,
      "metadata": {},
      "outputs": [],
      "source": [
        "# BATCHED INPUT\n",
        "\n",
        "mem.reset_memory()\n",
        "for code in encoded:\n",
        "    t = enc2seq([code])\n",
        "    t = t.expand(8, *t.shape)\n",
        "    m_r = mem(t)#; print(f'{m_r.shape=}')"
      ]
    }
  ],
  "metadata": {
    "colab": {
      "provenance": [],
      "toc_visible": true
    },
    "kernelspec": {
      "display_name": ".pytorch",
      "language": "python",
      "name": "python3"
    },
    "language_info": {
      "codemirror_mode": {
        "name": "ipython",
        "version": 3
      },
      "file_extension": ".py",
      "mimetype": "text/x-python",
      "name": "python",
      "nbconvert_exporter": "python",
      "pygments_lexer": "ipython3",
      "version": "3.12.8"
    }
  },
  "nbformat": 4,
  "nbformat_minor": 0
}
